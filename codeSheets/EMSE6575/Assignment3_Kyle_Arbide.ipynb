{
 "cells": [
  {
   "cell_type": "code",
   "execution_count": 1,
   "id": "5cb43071",
   "metadata": {},
   "outputs": [],
   "source": [
    "import pandas as pd\n",
    "import numpy as np"
   ]
  },
  {
   "cell_type": "code",
   "execution_count": 2,
   "id": "09a840fd",
   "metadata": {},
   "outputs": [
    {
     "data": {
      "text/html": [
       "<div>\n",
       "<style scoped>\n",
       "    .dataframe tbody tr th:only-of-type {\n",
       "        vertical-align: middle;\n",
       "    }\n",
       "\n",
       "    .dataframe tbody tr th {\n",
       "        vertical-align: top;\n",
       "    }\n",
       "\n",
       "    .dataframe thead th {\n",
       "        text-align: right;\n",
       "    }\n",
       "</style>\n",
       "<table border=\"1\" class=\"dataframe\">\n",
       "  <thead>\n",
       "    <tr style=\"text-align: right;\">\n",
       "      <th></th>\n",
       "      <th>Classes</th>\n",
       "      <th>cap-shape</th>\n",
       "      <th>cap-surface</th>\n",
       "      <th>cap-color</th>\n",
       "      <th>bruises</th>\n",
       "      <th>odor</th>\n",
       "      <th>gill-attachment</th>\n",
       "      <th>gill-spacing</th>\n",
       "      <th>gill-size</th>\n",
       "      <th>gill-color</th>\n",
       "      <th>...</th>\n",
       "      <th>stalk-surface-below-ring</th>\n",
       "      <th>stalk-color-above-ring</th>\n",
       "      <th>stalk-color-below-ring</th>\n",
       "      <th>veil-type</th>\n",
       "      <th>veil-color</th>\n",
       "      <th>ring-number</th>\n",
       "      <th>ring-type</th>\n",
       "      <th>spore-print-color</th>\n",
       "      <th>population</th>\n",
       "      <th>habitat</th>\n",
       "    </tr>\n",
       "  </thead>\n",
       "  <tbody>\n",
       "    <tr>\n",
       "      <th>0</th>\n",
       "      <td>p</td>\n",
       "      <td>x</td>\n",
       "      <td>s</td>\n",
       "      <td>n</td>\n",
       "      <td>t</td>\n",
       "      <td>p</td>\n",
       "      <td>f</td>\n",
       "      <td>c</td>\n",
       "      <td>n</td>\n",
       "      <td>k</td>\n",
       "      <td>...</td>\n",
       "      <td>s</td>\n",
       "      <td>w</td>\n",
       "      <td>w</td>\n",
       "      <td>p</td>\n",
       "      <td>w</td>\n",
       "      <td>o</td>\n",
       "      <td>p</td>\n",
       "      <td>k</td>\n",
       "      <td>s</td>\n",
       "      <td>u</td>\n",
       "    </tr>\n",
       "    <tr>\n",
       "      <th>1</th>\n",
       "      <td>e</td>\n",
       "      <td>x</td>\n",
       "      <td>s</td>\n",
       "      <td>y</td>\n",
       "      <td>t</td>\n",
       "      <td>a</td>\n",
       "      <td>f</td>\n",
       "      <td>c</td>\n",
       "      <td>b</td>\n",
       "      <td>k</td>\n",
       "      <td>...</td>\n",
       "      <td>s</td>\n",
       "      <td>w</td>\n",
       "      <td>w</td>\n",
       "      <td>p</td>\n",
       "      <td>w</td>\n",
       "      <td>o</td>\n",
       "      <td>p</td>\n",
       "      <td>n</td>\n",
       "      <td>n</td>\n",
       "      <td>g</td>\n",
       "    </tr>\n",
       "    <tr>\n",
       "      <th>2</th>\n",
       "      <td>e</td>\n",
       "      <td>b</td>\n",
       "      <td>s</td>\n",
       "      <td>w</td>\n",
       "      <td>t</td>\n",
       "      <td>l</td>\n",
       "      <td>f</td>\n",
       "      <td>c</td>\n",
       "      <td>b</td>\n",
       "      <td>n</td>\n",
       "      <td>...</td>\n",
       "      <td>s</td>\n",
       "      <td>w</td>\n",
       "      <td>w</td>\n",
       "      <td>p</td>\n",
       "      <td>w</td>\n",
       "      <td>o</td>\n",
       "      <td>p</td>\n",
       "      <td>n</td>\n",
       "      <td>n</td>\n",
       "      <td>m</td>\n",
       "    </tr>\n",
       "    <tr>\n",
       "      <th>3</th>\n",
       "      <td>p</td>\n",
       "      <td>x</td>\n",
       "      <td>y</td>\n",
       "      <td>w</td>\n",
       "      <td>t</td>\n",
       "      <td>p</td>\n",
       "      <td>f</td>\n",
       "      <td>c</td>\n",
       "      <td>n</td>\n",
       "      <td>n</td>\n",
       "      <td>...</td>\n",
       "      <td>s</td>\n",
       "      <td>w</td>\n",
       "      <td>w</td>\n",
       "      <td>p</td>\n",
       "      <td>w</td>\n",
       "      <td>o</td>\n",
       "      <td>p</td>\n",
       "      <td>k</td>\n",
       "      <td>s</td>\n",
       "      <td>u</td>\n",
       "    </tr>\n",
       "    <tr>\n",
       "      <th>4</th>\n",
       "      <td>e</td>\n",
       "      <td>x</td>\n",
       "      <td>s</td>\n",
       "      <td>g</td>\n",
       "      <td>f</td>\n",
       "      <td>n</td>\n",
       "      <td>f</td>\n",
       "      <td>w</td>\n",
       "      <td>b</td>\n",
       "      <td>k</td>\n",
       "      <td>...</td>\n",
       "      <td>s</td>\n",
       "      <td>w</td>\n",
       "      <td>w</td>\n",
       "      <td>p</td>\n",
       "      <td>w</td>\n",
       "      <td>o</td>\n",
       "      <td>e</td>\n",
       "      <td>n</td>\n",
       "      <td>a</td>\n",
       "      <td>g</td>\n",
       "    </tr>\n",
       "  </tbody>\n",
       "</table>\n",
       "<p>5 rows × 23 columns</p>\n",
       "</div>"
      ],
      "text/plain": [
       "  Classes cap-shape cap-surface cap-color bruises odor gill-attachment  \\\n",
       "0       p         x           s         n       t    p               f   \n",
       "1       e         x           s         y       t    a               f   \n",
       "2       e         b           s         w       t    l               f   \n",
       "3       p         x           y         w       t    p               f   \n",
       "4       e         x           s         g       f    n               f   \n",
       "\n",
       "  gill-spacing gill-size gill-color  ... stalk-surface-below-ring  \\\n",
       "0            c         n          k  ...                        s   \n",
       "1            c         b          k  ...                        s   \n",
       "2            c         b          n  ...                        s   \n",
       "3            c         n          n  ...                        s   \n",
       "4            w         b          k  ...                        s   \n",
       "\n",
       "  stalk-color-above-ring stalk-color-below-ring veil-type veil-color  \\\n",
       "0                      w                      w         p          w   \n",
       "1                      w                      w         p          w   \n",
       "2                      w                      w         p          w   \n",
       "3                      w                      w         p          w   \n",
       "4                      w                      w         p          w   \n",
       "\n",
       "  ring-number ring-type spore-print-color population habitat  \n",
       "0           o         p                 k          s       u  \n",
       "1           o         p                 n          n       g  \n",
       "2           o         p                 n          n       m  \n",
       "3           o         p                 k          s       u  \n",
       "4           o         e                 n          a       g  \n",
       "\n",
       "[5 rows x 23 columns]"
      ]
     },
     "execution_count": 2,
     "metadata": {},
     "output_type": "execute_result"
    }
   ],
   "source": [
    "mushrooms_df = pd.read_csv('agaricus-lepiota.data', header = None)\n",
    "mushrooms_df.columns = ['Classes','cap-shape','cap-surface','cap-color','bruises','odor','gill-attachment','gill-spacing',\n",
    "                       'gill-size','gill-color','stalk-shape','stalk-root','stalk-surface-above-ring','stalk-surface-below-ring',\n",
    "                       'stalk-color-above-ring','stalk-color-below-ring','veil-type','veil-color','ring-number','ring-type',\n",
    "                       'spore-print-color','population','habitat']\n",
    "mushrooms_df.head()"
   ]
  },
  {
   "cell_type": "code",
   "execution_count": 3,
   "id": "eb37b7df",
   "metadata": {},
   "outputs": [],
   "source": [
    "mushrooms_df.replace({'?':None}, inplace = True)"
   ]
  },
  {
   "cell_type": "code",
   "execution_count": 4,
   "id": "b46a101c",
   "metadata": {},
   "outputs": [
    {
     "name": "stdout",
     "output_type": "stream",
     "text": [
      "Classes                        0\n",
      "cap-shape                      0\n",
      "cap-surface                    0\n",
      "cap-color                      0\n",
      "bruises                        0\n",
      "odor                           0\n",
      "gill-attachment                0\n",
      "gill-spacing                   0\n",
      "gill-size                      0\n",
      "gill-color                     0\n",
      "stalk-shape                    0\n",
      "stalk-root                  2480\n",
      "stalk-surface-above-ring       0\n",
      "stalk-surface-below-ring       0\n",
      "stalk-color-above-ring         0\n",
      "stalk-color-below-ring         0\n",
      "veil-type                      0\n",
      "veil-color                     0\n",
      "ring-number                    0\n",
      "ring-type                      0\n",
      "spore-print-color              0\n",
      "population                     0\n",
      "habitat                        0\n",
      "dtype: int64\n",
      "Classes                     object\n",
      "cap-shape                   object\n",
      "cap-surface                 object\n",
      "cap-color                   object\n",
      "bruises                     object\n",
      "odor                        object\n",
      "gill-attachment             object\n",
      "gill-spacing                object\n",
      "gill-size                   object\n",
      "gill-color                  object\n",
      "stalk-shape                 object\n",
      "stalk-root                  object\n",
      "stalk-surface-above-ring    object\n",
      "stalk-surface-below-ring    object\n",
      "stalk-color-above-ring      object\n",
      "stalk-color-below-ring      object\n",
      "veil-type                   object\n",
      "veil-color                  object\n",
      "ring-number                 object\n",
      "ring-type                   object\n",
      "spore-print-color           object\n",
      "population                  object\n",
      "habitat                     object\n",
      "dtype: object\n",
      "(8124, 23)\n"
     ]
    }
   ],
   "source": [
    "print(mushrooms_df.isna().sum())\n",
    "print(mushrooms_df.dtypes)\n",
    "print(mushrooms_df.shape)"
   ]
  },
  {
   "cell_type": "code",
   "execution_count": 5,
   "id": "a95bf919",
   "metadata": {},
   "outputs": [],
   "source": [
    "mushrooms_df.dropna(inplace = True)"
   ]
  },
  {
   "cell_type": "code",
   "execution_count": 6,
   "id": "39fb7950",
   "metadata": {},
   "outputs": [
    {
     "name": "stdout",
     "output_type": "stream",
     "text": [
      "[array(['e', 'p'], dtype=object)]\n",
      "0.9927659574468086\n"
     ]
    },
    {
     "data": {
      "image/png": "[encoded data removed]",
      "text/plain": [
       "<Figure size 432x288 with 2 Axes>"
      ]
     },
     "metadata": {
      "needs_background": "light"
     },
     "output_type": "display_data"
    }
   ],
   "source": [
    "from sklearn.linear_model import LogisticRegression\n",
    "from sklearn.model_selection import KFold\n",
    "from sklearn.model_selection import train_test_split\n",
    "from sklearn.preprocessing import OneHotEncoder\n",
    "from sklearn.preprocessing import OrdinalEncoder\n",
    "from sklearn.metrics import confusion_matrix\n",
    "from sklearn.metrics import mean_squared_error, f1_score\n",
    "from sklearn.metrics import ConfusionMatrixDisplay\n",
    "\n",
    "\"\"\"\n",
    "Question 1\n",
    "Fitting the Logistic regression\n",
    "First I transform both features and classes\n",
    "Then I split into K folds\n",
    "Finally we train and score each fold and display the results\n",
    "This model averages 0.9 for R2 score\n",
    "However it incorrectly labels 44 truely poisonous mushrooms\n",
    "\"\"\"\n",
    "X = mushrooms_df.drop('Classes', axis = 1)\n",
    "y = mushrooms_df['Classes'].to_numpy()\n",
    "\n",
    "enc = OneHotEncoder()\n",
    "enc_y = OrdinalEncoder()\n",
    "X = enc.fit_transform(X)\n",
    "\n",
    "enc_y.fit(y.reshape(-1, 1))\n",
    "y = enc_y.transform(y.reshape(-1, 1))\n",
    "\n",
    "kf = KFold(n_splits = 10)\n",
    "f1 = []\n",
    "cf_matrix = [[0,0],[0,0]]\n",
    "\n",
    "for train_index, test_index in kf.split(X):\n",
    "    X_train, X_test = X[train_index], X[test_index]\n",
    "    y_train, y_test = y[train_index], y[test_index]\n",
    "    \n",
    "    log_reg = LogisticRegression().fit(X_train, np.concatenate(y_train, axis=0))\n",
    "    \n",
    "    pred = log_reg.predict(X_test)\n",
    "    f1.append(f1_score(y_test,pred))\n",
    "    cf_matrix += confusion_matrix(y_test,pred)\n",
    "    \n",
    "print(enc_y.categories_)\n",
    "print(np.mean(f1))\n",
    "cm_display = ConfusionMatrixDisplay(cf_matrix).plot()"
   ]
  },
  {
   "cell_type": "code",
   "execution_count": 7,
   "id": "02a010f7",
   "metadata": {},
   "outputs": [
    {
     "name": "stdout",
     "output_type": "stream",
     "text": [
      "0.54\n",
      "0.0\n",
      "0.0\n",
      "0.1724137931034483\n",
      "0.7659574468085107\n",
      "0.9207547169811321\n",
      "0.9156626506024096\n",
      "0.9938144329896906\n",
      "0.9906015037593985\n",
      "0.9162995594713657\n",
      "[array(['e', 'p'], dtype=object)]\n",
      "0.6215504103715955\n"
     ]
    },
    {
     "data": {
      "image/png": "[encoded data removed]",
      "text/plain": [
       "<Figure size 432x288 with 2 Axes>"
      ]
     },
     "metadata": {
      "needs_background": "light"
     },
     "output_type": "display_data"
    }
   ],
   "source": [
    "from sklearn.naive_bayes import BernoulliNB\n",
    "\n",
    "\"\"\"\n",
    "We can also fit the BernoulliNB classifier and run the same classification\n",
    "However, this time our R2 is much lower\n",
    "We can see by printing the R2 from each fold that some folds perform very poorly\n",
    "So for this example Logistic Regression is a better classifier\n",
    "\"\"\"\n",
    "X = mushrooms_df.drop('Classes', axis = 1)\n",
    "enc = OrdinalEncoder()\n",
    "X = enc.fit_transform(X)\n",
    "\n",
    "kf = KFold(n_splits = 10)\n",
    "f1 = []\n",
    "cf_matrix = [[0,0],[0,0]]\n",
    "\n",
    "for train_index, test_index in kf.split(X):\n",
    "    X_train, X_test = X[train_index], X[test_index]\n",
    "    y_train, y_test = y[train_index], y[test_index]\n",
    "    \n",
    "    log_reg = BernoulliNB().fit(X_train, np.concatenate(y_train, axis=0))\n",
    "    \n",
    "    pred = log_reg.predict(X_test)\n",
    "    print(f1_score(y_test,pred))\n",
    "    f1.append(f1_score(y_test,pred))\n",
    "    cf_matrix += confusion_matrix(y_test,pred)\n",
    "    \n",
    "print(enc_y.categories_)\n",
    "print(np.mean(f1))\n",
    "cm_display = ConfusionMatrixDisplay(cf_matrix).plot()"
   ]
  },
  {
   "cell_type": "code",
   "execution_count": 8,
   "id": "e257b3b5",
   "metadata": {},
   "outputs": [
    {
     "data": {
      "text/plain": [
       "{'last_letter': 'k'}"
      ]
     },
     "execution_count": 8,
     "metadata": {},
     "output_type": "execute_result"
    }
   ],
   "source": [
    "# Example exercise from CH 6\n",
    ">>> def gender_features(word):\n",
    "...     return {'last_letter': word[-1]}\n",
    ">>> gender_features('Shrek')"
   ]
  },
  {
   "cell_type": "code",
   "execution_count": 9,
   "id": "bbf6b1d0",
   "metadata": {},
   "outputs": [],
   "source": [
    ">>> import nltk\n",
    "# >>> nltk.download('names')\n",
    ">>> from nltk.corpus import names\n",
    ">>> labeled_names = ([(name, 'male') for name in names.words('male.txt')] +\n",
    "... [(name, 'female') for name in names.words('female.txt')])\n",
    ">>> import random\n",
    ">>> random.shuffle(labeled_names)"
   ]
  },
  {
   "cell_type": "code",
   "execution_count": 10,
   "id": "c2633500",
   "metadata": {},
   "outputs": [],
   "source": [
    ">>> featuresets = [(gender_features(n), gender) for (n, gender) in labeled_names]\n",
    ">>> train_set, test_set = featuresets[500:], featuresets[:500]\n",
    ">>> classifier = nltk.NaiveBayesClassifier.train(train_set)"
   ]
  },
  {
   "cell_type": "code",
   "execution_count": 11,
   "id": "70a43d11",
   "metadata": {},
   "outputs": [
    {
     "data": {
      "text/plain": [
       "'female'"
      ]
     },
     "execution_count": 11,
     "metadata": {},
     "output_type": "execute_result"
    }
   ],
   "source": [
    ">>> classifier.classify(gender_features('Trinity'))"
   ]
  },
  {
   "cell_type": "code",
   "execution_count": 12,
   "id": "faf40449",
   "metadata": {},
   "outputs": [
    {
     "name": "stdout",
     "output_type": "stream",
     "text": [
      "0.766\n"
     ]
    }
   ],
   "source": [
    ">>> print(nltk.classify.accuracy(classifier, test_set))"
   ]
  },
  {
   "cell_type": "code",
   "execution_count": 13,
   "id": "481ce27a",
   "metadata": {},
   "outputs": [
    {
     "name": "stdout",
     "output_type": "stream",
     "text": [
      "Most Informative Features\n",
      "             last_letter = 'a'            female : male   =     37.2 : 1.0\n",
      "             last_letter = 'k'              male : female =     31.6 : 1.0\n",
      "             last_letter = 'f'              male : female =     16.5 : 1.0\n",
      "             last_letter = 'p'              male : female =     11.8 : 1.0\n",
      "             last_letter = 'v'              male : female =     10.5 : 1.0\n"
     ]
    }
   ],
   "source": [
    ">>> classifier.show_most_informative_features(5)"
   ]
  },
  {
   "cell_type": "code",
   "execution_count": 14,
   "id": "78795cd7",
   "metadata": {},
   "outputs": [
    {
     "data": {
      "text/plain": [
       "{'last_letter': 'k',\n",
       " 'last_2_letters': 'ek',\n",
       " 'first_letter': 'S',\n",
       " 'first_2_letters': 'Sh'}"
      ]
     },
     "execution_count": 14,
     "metadata": {},
     "output_type": "execute_result"
    }
   ],
   "source": [
    "#Now lets make our own with 4 features\n",
    "def gender_features_4(word):\n",
    "    return {'last_letter': word[-1],'last_2_letters': word[-2:],'first_letter': word[0], 'first_2_letters': word[:2]}\n",
    "gender_features_4('Shrek')"
   ]
  },
  {
   "cell_type": "code",
   "execution_count": 15,
   "id": "055a7b2a",
   "metadata": {},
   "outputs": [],
   "source": [
    "labeled_names = ([(name, 'male') for name in names.words('male.txt')] +\n",
    "[(name, 'female') for name in names.words('female.txt')])\n",
    "random.shuffle(labeled_names)\n",
    "\n",
    "featuresets = [(gender_features_4(n), gender) for (n, gender) in labeled_names]\n",
    "train_set, test_set = featuresets[500:], featuresets[:500]\n",
    "classifier = nltk.NaiveBayesClassifier.train(train_set)"
   ]
  },
  {
   "cell_type": "code",
   "execution_count": 16,
   "id": "f16ef5f3",
   "metadata": {},
   "outputs": [
    {
     "name": "stdout",
     "output_type": "stream",
     "text": [
      "0.812\n"
     ]
    }
   ],
   "source": [
    "print(nltk.classify.accuracy(classifier, test_set))"
   ]
  },
  {
   "cell_type": "code",
   "execution_count": 17,
   "id": "e31b4faf",
   "metadata": {},
   "outputs": [
    {
     "name": "stdout",
     "output_type": "stream",
     "text": [
      "Most Informative Features\n",
      "          last_2_letters = 'na'           female : male   =    163.3 : 1.0\n",
      "          last_2_letters = 'la'           female : male   =     74.6 : 1.0\n",
      "          last_2_letters = 'ia'           female : male   =     40.0 : 1.0\n",
      "          last_2_letters = 'sa'           female : male   =     36.4 : 1.0\n",
      "             last_letter = 'a'            female : male   =     34.3 : 1.0\n",
      "             last_letter = 'k'              male : female =     31.5 : 1.0\n",
      "          last_2_letters = 'us'             male : female =     30.4 : 1.0\n",
      "          last_2_letters = 'ra'           female : male   =     26.5 : 1.0\n",
      "          last_2_letters = 'do'             male : female =     26.3 : 1.0\n",
      "          last_2_letters = 'ta'           female : male   =     25.3 : 1.0\n"
     ]
    }
   ],
   "source": [
    "classifier.show_most_informative_features(10)"
   ]
  },
  {
   "cell_type": "markdown",
   "id": "dce20a00",
   "metadata": {},
   "source": [
    "By adding last_2_letters, first_letter, and first_2_letters, we were able to raise the accuracy of our model\n",
    "\n",
    "Looking at the most informative features, we see some of the last_2_letter features returned very high odds ratios"
   ]
  },
  {
   "cell_type": "code",
   "execution_count": 18,
   "id": "e8f70bd2",
   "metadata": {},
   "outputs": [
    {
     "name": "stdout",
     "output_type": "stream",
     "text": [
      "0.7857142857142857\n"
     ]
    }
   ],
   "source": [
    "# Now we can test the accuracy on the students in the class\n",
    "student_names = [('Alex','male'),('Asare','male'),('Ashley','female'),('Ben','male'),('Brian','male'),('Isha','female'),('Issy','female'),\n",
    "('Kyle','male'),('Madhavi', 'female'),('Matthew','male'),('Neel','male'),('Patrick', 'male'), \n",
    " ('Sanskriti','female'),('Tianye','male')]\n",
    "\n",
    "student_features = [(gender_features_4(n), gender) for (n, gender) in student_names]\n",
    "\n",
    "print(nltk.classify.accuracy(classifier, student_features))"
   ]
  },
  {
   "cell_type": "code",
   "execution_count": 19,
   "id": "28943783",
   "metadata": {},
   "outputs": [
    {
     "name": "stdout",
     "output_type": "stream",
     "text": [
      "0.6486486486486488\n"
     ]
    },
    {
     "data": {
      "image/png": "[encoded data removed]",
      "text/plain": [
       "<Figure size 432x288 with 2 Axes>"
      ]
     },
     "metadata": {
      "needs_background": "light"
     },
     "output_type": "display_data"
    }
   ],
   "source": [
    "# First we format for logisitic regression\n",
    "features = map(lambda x: x[0], featuresets)\n",
    "features_list = [x for x in features]\n",
    "features_list = [list(idx.values()) for idx in features_list] \n",
    "\n",
    "classes = map(lambda x: x[1], featuresets)\n",
    "classes_list = np.array([x for x in classes])\n",
    "\n",
    "features_list, classes_list = features_list[:1000], classes_list[:1000]\n",
    "\n",
    "# Then lets encode the features and classes\n",
    "enc = OneHotEncoder()\n",
    "enc_y = OrdinalEncoder()\n",
    "X = enc.fit_transform(features_list)\n",
    "\n",
    "enc_y.fit(classes_list.reshape(-1, 1))\n",
    "y = enc_y.transform(classes_list.reshape(-1, 1))\n",
    "\n",
    "X_train, X_test, y_train, y_test = train_test_split(X, y, test_size=0.5)\n",
    "\n",
    "log_reg = LogisticRegression().fit(X_train, np.concatenate(y_train, axis=0))\n",
    "\n",
    "pred = log_reg.predict(X_test)\n",
    "print(f1_score(y_test,pred))\n",
    "\n",
    "cm_display = ConfusionMatrixDisplay(confusion_matrix(y_test,pred)).plot()"
   ]
  },
  {
   "cell_type": "markdown",
   "id": "7d7f870c",
   "metadata": {},
   "source": [
    "The logistic regression model performs much worse than the Niave bayes classifier from before"
   ]
  },
  {
   "cell_type": "code",
   "execution_count": 20,
   "id": "afcba9b5",
   "metadata": {},
   "outputs": [
    {
     "data": {
      "text/html": [
       "<div>\n",
       "<style scoped>\n",
       "    .dataframe tbody tr th:only-of-type {\n",
       "        vertical-align: middle;\n",
       "    }\n",
       "\n",
       "    .dataframe tbody tr th {\n",
       "        vertical-align: top;\n",
       "    }\n",
       "\n",
       "    .dataframe thead th {\n",
       "        text-align: right;\n",
       "    }\n",
       "</style>\n",
       "<table border=\"1\" class=\"dataframe\">\n",
       "  <thead>\n",
       "    <tr style=\"text-align: right;\">\n",
       "      <th></th>\n",
       "      <th>Pregnancies</th>\n",
       "      <th>Glucose</th>\n",
       "      <th>BloodPressure</th>\n",
       "      <th>SkinThickness</th>\n",
       "      <th>Insulin</th>\n",
       "      <th>BMI</th>\n",
       "      <th>DiabetesPedigreeFunction</th>\n",
       "      <th>Age</th>\n",
       "      <th>Outcome</th>\n",
       "    </tr>\n",
       "  </thead>\n",
       "  <tbody>\n",
       "    <tr>\n",
       "      <th>0</th>\n",
       "      <td>6</td>\n",
       "      <td>148</td>\n",
       "      <td>72</td>\n",
       "      <td>35</td>\n",
       "      <td>0</td>\n",
       "      <td>33.6</td>\n",
       "      <td>0.627</td>\n",
       "      <td>50</td>\n",
       "      <td>1</td>\n",
       "    </tr>\n",
       "    <tr>\n",
       "      <th>1</th>\n",
       "      <td>1</td>\n",
       "      <td>85</td>\n",
       "      <td>66</td>\n",
       "      <td>29</td>\n",
       "      <td>0</td>\n",
       "      <td>26.6</td>\n",
       "      <td>0.351</td>\n",
       "      <td>31</td>\n",
       "      <td>0</td>\n",
       "    </tr>\n",
       "    <tr>\n",
       "      <th>2</th>\n",
       "      <td>8</td>\n",
       "      <td>183</td>\n",
       "      <td>64</td>\n",
       "      <td>0</td>\n",
       "      <td>0</td>\n",
       "      <td>23.3</td>\n",
       "      <td>0.672</td>\n",
       "      <td>32</td>\n",
       "      <td>1</td>\n",
       "    </tr>\n",
       "    <tr>\n",
       "      <th>3</th>\n",
       "      <td>1</td>\n",
       "      <td>89</td>\n",
       "      <td>66</td>\n",
       "      <td>23</td>\n",
       "      <td>94</td>\n",
       "      <td>28.1</td>\n",
       "      <td>0.167</td>\n",
       "      <td>21</td>\n",
       "      <td>0</td>\n",
       "    </tr>\n",
       "    <tr>\n",
       "      <th>4</th>\n",
       "      <td>0</td>\n",
       "      <td>137</td>\n",
       "      <td>40</td>\n",
       "      <td>35</td>\n",
       "      <td>168</td>\n",
       "      <td>43.1</td>\n",
       "      <td>2.288</td>\n",
       "      <td>33</td>\n",
       "      <td>1</td>\n",
       "    </tr>\n",
       "  </tbody>\n",
       "</table>\n",
       "</div>"
      ],
      "text/plain": [
       "   Pregnancies  Glucose  BloodPressure  SkinThickness  Insulin   BMI  \\\n",
       "0            6      148             72             35        0  33.6   \n",
       "1            1       85             66             29        0  26.6   \n",
       "2            8      183             64              0        0  23.3   \n",
       "3            1       89             66             23       94  28.1   \n",
       "4            0      137             40             35      168  43.1   \n",
       "\n",
       "   DiabetesPedigreeFunction  Age  Outcome  \n",
       "0                     0.627   50        1  \n",
       "1                     0.351   31        0  \n",
       "2                     0.672   32        1  \n",
       "3                     0.167   21        0  \n",
       "4                     2.288   33        1  "
      ]
     },
     "execution_count": 20,
     "metadata": {},
     "output_type": "execute_result"
    }
   ],
   "source": [
    "\"\"\"\n",
    "Question 3: Diabetes dataset\n",
    "\"\"\"\n",
    "diabetes_df = pd.read_csv(\"diabetes.csv\")\n",
    "diabetes_df.head()\n"
   ]
  },
  {
   "cell_type": "code",
   "execution_count": 21,
   "id": "60068137",
   "metadata": {},
   "outputs": [
    {
     "name": "stdout",
     "output_type": "stream",
     "text": [
      "Pregnancies                 0\n",
      "Glucose                     0\n",
      "BloodPressure               0\n",
      "SkinThickness               0\n",
      "Insulin                     0\n",
      "BMI                         0\n",
      "DiabetesPedigreeFunction    0\n",
      "Age                         0\n",
      "Outcome                     0\n",
      "dtype: int64\n",
      "Pregnancies                   int64\n",
      "Glucose                       int64\n",
      "BloodPressure                 int64\n",
      "SkinThickness                 int64\n",
      "Insulin                       int64\n",
      "BMI                         float64\n",
      "DiabetesPedigreeFunction    float64\n",
      "Age                           int64\n",
      "Outcome                       int64\n",
      "dtype: object\n",
      "(768, 9)\n"
     ]
    }
   ],
   "source": [
    "print(diabetes_df.isna().sum())\n",
    "print(diabetes_df.dtypes)\n",
    "print(diabetes_df.shape)"
   ]
  },
  {
   "cell_type": "code",
   "execution_count": 22,
   "id": "c93d1110",
   "metadata": {},
   "outputs": [],
   "source": [
    "from sklearn.preprocessing import StandardScaler\n",
    "\n",
    "X = diabetes_df.drop('Outcome', axis = 1)\n",
    "y = np.array(diabetes_df['Outcome'])\n",
    "\n",
    "scaler = StandardScaler().fit(X)\n",
    "X = scaler.transform(X)\n",
    "\n",
    "X_test = X[-200:]\n",
    "y_test = y[-200:]"
   ]
  },
  {
   "cell_type": "code",
   "execution_count": 23,
   "id": "0cc1427b",
   "metadata": {},
   "outputs": [
    {
     "data": {
      "image/png": "[encoded data removed]",
      "text/plain": [
       "<Figure size 432x288 with 1 Axes>"
      ]
     },
     "metadata": {
      "needs_background": "light"
     },
     "output_type": "display_data"
    }
   ],
   "source": [
    "import matplotlib.pyplot as plt\n",
    "trainings_sizes = np.arange(10,501,10)\n",
    "\n",
    "accuracy_scores = []\n",
    "\n",
    "for training_size in trainings_sizes:\n",
    "    X_train = X[:training_size]\n",
    "    y_train = y[:training_size]\n",
    "    \n",
    "    log_reg = LogisticRegression().fit(X_train, y_train)\n",
    "    \n",
    "    pred = log_reg.predict(X_test)\n",
    "    accuracy_scores.append(f1_score(y_test,pred))\n",
    "    \n",
    "plt.plot(accuracy_scores)\n",
    "plt.xticks(np.arange(0,50,5),labels = trainings_sizes[0::5])\n",
    "plt.xlabel('Training Size')\n",
    "plt.ylabel('F1 Score')\n",
    "plt.show()"
   ]
  },
  {
   "cell_type": "markdown",
   "id": "94a256d7",
   "metadata": {},
   "source": [
    "We see from the plot above that the classifier starts to perform better around training size of 60.\n",
    "\n",
    "However, the accuracy never jumps above 0.72 therefore logistic regression is not a strong fit.\n",
    "\n",
    "It is also important to note that the model peaks at a training size of around 240"
   ]
  },
  {
   "cell_type": "code",
   "execution_count": 24,
   "id": "f5eac39d",
   "metadata": {},
   "outputs": [
    {
     "data": {
      "text/html": [
       "<div>\n",
       "<style scoped>\n",
       "    .dataframe tbody tr th:only-of-type {\n",
       "        vertical-align: middle;\n",
       "    }\n",
       "\n",
       "    .dataframe tbody tr th {\n",
       "        vertical-align: top;\n",
       "    }\n",
       "\n",
       "    .dataframe thead th {\n",
       "        text-align: right;\n",
       "    }\n",
       "</style>\n",
       "<table border=\"1\" class=\"dataframe\">\n",
       "  <thead>\n",
       "    <tr style=\"text-align: right;\">\n",
       "      <th></th>\n",
       "      <th>name</th>\n",
       "      <th>class</th>\n",
       "      <th>weight</th>\n",
       "      <th>birth_year</th>\n",
       "    </tr>\n",
       "  </thead>\n",
       "  <tbody>\n",
       "    <tr>\n",
       "      <th>0</th>\n",
       "      <td>Mary</td>\n",
       "      <td>F</td>\n",
       "      <td>7065</td>\n",
       "      <td>1880</td>\n",
       "    </tr>\n",
       "    <tr>\n",
       "      <th>1</th>\n",
       "      <td>Anna</td>\n",
       "      <td>F</td>\n",
       "      <td>2604</td>\n",
       "      <td>1880</td>\n",
       "    </tr>\n",
       "    <tr>\n",
       "      <th>2</th>\n",
       "      <td>Emma</td>\n",
       "      <td>F</td>\n",
       "      <td>2003</td>\n",
       "      <td>1880</td>\n",
       "    </tr>\n",
       "    <tr>\n",
       "      <th>3</th>\n",
       "      <td>Elizabeth</td>\n",
       "      <td>F</td>\n",
       "      <td>1939</td>\n",
       "      <td>1880</td>\n",
       "    </tr>\n",
       "    <tr>\n",
       "      <th>4</th>\n",
       "      <td>Minnie</td>\n",
       "      <td>F</td>\n",
       "      <td>1746</td>\n",
       "      <td>1880</td>\n",
       "    </tr>\n",
       "  </tbody>\n",
       "</table>\n",
       "</div>"
      ],
      "text/plain": [
       "        name class  weight  birth_year\n",
       "0       Mary     F    7065        1880\n",
       "1       Anna     F    2604        1880\n",
       "2       Emma     F    2003        1880\n",
       "3  Elizabeth     F    1939        1880\n",
       "4     Minnie     F    1746        1880"
      ]
     },
     "execution_count": 24,
     "metadata": {},
     "output_type": "execute_result"
    }
   ],
   "source": [
    "# Question 4\n",
    "from os import listdir\n",
    "li = []\n",
    "year = 1880\n",
    "\n",
    "for file in listdir('names'):\n",
    "    df = pd.read_csv(f'names/{file}', header = None)\n",
    "    df['birth_year'] = year\n",
    "    year += 1\n",
    "    li.append(df)\n",
    "\n",
    "baby_names_df = pd.concat(li)\n",
    "baby_names_df.columns = ['name','class','weight','birth_year']\n",
    "baby_names_df.head()"
   ]
  },
  {
   "cell_type": "code",
   "execution_count": 25,
   "id": "68aff683",
   "metadata": {},
   "outputs": [
    {
     "name": "stdout",
     "output_type": "stream",
     "text": [
      "name          0\n",
      "class         0\n",
      "weight        0\n",
      "birth_year    0\n",
      "dtype: int64\n",
      "name          object\n",
      "class         object\n",
      "weight         int64\n",
      "birth_year     int64\n",
      "dtype: object\n",
      "(2020863, 4)\n"
     ]
    }
   ],
   "source": [
    "print(baby_names_df.isna().sum())\n",
    "print(baby_names_df.dtypes)\n",
    "print(baby_names_df.shape)"
   ]
  },
  {
   "cell_type": "code",
   "execution_count": 26,
   "id": "ae9c9466",
   "metadata": {},
   "outputs": [
    {
     "data": {
      "text/html": [
       "<div>\n",
       "<style scoped>\n",
       "    .dataframe tbody tr th:only-of-type {\n",
       "        vertical-align: middle;\n",
       "    }\n",
       "\n",
       "    .dataframe tbody tr th {\n",
       "        vertical-align: top;\n",
       "    }\n",
       "\n",
       "    .dataframe thead th {\n",
       "        text-align: right;\n",
       "    }\n",
       "</style>\n",
       "<table border=\"1\" class=\"dataframe\">\n",
       "  <thead>\n",
       "    <tr style=\"text-align: right;\">\n",
       "      <th></th>\n",
       "      <th>weight</th>\n",
       "      <th>birth_year</th>\n",
       "    </tr>\n",
       "  </thead>\n",
       "  <tbody>\n",
       "    <tr>\n",
       "      <th>count</th>\n",
       "      <td>2.020863e+06</td>\n",
       "      <td>2.020863e+06</td>\n",
       "    </tr>\n",
       "    <tr>\n",
       "      <th>mean</th>\n",
       "      <td>1.773899e+02</td>\n",
       "      <td>1.976946e+03</td>\n",
       "    </tr>\n",
       "    <tr>\n",
       "      <th>std</th>\n",
       "      <td>1.502471e+03</td>\n",
       "      <td>3.451037e+01</td>\n",
       "    </tr>\n",
       "    <tr>\n",
       "      <th>min</th>\n",
       "      <td>5.000000e+00</td>\n",
       "      <td>1.880000e+03</td>\n",
       "    </tr>\n",
       "    <tr>\n",
       "      <th>25%</th>\n",
       "      <td>7.000000e+00</td>\n",
       "      <td>1.954000e+03</td>\n",
       "    </tr>\n",
       "    <tr>\n",
       "      <th>50%</th>\n",
       "      <td>1.200000e+01</td>\n",
       "      <td>1.987000e+03</td>\n",
       "    </tr>\n",
       "    <tr>\n",
       "      <th>75%</th>\n",
       "      <td>3.200000e+01</td>\n",
       "      <td>2.005000e+03</td>\n",
       "    </tr>\n",
       "    <tr>\n",
       "      <th>max</th>\n",
       "      <td>9.969300e+04</td>\n",
       "      <td>2.020000e+03</td>\n",
       "    </tr>\n",
       "  </tbody>\n",
       "</table>\n",
       "</div>"
      ],
      "text/plain": [
       "             weight    birth_year\n",
       "count  2.020863e+06  2.020863e+06\n",
       "mean   1.773899e+02  1.976946e+03\n",
       "std    1.502471e+03  3.451037e+01\n",
       "min    5.000000e+00  1.880000e+03\n",
       "25%    7.000000e+00  1.954000e+03\n",
       "50%    1.200000e+01  1.987000e+03\n",
       "75%    3.200000e+01  2.005000e+03\n",
       "max    9.969300e+04  2.020000e+03"
      ]
     },
     "execution_count": 26,
     "metadata": {},
     "output_type": "execute_result"
    }
   ],
   "source": [
    "baby_names_df.describe()"
   ]
  },
  {
   "cell_type": "code",
   "execution_count": 27,
   "id": "053174bf",
   "metadata": {},
   "outputs": [
    {
     "data": {
      "text/plain": [
       "<AxesSubplot:>"
      ]
     },
     "execution_count": 27,
     "metadata": {},
     "output_type": "execute_result"
    },
    {
     "data": {
      "image/png": "[encoded data removed]",
      "text/plain": [
       "<Figure size 432x288 with 1 Axes>"
      ]
     },
     "metadata": {
      "needs_background": "light"
     },
     "output_type": "display_data"
    }
   ],
   "source": [
    "baby_names_df['weight'].hist()"
   ]
  },
  {
   "cell_type": "code",
   "execution_count": 28,
   "id": "24df8979",
   "metadata": {},
   "outputs": [],
   "source": [
    "baby_names_df['class'].replace({'F':1,'M':0}, inplace = True)"
   ]
  },
  {
   "cell_type": "code",
   "execution_count": 29,
   "id": "04511d82",
   "metadata": {},
   "outputs": [],
   "source": [
    "# Create naive Bayes From scratch\n",
    "def create_probability(df, feature, value, Y, label,alpha):\n",
    "    df = df.loc[df[Y] == label]\n",
    "    df_x = df.loc[df[feature] == value]\n",
    "    \n",
    "    p_x_given_y = (sum(df_x['weight'])+alpha)/(sum(df['weight'])+alpha)\n",
    "    return(p_x_given_y)\n",
    "\n",
    "def class_probabilities(df,Y):\n",
    "    classes = [0,1]\n",
    "    probs = []\n",
    "    for i in classes:\n",
    "        df_class = df.loc[df[Y]==i]\n",
    "        probs.append(sum(df_class['weight'])/sum(df['weight']))\n",
    "    return(probs)\n",
    "\n",
    "def naive_bayes_classifier(df,test,Y,alpha):\n",
    "    features = ['name','birth_year']\n",
    "    classes = [0,1]\n",
    "    \n",
    "    probs = class_probabilities(df,Y)\n",
    "    \n",
    "    preds = []\n",
    "    \n",
    "    for index, row in test.iterrows():\n",
    "        likelihood = [1,1]\n",
    "        for ix,class_ in enumerate(classes):\n",
    "            for feature in features:\n",
    "                likelihood[ix] *= create_probability(df,feature,row[feature],Y,class_,alpha)\n",
    "                \n",
    "        post_prob = [1,1]\n",
    "        for ix,class_ in enumerate(classes):\n",
    "            post_prob[ix] = likelihood[ix]*probs[ix]\n",
    "            \n",
    "        preds.append(np.argmax(post_prob))\n",
    "        \n",
    "    return(preds)"
   ]
  },
  {
   "cell_type": "code",
   "execution_count": 30,
   "id": "eb4619ff",
   "metadata": {},
   "outputs": [],
   "source": [
    "# Now lets try with the students\n",
    "students_df = pd.DataFrame(student_names)\n",
    "students_df['birth_year'] = 1985\n",
    "students_df.columns = ['name','class','birth_year']\n",
    "students_df['class'].replace({'female':1,'male':0}, inplace = True)"
   ]
  },
  {
   "cell_type": "code",
   "execution_count": 31,
   "id": "c67c9329",
   "metadata": {},
   "outputs": [
    {
     "name": "stdout",
     "output_type": "stream",
     "text": [
      "[[9 0]\n",
      " [1 4]]\n",
      "0.888888888888889\n"
     ]
    }
   ],
   "source": [
    "from sklearn.metrics import f1_score\n",
    "students_x = students_df[['name','birth_year']]\n",
    "students_y = students_df['class']\n",
    "y_pred = naive_bayes_classifier(baby_names_df,students_x,'class',100)\n",
    "print(confusion_matrix(students_y,y_pred))\n",
    "print(f1_score(students_y,y_pred))"
   ]
  },
  {
   "cell_type": "code",
   "execution_count": 32,
   "id": "7cd3ba67",
   "metadata": {},
   "outputs": [
    {
     "name": "stdout",
     "output_type": "stream",
     "text": [
      "[0, 1, 0, 1]\n"
     ]
    }
   ],
   "source": [
    "# Finally lets try with the test case\n",
    "test_case = [[\"Dylan\",2001],['Madison',1992],['Tyler',2015],['Dana',2015]]\n",
    "test_case_df = pd.DataFrame(test_case)\n",
    "test_case_df.columns = ['name','birth_year']\n",
    "\n",
    "y_pred = naive_bayes_classifier(baby_names_df,test_case_df,'class',100)\n",
    "print(y_pred)\n"
   ]
  },
  {
   "cell_type": "markdown",
   "id": "39157ba2",
   "metadata": {},
   "source": [
    "The model works fairly well for both test cases, missing only one classification between the two tests"
   ]
  },
  {
   "cell_type": "code",
   "execution_count": 33,
   "id": "04ecd730",
   "metadata": {},
   "outputs": [
    {
     "data": {
      "text/plain": [
       "array([0, 1, 2])"
      ]
     },
     "execution_count": 33,
     "metadata": {},
     "output_type": "execute_result"
    }
   ],
   "source": [
    "# Question 5\n",
    ">>> from sklearn import datasets\n",
    ">>> iris_X, iris_y = datasets.load_iris(return_X_y=True)\n",
    ">>> np.unique(iris_y)"
   ]
  },
  {
   "cell_type": "code",
   "execution_count": 34,
   "id": "9378c7a9",
   "metadata": {},
   "outputs": [
    {
     "name": "stdout",
     "output_type": "stream",
     "text": [
      "[1 2 1 0 0 0 2 1 2 0]\n",
      "[1 1 1 0 0 0 2 1 2 0]\n"
     ]
    }
   ],
   "source": [
    ">>> np.random.seed(0)\n",
    ">>> indices = np.random.permutation(len(iris_X))\n",
    ">>> iris_X_train = iris_X[indices[:-10]]\n",
    ">>> iris_y_train = iris_y[indices[:-10]]\n",
    ">>> iris_X_test = iris_X[indices[-10:]]\n",
    ">>> iris_y_test = iris_y[indices[-10:]]\n",
    ">>> # Create and fit a nearest-neighbor classifier\n",
    ">>> from sklearn.neighbors import KNeighborsClassifier\n",
    ">>> knn = KNeighborsClassifier()\n",
    ">>> knn.fit(iris_X_train, iris_y_train)\n",
    "\n",
    "print(knn.predict(iris_X_test))\n",
    "\n",
    "print(iris_y_test)"
   ]
  },
  {
   "cell_type": "code",
   "execution_count": 35,
   "id": "3dc7dbe0",
   "metadata": {},
   "outputs": [],
   "source": [
    ">>> diabetes_X, diabetes_y = datasets.load_diabetes(return_X_y=True)\n",
    ">>> diabetes_X_train = diabetes_X[:-20]\n",
    ">>> diabetes_X_test  = diabetes_X[-20:]\n",
    ">>> diabetes_y_train = diabetes_y[:-20]\n",
    ">>> diabetes_y_test  = diabetes_y[-20:]"
   ]
  },
  {
   "cell_type": "code",
   "execution_count": 36,
   "id": "4f90b816",
   "metadata": {},
   "outputs": [
    {
     "name": "stdout",
     "output_type": "stream",
     "text": [
      "[ 3.03499549e-01 -2.37639315e+02  5.10530605e+02  3.27736980e+02\n",
      " -8.14131709e+02  4.92814588e+02  1.02848452e+02  1.84606489e+02\n",
      "  7.43519617e+02  7.60951722e+01]\n",
      "2004.5676026898211\n"
     ]
    },
    {
     "data": {
      "text/plain": [
       "0.5850753022690574"
      ]
     },
     "execution_count": 36,
     "metadata": {},
     "output_type": "execute_result"
    }
   ],
   "source": [
    ">>> from sklearn import linear_model\n",
    ">>> regr = linear_model.LinearRegression()\n",
    ">>> regr.fit(diabetes_X_train, diabetes_y_train)\n",
    "\n",
    ">>> print(regr.coef_) \n",
    "\n",
    ">>> # The mean square error\n",
    ">>> print(np.mean((regr.predict(diabetes_X_test) - diabetes_y_test)**2))\n",
    "\n",
    ">>> # Explained variance score: 1 is perfect prediction\n",
    ">>> # and 0 means that there is no linear relationship\n",
    ">>> # between X and y.\n",
    ">>> regr.score(diabetes_X_test, diabetes_y_test)"
   ]
  },
  {
   "cell_type": "code",
   "execution_count": 37,
   "id": "42c5df95",
   "metadata": {},
   "outputs": [
    {
     "data": {
      "image/png": "[encoded data removed]",
      "text/plain": [
       "<Figure size 432x288 with 1 Axes>"
      ]
     },
     "metadata": {
      "needs_background": "light"
     },
     "output_type": "display_data"
    }
   ],
   "source": [
    ">>> X = np.c_[ .5, 1].T\n",
    ">>> y = [.5, 1]\n",
    ">>> test = np.c_[ 0, 2].T\n",
    ">>> regr = linear_model.LinearRegression()\n",
    "\n",
    ">>> import matplotlib.pyplot as plt\n",
    ">>> plt.figure()\n",
    "\n",
    ">>> np.random.seed(0)\n",
    ">>> for _ in range(6):\n",
    "...     this_X = .1 * np.random.normal(size=(2, 1)) + X\n",
    "...     regr.fit(this_X, y)\n",
    "...     plt.plot(test, regr.predict(test))\n",
    "...     plt.scatter(this_X, y, s=3)"
   ]
  },
  {
   "cell_type": "code",
   "execution_count": 38,
   "id": "61d7b074",
   "metadata": {},
   "outputs": [
    {
     "data": {
      "image/png": "[encoded data removed]",
      "text/plain": [
       "<Figure size 432x288 with 1 Axes>"
      ]
     },
     "metadata": {
      "needs_background": "light"
     },
     "output_type": "display_data"
    }
   ],
   "source": [
    ">>> regr = linear_model.Ridge(alpha=.1)\n",
    "\n",
    ">>> plt.figure()\n",
    "\n",
    ">>> np.random.seed(0)\n",
    ">>> for _ in range(6):\n",
    "...     this_X = .1 * np.random.normal(size=(2, 1)) + X\n",
    "...     regr.fit(this_X, y)\n",
    "...     plt.plot(test, regr.predict(test))\n",
    "...     plt.scatter(this_X, y, s=3)"
   ]
  },
  {
   "cell_type": "code",
   "execution_count": 39,
   "id": "4e187111",
   "metadata": {},
   "outputs": [
    {
     "name": "stdout",
     "output_type": "stream",
     "text": [
      "[0.5851110683883534, 0.5852073015444677, 0.5854677540698493, 0.5855512036503916, 0.5830717085554163, 0.5705899943728011]\n"
     ]
    }
   ],
   "source": [
    ">>> alphas = np.logspace(-4, -1, 6)\n",
    ">>> print([regr.set_params(alpha=alpha)\n",
    "...            .fit(diabetes_X_train, diabetes_y_train)\n",
    "...            .score(diabetes_X_test, diabetes_y_test)\n",
    "...        for alpha in alphas])"
   ]
  },
  {
   "cell_type": "code",
   "execution_count": 40,
   "id": "15b9fa73",
   "metadata": {},
   "outputs": [
    {
     "name": "stdout",
     "output_type": "stream",
     "text": [
      "[   0.         -212.43764548  517.19478111  313.77959962 -160.8303982\n",
      "   -0.         -187.19554705   69.38229038  508.66011217   71.84239008]\n"
     ]
    }
   ],
   "source": [
    ">>> regr = linear_model.Lasso()\n",
    ">>> scores = [regr.set_params(alpha=alpha)\n",
    "...               .fit(diabetes_X_train, diabetes_y_train)\n",
    "...               .score(diabetes_X_test, diabetes_y_test)\n",
    "...           for alpha in alphas]\n",
    ">>> best_alpha = alphas[scores.index(max(scores))]\n",
    ">>> regr.alpha = best_alpha\n",
    ">>> regr.fit(diabetes_X_train, diabetes_y_train)\n",
    "\n",
    ">>> print(regr.coef_)"
   ]
  },
  {
   "cell_type": "code",
   "execution_count": 41,
   "id": "a94e601d",
   "metadata": {},
   "outputs": [
    {
     "data": {
      "text/plain": [
       "LogisticRegression(C=100000.0)"
      ]
     },
     "execution_count": 41,
     "metadata": {},
     "output_type": "execute_result"
    }
   ],
   "source": [
    ">>> log = linear_model.LogisticRegression(C=1e5)\n",
    ">>> log.fit(iris_X_train, iris_y_train)"
   ]
  },
  {
   "cell_type": "code",
   "execution_count": 42,
   "id": "36add20c",
   "metadata": {},
   "outputs": [
    {
     "data": {
      "text/plain": [
       "SVC(kernel='linear')"
      ]
     },
     "execution_count": 42,
     "metadata": {},
     "output_type": "execute_result"
    }
   ],
   "source": [
    ">>> from sklearn import svm\n",
    ">>> svc = svm.SVC(kernel='linear')\n",
    ">>> svc.fit(iris_X_train, iris_y_train)"
   ]
  },
  {
   "cell_type": "markdown",
   "id": "aeb38261",
   "metadata": {},
   "source": [
    "### Curse of Dimensionality\n",
    "\n",
    "The curse of dimensionality refers to the issues that come from a datasets that contains a large number of features. Having a large number of features can lead to overfitting when training a model and poor results when performing clustering. However, we can address large dimensionality in the following models:\n",
    "\n",
    "**k-Nearest-Neighbor**: With more dimensions, k-nearest-neighbors is going to require more data to perform accurately. Since this is not always possible, we can also employ dimensionality reduction techniques to reduce the complexity of our data.\n",
    "\n",
    "**MaxEnt** Maximum Entropy is an approach to dimensionality reduction. Maximum Entropy Algorithms find low-dimensional representations of the data and identify the independent features within it.\n",
    "\n",
    "**Naive Bayes** Naive bayes scales linearly in time complexity with the number of dimensions. This means it does not face the same dimensionality restraints that some of the other classifiers mentioned face.\n",
    "\n",
    "**SVM** SVMs are well known for scaling well with high dimensional data. SVM models perform regularization on the data that naturally reduced the risk of overfitting."
   ]
  },
  {
   "cell_type": "code",
   "execution_count": 43,
   "id": "208a5155",
   "metadata": {},
   "outputs": [
    {
     "data": {
      "image/png": "[encoded data removed]",
      "text/plain": [
       "<Figure size 432x288 with 1 Axes>"
      ]
     },
     "metadata": {
      "needs_background": "light"
     },
     "output_type": "display_data"
    }
   ],
   "source": [
    "import numpy as np\n",
    "import matplotlib.pyplot as plt\n",
    "from sklearn import svm\n",
    "from sklearn.datasets import make_blobs\n",
    "# first we import our packages\n",
    "\n",
    "# Next we import a random sample of points\n",
    "X, y = make_blobs(n_samples=40, centers=2, random_state=6)\n",
    "\n",
    "# Apply the model and fit it to our random sample\n",
    "clf = svm.SVC(kernel=\"linear\", C=1000)\n",
    "clf.fit(X, y)\n",
    "\n",
    "# Plot the points from our sample\n",
    "plt.scatter(X[:, 0], X[:, 1], c=y, s=30, cmap=plt.cm.Paired)\n",
    "\n",
    "# Plot the decision function\n",
    "ax = plt.gca()\n",
    "xlim = ax.get_xlim()\n",
    "ylim = ax.get_ylim()\n",
    "\n",
    "# Create grid to evaluate model\n",
    "xx = np.linspace(xlim[0], xlim[1], 30)\n",
    "yy = np.linspace(ylim[0], ylim[1], 30)\n",
    "YY, XX = np.meshgrid(yy, xx)\n",
    "xy = np.vstack([XX.ravel(), YY.ravel()]).T\n",
    "Z = clf.decision_function(xy).reshape(XX.shape)\n",
    "\n",
    "# Plot decision boundary and margins\n",
    "ax.contour(\n",
    "    XX, YY, Z, colors=\"k\", levels=[-1, 0, 1], alpha=0.5, linestyles=[\"--\", \"-\", \"--\"]\n",
    ")\n",
    "# Plot support vectors\n",
    "ax.scatter(\n",
    "    clf.support_vectors_[:, 0],\n",
    "    clf.support_vectors_[:, 1],\n",
    "    s=100,\n",
    "    linewidth=1,\n",
    "    facecolors=\"none\",\n",
    "    edgecolors=\"k\",\n",
    ")\n",
    "plt.show()"
   ]
  },
  {
   "cell_type": "markdown",
   "id": "1654b4ee",
   "metadata": {},
   "source": [
    "### Maximum Margin Hyperplane\n",
    "\n",
    "The maximum margin hyperplane is the seperator between classes that gives the maximum distance between the nearest observations. In the case above, our margin is set to be linear, and seperates two classes. The circled points are the nearest observations which are our support vectors"
   ]
  },
  {
   "cell_type": "code",
   "execution_count": 44,
   "id": "42daa5c1",
   "metadata": {},
   "outputs": [
    {
     "data": {
      "text/html": [
       "<div>\n",
       "<style scoped>\n",
       "    .dataframe tbody tr th:only-of-type {\n",
       "        vertical-align: middle;\n",
       "    }\n",
       "\n",
       "    .dataframe tbody tr th {\n",
       "        vertical-align: top;\n",
       "    }\n",
       "\n",
       "    .dataframe thead th {\n",
       "        text-align: right;\n",
       "    }\n",
       "</style>\n",
       "<table border=\"1\" class=\"dataframe\">\n",
       "  <thead>\n",
       "    <tr style=\"text-align: right;\">\n",
       "      <th></th>\n",
       "      <th>Sample code number</th>\n",
       "      <th>Clump Thickness</th>\n",
       "      <th>Uniformity of Cell Size</th>\n",
       "      <th>Uniformity of Cell Shape</th>\n",
       "      <th>Marginal Adhesion</th>\n",
       "      <th>Single Epithelial Cell Size</th>\n",
       "      <th>Bare Nuclei</th>\n",
       "      <th>Bland Chromatin</th>\n",
       "      <th>Normal Nucleoli</th>\n",
       "      <th>Mitoses</th>\n",
       "      <th>Class</th>\n",
       "    </tr>\n",
       "  </thead>\n",
       "  <tbody>\n",
       "    <tr>\n",
       "      <th>0</th>\n",
       "      <td>1000025</td>\n",
       "      <td>5</td>\n",
       "      <td>1</td>\n",
       "      <td>1</td>\n",
       "      <td>1</td>\n",
       "      <td>2</td>\n",
       "      <td>1</td>\n",
       "      <td>3</td>\n",
       "      <td>1</td>\n",
       "      <td>1</td>\n",
       "      <td>2</td>\n",
       "    </tr>\n",
       "    <tr>\n",
       "      <th>1</th>\n",
       "      <td>1002945</td>\n",
       "      <td>5</td>\n",
       "      <td>4</td>\n",
       "      <td>4</td>\n",
       "      <td>5</td>\n",
       "      <td>7</td>\n",
       "      <td>10</td>\n",
       "      <td>3</td>\n",
       "      <td>2</td>\n",
       "      <td>1</td>\n",
       "      <td>2</td>\n",
       "    </tr>\n",
       "    <tr>\n",
       "      <th>2</th>\n",
       "      <td>1015425</td>\n",
       "      <td>3</td>\n",
       "      <td>1</td>\n",
       "      <td>1</td>\n",
       "      <td>1</td>\n",
       "      <td>2</td>\n",
       "      <td>2</td>\n",
       "      <td>3</td>\n",
       "      <td>1</td>\n",
       "      <td>1</td>\n",
       "      <td>2</td>\n",
       "    </tr>\n",
       "    <tr>\n",
       "      <th>3</th>\n",
       "      <td>1016277</td>\n",
       "      <td>6</td>\n",
       "      <td>8</td>\n",
       "      <td>8</td>\n",
       "      <td>1</td>\n",
       "      <td>3</td>\n",
       "      <td>4</td>\n",
       "      <td>3</td>\n",
       "      <td>7</td>\n",
       "      <td>1</td>\n",
       "      <td>2</td>\n",
       "    </tr>\n",
       "    <tr>\n",
       "      <th>4</th>\n",
       "      <td>1017023</td>\n",
       "      <td>4</td>\n",
       "      <td>1</td>\n",
       "      <td>1</td>\n",
       "      <td>3</td>\n",
       "      <td>2</td>\n",
       "      <td>1</td>\n",
       "      <td>3</td>\n",
       "      <td>1</td>\n",
       "      <td>1</td>\n",
       "      <td>2</td>\n",
       "    </tr>\n",
       "  </tbody>\n",
       "</table>\n",
       "</div>"
      ],
      "text/plain": [
       "   Sample code number  Clump Thickness  Uniformity of Cell Size  \\\n",
       "0             1000025                5                        1   \n",
       "1             1002945                5                        4   \n",
       "2             1015425                3                        1   \n",
       "3             1016277                6                        8   \n",
       "4             1017023                4                        1   \n",
       "\n",
       "   Uniformity of Cell Shape  Marginal Adhesion  Single Epithelial Cell Size  \\\n",
       "0                         1                  1                            2   \n",
       "1                         4                  5                            7   \n",
       "2                         1                  1                            2   \n",
       "3                         8                  1                            3   \n",
       "4                         1                  3                            2   \n",
       "\n",
       "  Bare Nuclei  Bland Chromatin  Normal Nucleoli  Mitoses  Class  \n",
       "0           1                3                1        1      2  \n",
       "1          10                3                2        1      2  \n",
       "2           2                3                1        1      2  \n",
       "3           4                3                7        1      2  \n",
       "4           1                3                1        1      2  "
      ]
     },
     "execution_count": 44,
     "metadata": {},
     "output_type": "execute_result"
    }
   ],
   "source": [
    "# Question 7\n",
    "bc_df_headers = [\"Sample code number\", \"Clump Thickness\", \"Uniformity of Cell Size\",\"Uniformity of Cell Shape\",\n",
    "                 \"Marginal Adhesion\",\"Single Epithelial Cell Size\",\"Bare Nuclei\",\"Bland Chromatin\",\n",
    "                 \"Normal Nucleoli\",\"Mitoses\",\"Class\"]\n",
    "bc_df = pd.read_csv(\"breast-cancer-wisconsin.data\", header = None)\n",
    "bc_df.columns = bc_df_headers\n",
    "bc_df.head()"
   ]
  },
  {
   "cell_type": "code",
   "execution_count": 45,
   "id": "f683bcf4",
   "metadata": {},
   "outputs": [
    {
     "name": "stdout",
     "output_type": "stream",
     "text": [
      "Sample code number              int64\n",
      "Clump Thickness                 int64\n",
      "Uniformity of Cell Size         int64\n",
      "Uniformity of Cell Shape        int64\n",
      "Marginal Adhesion               int64\n",
      "Single Epithelial Cell Size     int64\n",
      "Bare Nuclei                    object\n",
      "Bland Chromatin                 int64\n",
      "Normal Nucleoli                 int64\n",
      "Mitoses                         int64\n",
      "Class                           int64\n",
      "dtype: object\n",
      "(699, 11)\n",
      "Sample code number             0\n",
      "Clump Thickness                0\n",
      "Uniformity of Cell Size        0\n",
      "Uniformity of Cell Shape       0\n",
      "Marginal Adhesion              0\n",
      "Single Epithelial Cell Size    0\n",
      "Bare Nuclei                    0\n",
      "Bland Chromatin                0\n",
      "Normal Nucleoli                0\n",
      "Mitoses                        0\n",
      "Class                          0\n",
      "dtype: int64\n"
     ]
    }
   ],
   "source": [
    "print(bc_df.dtypes)\n",
    "print(bc_df.shape)\n",
    "print(bc_df.isna().sum())"
   ]
  },
  {
   "cell_type": "code",
   "execution_count": 46,
   "id": "2ca0b968",
   "metadata": {},
   "outputs": [
    {
     "name": "stdout",
     "output_type": "stream",
     "text": [
      "Sample code number              0\n",
      "Clump Thickness                 0\n",
      "Uniformity of Cell Size         0\n",
      "Uniformity of Cell Shape        0\n",
      "Marginal Adhesion               0\n",
      "Single Epithelial Cell Size     0\n",
      "Bare Nuclei                    16\n",
      "Bland Chromatin                 0\n",
      "Normal Nucleoli                 0\n",
      "Mitoses                         0\n",
      "Class                           0\n",
      "dtype: int64\n"
     ]
    },
    {
     "data": {
      "text/html": [
       "<div>\n",
       "<style scoped>\n",
       "    .dataframe tbody tr th:only-of-type {\n",
       "        vertical-align: middle;\n",
       "    }\n",
       "\n",
       "    .dataframe tbody tr th {\n",
       "        vertical-align: top;\n",
       "    }\n",
       "\n",
       "    .dataframe thead th {\n",
       "        text-align: right;\n",
       "    }\n",
       "</style>\n",
       "<table border=\"1\" class=\"dataframe\">\n",
       "  <thead>\n",
       "    <tr style=\"text-align: right;\">\n",
       "      <th></th>\n",
       "      <th>Clump Thickness</th>\n",
       "      <th>Uniformity of Cell Size</th>\n",
       "      <th>Uniformity of Cell Shape</th>\n",
       "      <th>Marginal Adhesion</th>\n",
       "      <th>Single Epithelial Cell Size</th>\n",
       "      <th>Bare Nuclei</th>\n",
       "      <th>Bland Chromatin</th>\n",
       "      <th>Normal Nucleoli</th>\n",
       "      <th>Mitoses</th>\n",
       "      <th>Class</th>\n",
       "    </tr>\n",
       "  </thead>\n",
       "  <tbody>\n",
       "    <tr>\n",
       "      <th>0</th>\n",
       "      <td>5</td>\n",
       "      <td>1</td>\n",
       "      <td>1</td>\n",
       "      <td>1</td>\n",
       "      <td>2</td>\n",
       "      <td>1.0</td>\n",
       "      <td>3</td>\n",
       "      <td>1</td>\n",
       "      <td>1</td>\n",
       "      <td>2</td>\n",
       "    </tr>\n",
       "    <tr>\n",
       "      <th>1</th>\n",
       "      <td>5</td>\n",
       "      <td>4</td>\n",
       "      <td>4</td>\n",
       "      <td>5</td>\n",
       "      <td>7</td>\n",
       "      <td>10.0</td>\n",
       "      <td>3</td>\n",
       "      <td>2</td>\n",
       "      <td>1</td>\n",
       "      <td>2</td>\n",
       "    </tr>\n",
       "    <tr>\n",
       "      <th>2</th>\n",
       "      <td>3</td>\n",
       "      <td>1</td>\n",
       "      <td>1</td>\n",
       "      <td>1</td>\n",
       "      <td>2</td>\n",
       "      <td>2.0</td>\n",
       "      <td>3</td>\n",
       "      <td>1</td>\n",
       "      <td>1</td>\n",
       "      <td>2</td>\n",
       "    </tr>\n",
       "    <tr>\n",
       "      <th>3</th>\n",
       "      <td>6</td>\n",
       "      <td>8</td>\n",
       "      <td>8</td>\n",
       "      <td>1</td>\n",
       "      <td>3</td>\n",
       "      <td>4.0</td>\n",
       "      <td>3</td>\n",
       "      <td>7</td>\n",
       "      <td>1</td>\n",
       "      <td>2</td>\n",
       "    </tr>\n",
       "    <tr>\n",
       "      <th>4</th>\n",
       "      <td>4</td>\n",
       "      <td>1</td>\n",
       "      <td>1</td>\n",
       "      <td>3</td>\n",
       "      <td>2</td>\n",
       "      <td>1.0</td>\n",
       "      <td>3</td>\n",
       "      <td>1</td>\n",
       "      <td>1</td>\n",
       "      <td>2</td>\n",
       "    </tr>\n",
       "  </tbody>\n",
       "</table>\n",
       "</div>"
      ],
      "text/plain": [
       "   Clump Thickness  Uniformity of Cell Size  Uniformity of Cell Shape  \\\n",
       "0                5                        1                         1   \n",
       "1                5                        4                         4   \n",
       "2                3                        1                         1   \n",
       "3                6                        8                         8   \n",
       "4                4                        1                         1   \n",
       "\n",
       "   Marginal Adhesion  Single Epithelial Cell Size  Bare Nuclei  \\\n",
       "0                  1                            2          1.0   \n",
       "1                  5                            7         10.0   \n",
       "2                  1                            2          2.0   \n",
       "3                  1                            3          4.0   \n",
       "4                  3                            2          1.0   \n",
       "\n",
       "   Bland Chromatin  Normal Nucleoli  Mitoses  Class  \n",
       "0                3                1        1      2  \n",
       "1                3                2        1      2  \n",
       "2                3                1        1      2  \n",
       "3                3                7        1      2  \n",
       "4                3                1        1      2  "
      ]
     },
     "execution_count": 46,
     "metadata": {},
     "output_type": "execute_result"
    }
   ],
   "source": [
    "bc_df[\"Bare Nuclei\"] = pd.to_numeric(bc_df[\"Bare Nuclei\"], errors = \"coerce\")\n",
    "print(bc_df.isna().sum())\n",
    "bc_df.dropna(inplace = True)\n",
    "bc_df.drop([\"Sample code number\"], axis = 1, inplace = True)\n",
    "bc_df.head()"
   ]
  },
  {
   "cell_type": "code",
   "execution_count": 47,
   "id": "c5bcdb61",
   "metadata": {},
   "outputs": [],
   "source": [
    "bc_X = bc_df.drop([\"Class\"], axis = 1)\n",
    "bc_Y = bc_df['Class']\n",
    "\n",
    "scaler = StandardScaler().fit(bc_X)\n",
    "bc_X = scaler.transform(bc_X)\n",
    "\n",
    "bc_Y = bc_Y.replace(2, 0)\n",
    "bc_Y = bc_Y.replace(4, 1)"
   ]
  },
  {
   "cell_type": "code",
   "execution_count": 48,
   "id": "d958c39b",
   "metadata": {},
   "outputs": [
    {
     "name": "stdout",
     "output_type": "stream",
     "text": [
      "0.07576780181929968\n"
     ]
    },
    {
     "data": {
      "image/png": "[encoded data removed]",
      "text/plain": [
       "<Figure size 432x288 with 2 Axes>"
      ]
     },
     "metadata": {
      "needs_background": "light"
     },
     "output_type": "display_data"
    }
   ],
   "source": [
    "from sklearn.svm import SVC\n",
    "from sklearn.metrics import hinge_loss\n",
    "\n",
    "bc_Y = np.array(bc_Y)\n",
    "\n",
    "kf = KFold(n_splits = 10)\n",
    "hl = []\n",
    "cf_matrix = [[0,0],[0,0]]\n",
    "\n",
    "for train_index, test_index in kf.split(bc_X):\n",
    "    X_train, X_test = bc_X[train_index], bc_X[test_index]\n",
    "    y_train, y_test = bc_Y[train_index], bc_Y[test_index]\n",
    "    \n",
    "    clf = SVC(kernel = 'linear')\n",
    "    clf.fit(X_train, y_train)\n",
    "    \n",
    "    pred = clf.predict(X_test)\n",
    "    pred_func = clf.decision_function(X_test)\n",
    "    \n",
    "    hl.append(hinge_loss(y_test,pred_func))\n",
    "    cf_matrix += (confusion_matrix(y_test,pred))\n",
    "    \n",
    "print(np.mean(hl))\n",
    "cm_display = ConfusionMatrixDisplay(cf_matrix).plot()"
   ]
  },
  {
   "cell_type": "markdown",
   "id": "b3272299",
   "metadata": {},
   "source": [
    "### Hinge Loss Function\n",
    "\n",
    "The hinge loss function us the cost function for SVC models. It goes beyond just understanding the classification and uses the decision function to calculate the distance from the decision line to calculate loss. The further from the decision line in the wrong direction, the higher the loss"
   ]
  },
  {
   "cell_type": "code",
   "execution_count": 49,
   "id": "a121d0c3",
   "metadata": {},
   "outputs": [
    {
     "name": "stdout",
     "output_type": "stream",
     "text": [
      "0.10306165645280026\n"
     ]
    },
    {
     "data": {
      "image/png": "[encoded data removed]",
      "text/plain": [
       "<Figure size 432x288 with 2 Axes>"
      ]
     },
     "metadata": {
      "needs_background": "light"
     },
     "output_type": "display_data"
    }
   ],
   "source": [
    "from sklearn.svm import SVC\n",
    "from sklearn.metrics import hinge_loss\n",
    "\n",
    "bc_Y = np.array(bc_Y)\n",
    "\n",
    "kf = KFold(n_splits = 10)\n",
    "hl = []\n",
    "cf_matrix = [[0,0],[0,0]]\n",
    "\n",
    "for train_index, test_index in kf.split(bc_X):\n",
    "    X_train, X_test = bc_X[train_index], bc_X[test_index]\n",
    "    y_train, y_test = bc_Y[train_index], bc_Y[test_index]\n",
    "    \n",
    "    clf = SVC(kernel = 'poly')\n",
    "    clf.fit(X_train, y_train)\n",
    "    \n",
    "    pred = clf.predict(X_test)\n",
    "    pred_func = clf.decision_function(X_test)\n",
    "    \n",
    "    hl.append(hinge_loss(y_test,pred_func))\n",
    "    cf_matrix += (confusion_matrix(y_test,pred))\n",
    "    \n",
    "print(np.mean(hl))\n",
    "cm_display = ConfusionMatrixDisplay(cf_matrix).plot()"
   ]
  },
  {
   "cell_type": "markdown",
   "id": "da8081c9",
   "metadata": {},
   "source": [
    "Using linear and polynomial kernals, we get similar results for our loss function. However, if we look at our confusion matrix, we see that we miss a much larger number of true malignant cases with the polynomial function. Assuming we more critical of False Negatives than False Positives in this case, we would prefer the linear kernal"
   ]
  },
  {
   "cell_type": "code",
   "execution_count": 50,
   "id": "c361107c",
   "metadata": {},
   "outputs": [
    {
     "data": {
      "image/png": "[encoded data removed]",
      "text/plain": [
       "<Figure size 432x288 with 4 Axes>"
      ]
     },
     "metadata": {},
     "output_type": "display_data"
    }
   ],
   "source": [
    "#Question 8 \n",
    "import numpy as np\n",
    "import matplotlib.pyplot as plt\n",
    "from sklearn import svm, datasets\n",
    "# Import our packages\n",
    "\n",
    "def make_meshgrid(x, y, h=0.02):\n",
    "    \"\"\"Create a mesh of points to plot in\n",
    "\n",
    "    Parameters\n",
    "    ----------\n",
    "    x: data to base x-axis meshgrid on\n",
    "    y: data to base y-axis meshgrid on\n",
    "    h: stepsize for meshgrid, optional\n",
    "\n",
    "    Returns\n",
    "    -------\n",
    "    xx, yy : ndarray\n",
    "    \"\"\"\n",
    "    x_min, x_max = x.min() - 1, x.max() + 1\n",
    "    y_min, y_max = y.min() - 1, y.max() + 1\n",
    "    xx, yy = np.meshgrid(np.arange(x_min, x_max, h), np.arange(y_min, y_max, h))\n",
    "    return xx, yy\n",
    "# This function plots the grid for the datapoints in our sample\n",
    "\n",
    "def plot_contours(ax, clf, xx, yy, **params):\n",
    "    \"\"\"Plot the decision boundaries for a classifier.\n",
    "\n",
    "    Parameters\n",
    "    ----------\n",
    "    ax: matplotlib axes object\n",
    "    clf: a classifier\n",
    "    xx: meshgrid ndarray\n",
    "    yy: meshgrid ndarray\n",
    "    params: dictionary of params to pass to contourf, optional\n",
    "    \"\"\"\n",
    "    Z = clf.predict(np.c_[xx.ravel(), yy.ravel()])\n",
    "    Z = Z.reshape(xx.shape)\n",
    "    out = ax.contourf(xx, yy, Z, **params)\n",
    "    return out\n",
    "# This function plots the decision boundaries of the SVM classifier\n",
    "\n",
    "# import the data and take first 2 features\n",
    "iris = datasets.load_iris()\n",
    "X = iris.data[:, :2]\n",
    "y = iris.target\n",
    "\n",
    "# we create each model with different Kernals and fit them each to the data\n",
    "C = 1.0  # SVM regularization parameter\n",
    "models = (\n",
    "    svm.SVC(kernel=\"linear\", C=C),\n",
    "    svm.LinearSVC(C=C, max_iter=10000),\n",
    "    svm.SVC(kernel=\"rbf\", gamma=0.7, C=C),\n",
    "    svm.SVC(kernel=\"poly\", degree=3, gamma=\"auto\", C=C),\n",
    ")\n",
    "models = (clf.fit(X, y) for clf in models)\n",
    "\n",
    "# title for the plots\n",
    "titles = (\n",
    "    \"SVC with linear kernel\",\n",
    "    \"LinearSVC (linear kernel)\",\n",
    "    \"SVC with RBF kernel\",\n",
    "    \"SVC with polynomial (degree 3) kernel\",\n",
    ")\n",
    "\n",
    "# Finally we plot the grids, decision boundaries, and points\n",
    "fig, sub = plt.subplots(2, 2)\n",
    "plt.subplots_adjust(wspace=0.4, hspace=0.4)\n",
    "\n",
    "X0, X1 = X[:, 0], X[:, 1]\n",
    "xx, yy = make_meshgrid(X0, X1)\n",
    "\n",
    "for clf, title, ax in zip(models, titles, sub.flatten()):\n",
    "    plot_contours(ax, clf, xx, yy, cmap=plt.cm.coolwarm, alpha=0.8)\n",
    "    ax.scatter(X0, X1, c=y, cmap=plt.cm.coolwarm, s=20, edgecolors=\"k\")\n",
    "    ax.set_xlim(xx.min(), xx.max())\n",
    "    ax.set_ylim(yy.min(), yy.max())\n",
    "    ax.set_xlabel(\"Sepal length\")\n",
    "    ax.set_ylabel(\"Sepal width\")\n",
    "    ax.set_xticks(())\n",
    "    ax.set_yticks(())\n",
    "    ax.set_title(title)\n",
    "\n",
    "plt.show()"
   ]
  },
  {
   "cell_type": "markdown",
   "id": "9c9ab389",
   "metadata": {},
   "source": [
    "Analyzing the results for each model:\n",
    "\n",
    "**SVC (linear kernal)** we can see clearly that our boundaries for this model are linear, creating 3 infinite planes for our classes.\n",
    "\n",
    "**LinearSVC** Also a linear model so our boundaries are still linear. Linear SVC is meant to work better with a large number of sample which might be why it appears to classifiy better\n",
    "\n",
    "**SVC (RBF)** The RBF kernal allows our bounderies to be non linear and non infinate. For example, we see in the plot above that the blue class appears to be fully encompassed.\n",
    "\n",
    "**SVC (Polynomial)** The polynomial kernal still has infinite planes, but allows for non-linear boundaries. In this case it appears be a poor classifier of the red classes, but the best classifier of the blue classes.\n",
    "\n",
    "### What is the kernal trick\n",
    "\n",
    "The kernal trick is the transformation of the feature vectors before optimizing our objective function. This reduced the complexity of our data and allows us to work with higher dimensions."
   ]
  },
  {
   "attachments": {
    "image-2.png": {
     "image/png": "[encoded data removed]"
    },
    "image-3.png": {
     "image/png": "[encoded data removed]"
    },
    "image.png": {
     "image/png": "[encoded data removed]"
    }
   },
   "cell_type": "markdown",
   "id": "a76beec2",
   "metadata": {},
   "source": [
    "## Question 9\n",
    "\n",
    "### Loss Functions\n",
    "\n",
    "**SVM** : SVM uses the Hinge loss function for both linear and non-linear models. It works by calculation the distance from the classification boundaries of the incorrect classifications. The formula for hinge loss is:\n",
    "\n",
    "![image.png](attachment:image.png)\n",
    "\n",
    "where t is the intended output and y is the decision function\n",
    "\n",
    "**Naive Bayes** We can measure the loss of Naive Bayes using F1_score, a zero to one scoring. The formula is:\n",
    "\n",
    "![image-3.png](attachment:image-3.png)\n",
    "\n",
    "**Logistic Regression** The loss function for Logistic regression is called logistic loss, and punishes the model when an incorrect prediction is made. The formula is: \n",
    "\n",
    "![image-2.png](attachment:image-2.png)\n",
    "\n",
    "### Model Selection\n",
    "\n",
    "**SVC** and **Logistic regression** are discriminative classifiers and are generally preferred. but **Naive Bayes** is prefered for smaller datasets"
   ]
  }
 ],
 "metadata": {
  "kernelspec": {
   "display_name": "Python 3",
   "language": "python",
   "name": "python3"
  },
  "language_info": {
   "codemirror_mode": {
    "name": "ipython",
    "version": 3
   },
   "file_extension": ".py",
   "mimetype": "text/x-python",
   "name": "python",
   "nbconvert_exporter": "python",
   "pygments_lexer": "ipython3",
   "version": "3.8.8"
  }
 },
 "nbformat": 4,
 "nbformat_minor": 5
}
