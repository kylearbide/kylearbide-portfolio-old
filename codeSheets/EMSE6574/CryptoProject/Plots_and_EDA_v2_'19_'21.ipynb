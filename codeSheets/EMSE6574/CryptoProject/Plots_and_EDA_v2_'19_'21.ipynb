{
  "nbformat": 4,
  "nbformat_minor": 0,
  "metadata": {
    "colab": {
      "name": "Plots and EDA_v2_'19-'21",
      "provenance": [],
      "collapsed_sections": []
    },
    "kernelspec": {
      "name": "python3",
      "display_name": "Python 3"
    },
    "language_info": {
      "name": "python"
    }
  },
  "cells": [
    {
      "cell_type": "code",
      "metadata": {
        "colab": {
          "base_uri": "https://localhost:8080/"
        },
        "id": "W2b4cmEm19bX",
        "outputId": "912a8b24-3332-499c-ef5b-35a8aeeb982b"
      },
      "source": [
        "!pip install yfinance\n",
        "import pandas_datareader as web\n",
        "from pandas_datareader import data as pdr\n",
        "import yfinance as yfin\n",
        "import pandas as pd\n",
        "yfin.pdr_override()\n"
      ],
      "execution_count": null,
      "outputs": [
        {
          "output_type": "stream",
          "name": "stdout",
          "text": [
            "Requirement already satisfied: yfinance in /usr/local/lib/python3.7/dist-packages (0.1.67)\n",
            "Requirement already satisfied: numpy>=1.15 in /usr/local/lib/python3.7/dist-packages (from yfinance) (1.19.5)\n",
            "Requirement already satisfied: pandas>=0.24 in /usr/local/lib/python3.7/dist-packages (from yfinance) (1.1.5)\n",
            "Requirement already satisfied: lxml>=4.5.1 in /usr/local/lib/python3.7/dist-packages (from yfinance) (4.6.4)\n",
            "Requirement already satisfied: multitasking>=0.0.7 in /usr/local/lib/python3.7/dist-packages (from yfinance) (0.0.10)\n",
            "Requirement already satisfied: requests>=2.20 in /usr/local/lib/python3.7/dist-packages (from yfinance) (2.23.0)\n",
            "Requirement already satisfied: python-dateutil>=2.7.3 in /usr/local/lib/python3.7/dist-packages (from pandas>=0.24->yfinance) (2.8.2)\n",
            "Requirement already satisfied: pytz>=2017.2 in /usr/local/lib/python3.7/dist-packages (from pandas>=0.24->yfinance) (2018.9)\n",
            "Requirement already satisfied: six>=1.5 in /usr/local/lib/python3.7/dist-packages (from python-dateutil>=2.7.3->pandas>=0.24->yfinance) (1.15.0)\n",
            "Requirement already satisfied: idna<3,>=2.5 in /usr/local/lib/python3.7/dist-packages (from requests>=2.20->yfinance) (2.10)\n",
            "Requirement already satisfied: certifi>=2017.4.17 in /usr/local/lib/python3.7/dist-packages (from requests>=2.20->yfinance) (2021.10.8)\n",
            "Requirement already satisfied: chardet<4,>=3.0.2 in /usr/local/lib/python3.7/dist-packages (from requests>=2.20->yfinance) (3.0.4)\n",
            "Requirement already satisfied: urllib3!=1.25.0,!=1.25.1,<1.26,>=1.21.1 in /usr/local/lib/python3.7/dist-packages (from requests>=2.20->yfinance) (1.24.3)\n"
          ]
        }
      ]
    },
    {
      "cell_type": "code",
      "metadata": {
        "id": "Zq68DSY2rP2W",
        "colab": {
          "base_uri": "https://localhost:8080/"
        },
        "outputId": "dd502474-39bb-4146-875e-bf459a6d9892"
      },
      "source": [
        "BTC = pdr.get_data_yahoo(\"BTC-USD\", start=\"2014-01-01\", end=\"2021-10-31\")\n",
        "ETH = pdr.get_data_yahoo(\"ETH-USD\", start=\"2014-01-01\", end=\"2021-10-31\")\n",
        "DOGE = pdr.get_data_yahoo(\"DOGE-USD\", start=\"2014-01-01\", end=\"2021-10-31\")\n",
        "SP5 = pdr.get_data_yahoo(\"^GSPC\", start=\"2014-01-01\", end=\"2021-10-31\")"
      ],
      "execution_count": null,
      "outputs": [
        {
          "output_type": "stream",
          "name": "stdout",
          "text": [
            "[*********************100%***********************]  1 of 1 completed\n",
            "[*********************100%***********************]  1 of 1 completed\n",
            "[*********************100%***********************]  1 of 1 completed\n",
            "[*********************100%***********************]  1 of 1 completed\n"
          ]
        }
      ]
    },
    {
      "cell_type": "code",
      "metadata": {
        "id": "Xw_M4J89CSON"
      },
      "source": [
        "BTC.reset_index(level=0, inplace=True)\n",
        "ETH.reset_index(level=0, inplace=True)\n",
        "DOGE.reset_index(level=0, inplace=True)\n",
        "SP5.reset_index(level=0, inplace=True)"
      ],
      "execution_count": null,
      "outputs": []
    },
    {
      "cell_type": "code",
      "metadata": {
        "colab": {
          "base_uri": "https://localhost:8080/"
        },
        "id": "NMcBAqkvCyTZ",
        "outputId": "68d60603-0e0e-4866-a85b-bf7520314ffe"
      },
      "source": [
        "print(BTC.head(1))\n",
        "print(ETH.head(1))\n",
        "print(DOGE.head(1))\n",
        "print(SP5.head(1))"
      ],
      "execution_count": null,
      "outputs": [
        {
          "output_type": "stream",
          "name": "stdout",
          "text": [
            "        Date        Open        High  ...       Close   Adj Close    Volume\n",
            "0 2014-09-17  465.864014  468.174011  ...  457.334015  457.334015  21056800\n",
            "\n",
            "[1 rows x 7 columns]\n",
            "        Date     Open     High      Low    Close  Adj Close  Volume\n",
            "0 2015-08-07  2.83162  3.53661  2.52112  2.77212    2.77212  164329\n",
            "        Date      Open      High      Low     Close  Adj Close   Volume\n",
            "0 2014-09-17  0.000293  0.000299  0.00026  0.000268   0.000268  1463600\n",
            "        Date         Open         High  ...       Close   Adj Close      Volume\n",
            "0 2014-01-02  1845.859985  1845.859985  ...  1831.97998  1831.97998  3080600000\n",
            "\n",
            "[1 rows x 7 columns]\n"
          ]
        }
      ]
    },
    {
      "cell_type": "code",
      "metadata": {
        "id": "1F17zP-JIsh5"
      },
      "source": [
        ""
      ],
      "execution_count": null,
      "outputs": []
    },
    {
      "cell_type": "code",
      "metadata": {
        "id": "135gJRC-_NXG"
      },
      "source": [
        "Merged = SP5.merge(ETH, how = 'outer', on = \"Date\")\n",
        "Merged = Merged.merge(DOGE, how = 'outer', on = \"Date\")\n",
        "Merged = Merged.merge(BTC, how = 'outer', on = \"Date\")\n"
      ],
      "execution_count": null,
      "outputs": []
    },
    {
      "cell_type": "code",
      "metadata": {
        "id": "DSC9i4lADBo9",
        "colab": {
          "base_uri": "https://localhost:8080/",
          "height": 566
        },
        "outputId": "e5dead1e-7cd2-4f34-dab1-acbf9ee21176"
      },
      "source": [
        "Merged.head(10)"
      ],
      "execution_count": null,
      "outputs": [
        {
          "output_type": "execute_result",
          "data": {
            "text/html": [
              "<div>\n",
              "<style scoped>\n",
              "    .dataframe tbody tr th:only-of-type {\n",
              "        vertical-align: middle;\n",
              "    }\n",
              "\n",
              "    .dataframe tbody tr th {\n",
              "        vertical-align: top;\n",
              "    }\n",
              "\n",
              "    .dataframe thead th {\n",
              "        text-align: right;\n",
              "    }\n",
              "</style>\n",
              "<table border=\"1\" class=\"dataframe\">\n",
              "  <thead>\n",
              "    <tr style=\"text-align: right;\">\n",
              "      <th></th>\n",
              "      <th>Date</th>\n",
              "      <th>Open_x</th>\n",
              "      <th>High_x</th>\n",
              "      <th>Low_x</th>\n",
              "      <th>Close_x</th>\n",
              "      <th>Adj Close_x</th>\n",
              "      <th>Volume_x</th>\n",
              "      <th>Open_y</th>\n",
              "      <th>High_y</th>\n",
              "      <th>Low_y</th>\n",
              "      <th>Close_y</th>\n",
              "      <th>Adj Close_y</th>\n",
              "      <th>Volume_y</th>\n",
              "      <th>Open_x</th>\n",
              "      <th>High_x</th>\n",
              "      <th>Low_x</th>\n",
              "      <th>Close_x</th>\n",
              "      <th>Adj Close_x</th>\n",
              "      <th>Volume_x</th>\n",
              "      <th>Open_y</th>\n",
              "      <th>High_y</th>\n",
              "      <th>Low_y</th>\n",
              "      <th>Close_y</th>\n",
              "      <th>Adj Close_y</th>\n",
              "      <th>Volume_y</th>\n",
              "    </tr>\n",
              "  </thead>\n",
              "  <tbody>\n",
              "    <tr>\n",
              "      <th>0</th>\n",
              "      <td>2014-01-02</td>\n",
              "      <td>1845.859985</td>\n",
              "      <td>1845.859985</td>\n",
              "      <td>1827.739990</td>\n",
              "      <td>1831.979980</td>\n",
              "      <td>1831.979980</td>\n",
              "      <td>3.080600e+09</td>\n",
              "      <td>NaN</td>\n",
              "      <td>NaN</td>\n",
              "      <td>NaN</td>\n",
              "      <td>NaN</td>\n",
              "      <td>NaN</td>\n",
              "      <td>NaN</td>\n",
              "      <td>NaN</td>\n",
              "      <td>NaN</td>\n",
              "      <td>NaN</td>\n",
              "      <td>NaN</td>\n",
              "      <td>NaN</td>\n",
              "      <td>NaN</td>\n",
              "      <td>NaN</td>\n",
              "      <td>NaN</td>\n",
              "      <td>NaN</td>\n",
              "      <td>NaN</td>\n",
              "      <td>NaN</td>\n",
              "      <td>NaN</td>\n",
              "    </tr>\n",
              "    <tr>\n",
              "      <th>1</th>\n",
              "      <td>2014-01-03</td>\n",
              "      <td>1833.209961</td>\n",
              "      <td>1838.239990</td>\n",
              "      <td>1829.130005</td>\n",
              "      <td>1831.369995</td>\n",
              "      <td>1831.369995</td>\n",
              "      <td>2.774270e+09</td>\n",
              "      <td>NaN</td>\n",
              "      <td>NaN</td>\n",
              "      <td>NaN</td>\n",
              "      <td>NaN</td>\n",
              "      <td>NaN</td>\n",
              "      <td>NaN</td>\n",
              "      <td>NaN</td>\n",
              "      <td>NaN</td>\n",
              "      <td>NaN</td>\n",
              "      <td>NaN</td>\n",
              "      <td>NaN</td>\n",
              "      <td>NaN</td>\n",
              "      <td>NaN</td>\n",
              "      <td>NaN</td>\n",
              "      <td>NaN</td>\n",
              "      <td>NaN</td>\n",
              "      <td>NaN</td>\n",
              "      <td>NaN</td>\n",
              "    </tr>\n",
              "    <tr>\n",
              "      <th>2</th>\n",
              "      <td>2014-01-06</td>\n",
              "      <td>1832.310059</td>\n",
              "      <td>1837.160034</td>\n",
              "      <td>1823.729980</td>\n",
              "      <td>1826.770020</td>\n",
              "      <td>1826.770020</td>\n",
              "      <td>3.294850e+09</td>\n",
              "      <td>NaN</td>\n",
              "      <td>NaN</td>\n",
              "      <td>NaN</td>\n",
              "      <td>NaN</td>\n",
              "      <td>NaN</td>\n",
              "      <td>NaN</td>\n",
              "      <td>NaN</td>\n",
              "      <td>NaN</td>\n",
              "      <td>NaN</td>\n",
              "      <td>NaN</td>\n",
              "      <td>NaN</td>\n",
              "      <td>NaN</td>\n",
              "      <td>NaN</td>\n",
              "      <td>NaN</td>\n",
              "      <td>NaN</td>\n",
              "      <td>NaN</td>\n",
              "      <td>NaN</td>\n",
              "      <td>NaN</td>\n",
              "    </tr>\n",
              "    <tr>\n",
              "      <th>3</th>\n",
              "      <td>2014-01-07</td>\n",
              "      <td>1828.709961</td>\n",
              "      <td>1840.099976</td>\n",
              "      <td>1828.709961</td>\n",
              "      <td>1837.880005</td>\n",
              "      <td>1837.880005</td>\n",
              "      <td>3.511750e+09</td>\n",
              "      <td>NaN</td>\n",
              "      <td>NaN</td>\n",
              "      <td>NaN</td>\n",
              "      <td>NaN</td>\n",
              "      <td>NaN</td>\n",
              "      <td>NaN</td>\n",
              "      <td>NaN</td>\n",
              "      <td>NaN</td>\n",
              "      <td>NaN</td>\n",
              "      <td>NaN</td>\n",
              "      <td>NaN</td>\n",
              "      <td>NaN</td>\n",
              "      <td>NaN</td>\n",
              "      <td>NaN</td>\n",
              "      <td>NaN</td>\n",
              "      <td>NaN</td>\n",
              "      <td>NaN</td>\n",
              "      <td>NaN</td>\n",
              "    </tr>\n",
              "    <tr>\n",
              "      <th>4</th>\n",
              "      <td>2014-01-08</td>\n",
              "      <td>1837.900024</td>\n",
              "      <td>1840.020020</td>\n",
              "      <td>1831.400024</td>\n",
              "      <td>1837.489990</td>\n",
              "      <td>1837.489990</td>\n",
              "      <td>3.652140e+09</td>\n",
              "      <td>NaN</td>\n",
              "      <td>NaN</td>\n",
              "      <td>NaN</td>\n",
              "      <td>NaN</td>\n",
              "      <td>NaN</td>\n",
              "      <td>NaN</td>\n",
              "      <td>NaN</td>\n",
              "      <td>NaN</td>\n",
              "      <td>NaN</td>\n",
              "      <td>NaN</td>\n",
              "      <td>NaN</td>\n",
              "      <td>NaN</td>\n",
              "      <td>NaN</td>\n",
              "      <td>NaN</td>\n",
              "      <td>NaN</td>\n",
              "      <td>NaN</td>\n",
              "      <td>NaN</td>\n",
              "      <td>NaN</td>\n",
              "    </tr>\n",
              "    <tr>\n",
              "      <th>5</th>\n",
              "      <td>2014-01-09</td>\n",
              "      <td>1839.000000</td>\n",
              "      <td>1843.229980</td>\n",
              "      <td>1830.380005</td>\n",
              "      <td>1838.130005</td>\n",
              "      <td>1838.130005</td>\n",
              "      <td>3.581150e+09</td>\n",
              "      <td>NaN</td>\n",
              "      <td>NaN</td>\n",
              "      <td>NaN</td>\n",
              "      <td>NaN</td>\n",
              "      <td>NaN</td>\n",
              "      <td>NaN</td>\n",
              "      <td>NaN</td>\n",
              "      <td>NaN</td>\n",
              "      <td>NaN</td>\n",
              "      <td>NaN</td>\n",
              "      <td>NaN</td>\n",
              "      <td>NaN</td>\n",
              "      <td>NaN</td>\n",
              "      <td>NaN</td>\n",
              "      <td>NaN</td>\n",
              "      <td>NaN</td>\n",
              "      <td>NaN</td>\n",
              "      <td>NaN</td>\n",
              "    </tr>\n",
              "    <tr>\n",
              "      <th>6</th>\n",
              "      <td>2014-01-10</td>\n",
              "      <td>1840.060059</td>\n",
              "      <td>1843.150024</td>\n",
              "      <td>1832.430054</td>\n",
              "      <td>1842.369995</td>\n",
              "      <td>1842.369995</td>\n",
              "      <td>3.335710e+09</td>\n",
              "      <td>NaN</td>\n",
              "      <td>NaN</td>\n",
              "      <td>NaN</td>\n",
              "      <td>NaN</td>\n",
              "      <td>NaN</td>\n",
              "      <td>NaN</td>\n",
              "      <td>NaN</td>\n",
              "      <td>NaN</td>\n",
              "      <td>NaN</td>\n",
              "      <td>NaN</td>\n",
              "      <td>NaN</td>\n",
              "      <td>NaN</td>\n",
              "      <td>NaN</td>\n",
              "      <td>NaN</td>\n",
              "      <td>NaN</td>\n",
              "      <td>NaN</td>\n",
              "      <td>NaN</td>\n",
              "      <td>NaN</td>\n",
              "    </tr>\n",
              "    <tr>\n",
              "      <th>7</th>\n",
              "      <td>2014-01-13</td>\n",
              "      <td>1841.260010</td>\n",
              "      <td>1843.449951</td>\n",
              "      <td>1815.520020</td>\n",
              "      <td>1819.199951</td>\n",
              "      <td>1819.199951</td>\n",
              "      <td>3.591350e+09</td>\n",
              "      <td>NaN</td>\n",
              "      <td>NaN</td>\n",
              "      <td>NaN</td>\n",
              "      <td>NaN</td>\n",
              "      <td>NaN</td>\n",
              "      <td>NaN</td>\n",
              "      <td>NaN</td>\n",
              "      <td>NaN</td>\n",
              "      <td>NaN</td>\n",
              "      <td>NaN</td>\n",
              "      <td>NaN</td>\n",
              "      <td>NaN</td>\n",
              "      <td>NaN</td>\n",
              "      <td>NaN</td>\n",
              "      <td>NaN</td>\n",
              "      <td>NaN</td>\n",
              "      <td>NaN</td>\n",
              "      <td>NaN</td>\n",
              "    </tr>\n",
              "    <tr>\n",
              "      <th>8</th>\n",
              "      <td>2014-01-14</td>\n",
              "      <td>1821.359985</td>\n",
              "      <td>1839.260010</td>\n",
              "      <td>1821.359985</td>\n",
              "      <td>1838.880005</td>\n",
              "      <td>1838.880005</td>\n",
              "      <td>3.353270e+09</td>\n",
              "      <td>NaN</td>\n",
              "      <td>NaN</td>\n",
              "      <td>NaN</td>\n",
              "      <td>NaN</td>\n",
              "      <td>NaN</td>\n",
              "      <td>NaN</td>\n",
              "      <td>NaN</td>\n",
              "      <td>NaN</td>\n",
              "      <td>NaN</td>\n",
              "      <td>NaN</td>\n",
              "      <td>NaN</td>\n",
              "      <td>NaN</td>\n",
              "      <td>NaN</td>\n",
              "      <td>NaN</td>\n",
              "      <td>NaN</td>\n",
              "      <td>NaN</td>\n",
              "      <td>NaN</td>\n",
              "      <td>NaN</td>\n",
              "    </tr>\n",
              "    <tr>\n",
              "      <th>9</th>\n",
              "      <td>2014-01-15</td>\n",
              "      <td>1840.520020</td>\n",
              "      <td>1850.839966</td>\n",
              "      <td>1840.520020</td>\n",
              "      <td>1848.380005</td>\n",
              "      <td>1848.380005</td>\n",
              "      <td>3.777800e+09</td>\n",
              "      <td>NaN</td>\n",
              "      <td>NaN</td>\n",
              "      <td>NaN</td>\n",
              "      <td>NaN</td>\n",
              "      <td>NaN</td>\n",
              "      <td>NaN</td>\n",
              "      <td>NaN</td>\n",
              "      <td>NaN</td>\n",
              "      <td>NaN</td>\n",
              "      <td>NaN</td>\n",
              "      <td>NaN</td>\n",
              "      <td>NaN</td>\n",
              "      <td>NaN</td>\n",
              "      <td>NaN</td>\n",
              "      <td>NaN</td>\n",
              "      <td>NaN</td>\n",
              "      <td>NaN</td>\n",
              "      <td>NaN</td>\n",
              "    </tr>\n",
              "  </tbody>\n",
              "</table>\n",
              "</div>"
            ],
            "text/plain": [
              "        Date       Open_x       High_x  ...  Close_y  Adj Close_y  Volume_y\n",
              "0 2014-01-02  1845.859985  1845.859985  ...      NaN          NaN       NaN\n",
              "1 2014-01-03  1833.209961  1838.239990  ...      NaN          NaN       NaN\n",
              "2 2014-01-06  1832.310059  1837.160034  ...      NaN          NaN       NaN\n",
              "3 2014-01-07  1828.709961  1840.099976  ...      NaN          NaN       NaN\n",
              "4 2014-01-08  1837.900024  1840.020020  ...      NaN          NaN       NaN\n",
              "5 2014-01-09  1839.000000  1843.229980  ...      NaN          NaN       NaN\n",
              "6 2014-01-10  1840.060059  1843.150024  ...      NaN          NaN       NaN\n",
              "7 2014-01-13  1841.260010  1843.449951  ...      NaN          NaN       NaN\n",
              "8 2014-01-14  1821.359985  1839.260010  ...      NaN          NaN       NaN\n",
              "9 2014-01-15  1840.520020  1850.839966  ...      NaN          NaN       NaN\n",
              "\n",
              "[10 rows x 25 columns]"
            ]
          },
          "metadata": {},
          "execution_count": 85
        }
      ]
    },
    {
      "cell_type": "code",
      "metadata": {
        "id": "w6AD9562DNFD",
        "colab": {
          "base_uri": "https://localhost:8080/",
          "height": 297
        },
        "outputId": "06873a24-c985-4b7c-915f-d6809d0724b8"
      },
      "source": [
        "SP5.describe()"
      ],
      "execution_count": null,
      "outputs": [
        {
          "output_type": "execute_result",
          "data": {
            "text/html": [
              "<div>\n",
              "<style scoped>\n",
              "    .dataframe tbody tr th:only-of-type {\n",
              "        vertical-align: middle;\n",
              "    }\n",
              "\n",
              "    .dataframe tbody tr th {\n",
              "        vertical-align: top;\n",
              "    }\n",
              "\n",
              "    .dataframe thead th {\n",
              "        text-align: right;\n",
              "    }\n",
              "</style>\n",
              "<table border=\"1\" class=\"dataframe\">\n",
              "  <thead>\n",
              "    <tr style=\"text-align: right;\">\n",
              "      <th></th>\n",
              "      <th>Open</th>\n",
              "      <th>High</th>\n",
              "      <th>Low</th>\n",
              "      <th>Close</th>\n",
              "      <th>Adj Close</th>\n",
              "      <th>Volume</th>\n",
              "    </tr>\n",
              "  </thead>\n",
              "  <tbody>\n",
              "    <tr>\n",
              "      <th>count</th>\n",
              "      <td>1972.000000</td>\n",
              "      <td>1972.000000</td>\n",
              "      <td>1972.000000</td>\n",
              "      <td>1972.000000</td>\n",
              "      <td>1972.000000</td>\n",
              "      <td>1.972000e+03</td>\n",
              "    </tr>\n",
              "    <tr>\n",
              "      <th>mean</th>\n",
              "      <td>2667.990309</td>\n",
              "      <td>2680.976512</td>\n",
              "      <td>2653.910249</td>\n",
              "      <td>2668.500151</td>\n",
              "      <td>2668.500151</td>\n",
              "      <td>3.791833e+09</td>\n",
              "    </tr>\n",
              "    <tr>\n",
              "      <th>std</th>\n",
              "      <td>696.244198</td>\n",
              "      <td>699.639608</td>\n",
              "      <td>693.241960</td>\n",
              "      <td>696.790408</td>\n",
              "      <td>696.790408</td>\n",
              "      <td>9.629229e+08</td>\n",
              "    </tr>\n",
              "    <tr>\n",
              "      <th>min</th>\n",
              "      <td>1743.819946</td>\n",
              "      <td>1755.790039</td>\n",
              "      <td>1737.920044</td>\n",
              "      <td>1741.890015</td>\n",
              "      <td>1741.890015</td>\n",
              "      <td>1.296540e+09</td>\n",
              "    </tr>\n",
              "    <tr>\n",
              "      <th>25%</th>\n",
              "      <td>2083.767517</td>\n",
              "      <td>2093.772522</td>\n",
              "      <td>2075.567566</td>\n",
              "      <td>2083.947571</td>\n",
              "      <td>2083.947571</td>\n",
              "      <td>3.221038e+09</td>\n",
              "    </tr>\n",
              "    <tr>\n",
              "      <th>50%</th>\n",
              "      <td>2564.695068</td>\n",
              "      <td>2576.864990</td>\n",
              "      <td>2548.130005</td>\n",
              "      <td>2561.680054</td>\n",
              "      <td>2561.680054</td>\n",
              "      <td>3.578955e+09</td>\n",
              "    </tr>\n",
              "    <tr>\n",
              "      <th>75%</th>\n",
              "      <td>2975.230042</td>\n",
              "      <td>2987.840027</td>\n",
              "      <td>2961.185059</td>\n",
              "      <td>2976.642578</td>\n",
              "      <td>2976.642578</td>\n",
              "      <td>4.096895e+09</td>\n",
              "    </tr>\n",
              "    <tr>\n",
              "      <th>max</th>\n",
              "      <td>4580.220215</td>\n",
              "      <td>4608.080078</td>\n",
              "      <td>4569.169922</td>\n",
              "      <td>4605.379883</td>\n",
              "      <td>4605.379883</td>\n",
              "      <td>9.878040e+09</td>\n",
              "    </tr>\n",
              "  </tbody>\n",
              "</table>\n",
              "</div>"
            ],
            "text/plain": [
              "              Open         High  ...    Adj Close        Volume\n",
              "count  1972.000000  1972.000000  ...  1972.000000  1.972000e+03\n",
              "mean   2667.990309  2680.976512  ...  2668.500151  3.791833e+09\n",
              "std     696.244198   699.639608  ...   696.790408  9.629229e+08\n",
              "min    1743.819946  1755.790039  ...  1741.890015  1.296540e+09\n",
              "25%    2083.767517  2093.772522  ...  2083.947571  3.221038e+09\n",
              "50%    2564.695068  2576.864990  ...  2561.680054  3.578955e+09\n",
              "75%    2975.230042  2987.840027  ...  2976.642578  4.096895e+09\n",
              "max    4580.220215  4608.080078  ...  4605.379883  9.878040e+09\n",
              "\n",
              "[8 rows x 6 columns]"
            ]
          },
          "metadata": {},
          "execution_count": 86
        }
      ]
    },
    {
      "cell_type": "code",
      "metadata": {
        "id": "MSXPX4SVDQlm"
      },
      "source": [
        "Merged.columns = [\"Date\",\"Open_SP5\",\t'High_SP5'\t,'Low_SP5',\t'Close_SP5',\t'Adj_Close_SP5','Volume_SP5',\"Open_ETH\",\t'High_ETH'\t,'Low_ETH',\t'Close_ETH',\t'Adj_Close_ETH','Volume_ETH',\"Open_DOGE\",\t'High_DOGE'\t,'Low_DOGE',\t'Close_DOGE',\t'Adj_Close_DOGE','Volume_BTC',\"Open_BTC\",\t'High_BTC'\t,'Low_BTC',\t'Close_BTC',\t'Adj_Close_BTC','Volume_BTC']"
      ],
      "execution_count": null,
      "outputs": []
    },
    {
      "cell_type": "code",
      "metadata": {
        "id": "LMTHi4qyEjQe",
        "colab": {
          "base_uri": "https://localhost:8080/",
          "height": 549
        },
        "outputId": "3ced4cd9-2d36-41cc-d413-e02dcd469566"
      },
      "source": [
        "Merged.head(10)"
      ],
      "execution_count": null,
      "outputs": [
        {
          "output_type": "execute_result",
          "data": {
            "text/html": [
              "<div>\n",
              "<style scoped>\n",
              "    .dataframe tbody tr th:only-of-type {\n",
              "        vertical-align: middle;\n",
              "    }\n",
              "\n",
              "    .dataframe tbody tr th {\n",
              "        vertical-align: top;\n",
              "    }\n",
              "\n",
              "    .dataframe thead th {\n",
              "        text-align: right;\n",
              "    }\n",
              "</style>\n",
              "<table border=\"1\" class=\"dataframe\">\n",
              "  <thead>\n",
              "    <tr style=\"text-align: right;\">\n",
              "      <th></th>\n",
              "      <th>Date</th>\n",
              "      <th>Open_SP5</th>\n",
              "      <th>High_SP5</th>\n",
              "      <th>Low_SP5</th>\n",
              "      <th>Close_SP5</th>\n",
              "      <th>Adj_Close_SP5</th>\n",
              "      <th>Volume_SP5</th>\n",
              "      <th>Open_ETH</th>\n",
              "      <th>High_ETH</th>\n",
              "      <th>Low_ETH</th>\n",
              "      <th>Close_ETH</th>\n",
              "      <th>Adj_Close_ETH</th>\n",
              "      <th>Volume_ETH</th>\n",
              "      <th>Open_DOGE</th>\n",
              "      <th>High_DOGE</th>\n",
              "      <th>Low_DOGE</th>\n",
              "      <th>Close_DOGE</th>\n",
              "      <th>Adj_Close_DOGE</th>\n",
              "      <th>Volume_BTC</th>\n",
              "      <th>Open_BTC</th>\n",
              "      <th>High_BTC</th>\n",
              "      <th>Low_BTC</th>\n",
              "      <th>Close_BTC</th>\n",
              "      <th>Adj_Close_BTC</th>\n",
              "      <th>Volume_BTC</th>\n",
              "    </tr>\n",
              "  </thead>\n",
              "  <tbody>\n",
              "    <tr>\n",
              "      <th>0</th>\n",
              "      <td>2014-01-02</td>\n",
              "      <td>1845.859985</td>\n",
              "      <td>1845.859985</td>\n",
              "      <td>1827.739990</td>\n",
              "      <td>1831.979980</td>\n",
              "      <td>1831.979980</td>\n",
              "      <td>3.080600e+09</td>\n",
              "      <td>NaN</td>\n",
              "      <td>NaN</td>\n",
              "      <td>NaN</td>\n",
              "      <td>NaN</td>\n",
              "      <td>NaN</td>\n",
              "      <td>NaN</td>\n",
              "      <td>NaN</td>\n",
              "      <td>NaN</td>\n",
              "      <td>NaN</td>\n",
              "      <td>NaN</td>\n",
              "      <td>NaN</td>\n",
              "      <td>NaN</td>\n",
              "      <td>NaN</td>\n",
              "      <td>NaN</td>\n",
              "      <td>NaN</td>\n",
              "      <td>NaN</td>\n",
              "      <td>NaN</td>\n",
              "      <td>NaN</td>\n",
              "    </tr>\n",
              "    <tr>\n",
              "      <th>1</th>\n",
              "      <td>2014-01-03</td>\n",
              "      <td>1833.209961</td>\n",
              "      <td>1838.239990</td>\n",
              "      <td>1829.130005</td>\n",
              "      <td>1831.369995</td>\n",
              "      <td>1831.369995</td>\n",
              "      <td>2.774270e+09</td>\n",
              "      <td>NaN</td>\n",
              "      <td>NaN</td>\n",
              "      <td>NaN</td>\n",
              "      <td>NaN</td>\n",
              "      <td>NaN</td>\n",
              "      <td>NaN</td>\n",
              "      <td>NaN</td>\n",
              "      <td>NaN</td>\n",
              "      <td>NaN</td>\n",
              "      <td>NaN</td>\n",
              "      <td>NaN</td>\n",
              "      <td>NaN</td>\n",
              "      <td>NaN</td>\n",
              "      <td>NaN</td>\n",
              "      <td>NaN</td>\n",
              "      <td>NaN</td>\n",
              "      <td>NaN</td>\n",
              "      <td>NaN</td>\n",
              "    </tr>\n",
              "    <tr>\n",
              "      <th>2</th>\n",
              "      <td>2014-01-06</td>\n",
              "      <td>1832.310059</td>\n",
              "      <td>1837.160034</td>\n",
              "      <td>1823.729980</td>\n",
              "      <td>1826.770020</td>\n",
              "      <td>1826.770020</td>\n",
              "      <td>3.294850e+09</td>\n",
              "      <td>NaN</td>\n",
              "      <td>NaN</td>\n",
              "      <td>NaN</td>\n",
              "      <td>NaN</td>\n",
              "      <td>NaN</td>\n",
              "      <td>NaN</td>\n",
              "      <td>NaN</td>\n",
              "      <td>NaN</td>\n",
              "      <td>NaN</td>\n",
              "      <td>NaN</td>\n",
              "      <td>NaN</td>\n",
              "      <td>NaN</td>\n",
              "      <td>NaN</td>\n",
              "      <td>NaN</td>\n",
              "      <td>NaN</td>\n",
              "      <td>NaN</td>\n",
              "      <td>NaN</td>\n",
              "      <td>NaN</td>\n",
              "    </tr>\n",
              "    <tr>\n",
              "      <th>3</th>\n",
              "      <td>2014-01-07</td>\n",
              "      <td>1828.709961</td>\n",
              "      <td>1840.099976</td>\n",
              "      <td>1828.709961</td>\n",
              "      <td>1837.880005</td>\n",
              "      <td>1837.880005</td>\n",
              "      <td>3.511750e+09</td>\n",
              "      <td>NaN</td>\n",
              "      <td>NaN</td>\n",
              "      <td>NaN</td>\n",
              "      <td>NaN</td>\n",
              "      <td>NaN</td>\n",
              "      <td>NaN</td>\n",
              "      <td>NaN</td>\n",
              "      <td>NaN</td>\n",
              "      <td>NaN</td>\n",
              "      <td>NaN</td>\n",
              "      <td>NaN</td>\n",
              "      <td>NaN</td>\n",
              "      <td>NaN</td>\n",
              "      <td>NaN</td>\n",
              "      <td>NaN</td>\n",
              "      <td>NaN</td>\n",
              "      <td>NaN</td>\n",
              "      <td>NaN</td>\n",
              "    </tr>\n",
              "    <tr>\n",
              "      <th>4</th>\n",
              "      <td>2014-01-08</td>\n",
              "      <td>1837.900024</td>\n",
              "      <td>1840.020020</td>\n",
              "      <td>1831.400024</td>\n",
              "      <td>1837.489990</td>\n",
              "      <td>1837.489990</td>\n",
              "      <td>3.652140e+09</td>\n",
              "      <td>NaN</td>\n",
              "      <td>NaN</td>\n",
              "      <td>NaN</td>\n",
              "      <td>NaN</td>\n",
              "      <td>NaN</td>\n",
              "      <td>NaN</td>\n",
              "      <td>NaN</td>\n",
              "      <td>NaN</td>\n",
              "      <td>NaN</td>\n",
              "      <td>NaN</td>\n",
              "      <td>NaN</td>\n",
              "      <td>NaN</td>\n",
              "      <td>NaN</td>\n",
              "      <td>NaN</td>\n",
              "      <td>NaN</td>\n",
              "      <td>NaN</td>\n",
              "      <td>NaN</td>\n",
              "      <td>NaN</td>\n",
              "    </tr>\n",
              "    <tr>\n",
              "      <th>5</th>\n",
              "      <td>2014-01-09</td>\n",
              "      <td>1839.000000</td>\n",
              "      <td>1843.229980</td>\n",
              "      <td>1830.380005</td>\n",
              "      <td>1838.130005</td>\n",
              "      <td>1838.130005</td>\n",
              "      <td>3.581150e+09</td>\n",
              "      <td>NaN</td>\n",
              "      <td>NaN</td>\n",
              "      <td>NaN</td>\n",
              "      <td>NaN</td>\n",
              "      <td>NaN</td>\n",
              "      <td>NaN</td>\n",
              "      <td>NaN</td>\n",
              "      <td>NaN</td>\n",
              "      <td>NaN</td>\n",
              "      <td>NaN</td>\n",
              "      <td>NaN</td>\n",
              "      <td>NaN</td>\n",
              "      <td>NaN</td>\n",
              "      <td>NaN</td>\n",
              "      <td>NaN</td>\n",
              "      <td>NaN</td>\n",
              "      <td>NaN</td>\n",
              "      <td>NaN</td>\n",
              "    </tr>\n",
              "    <tr>\n",
              "      <th>6</th>\n",
              "      <td>2014-01-10</td>\n",
              "      <td>1840.060059</td>\n",
              "      <td>1843.150024</td>\n",
              "      <td>1832.430054</td>\n",
              "      <td>1842.369995</td>\n",
              "      <td>1842.369995</td>\n",
              "      <td>3.335710e+09</td>\n",
              "      <td>NaN</td>\n",
              "      <td>NaN</td>\n",
              "      <td>NaN</td>\n",
              "      <td>NaN</td>\n",
              "      <td>NaN</td>\n",
              "      <td>NaN</td>\n",
              "      <td>NaN</td>\n",
              "      <td>NaN</td>\n",
              "      <td>NaN</td>\n",
              "      <td>NaN</td>\n",
              "      <td>NaN</td>\n",
              "      <td>NaN</td>\n",
              "      <td>NaN</td>\n",
              "      <td>NaN</td>\n",
              "      <td>NaN</td>\n",
              "      <td>NaN</td>\n",
              "      <td>NaN</td>\n",
              "      <td>NaN</td>\n",
              "    </tr>\n",
              "    <tr>\n",
              "      <th>7</th>\n",
              "      <td>2014-01-13</td>\n",
              "      <td>1841.260010</td>\n",
              "      <td>1843.449951</td>\n",
              "      <td>1815.520020</td>\n",
              "      <td>1819.199951</td>\n",
              "      <td>1819.199951</td>\n",
              "      <td>3.591350e+09</td>\n",
              "      <td>NaN</td>\n",
              "      <td>NaN</td>\n",
              "      <td>NaN</td>\n",
              "      <td>NaN</td>\n",
              "      <td>NaN</td>\n",
              "      <td>NaN</td>\n",
              "      <td>NaN</td>\n",
              "      <td>NaN</td>\n",
              "      <td>NaN</td>\n",
              "      <td>NaN</td>\n",
              "      <td>NaN</td>\n",
              "      <td>NaN</td>\n",
              "      <td>NaN</td>\n",
              "      <td>NaN</td>\n",
              "      <td>NaN</td>\n",
              "      <td>NaN</td>\n",
              "      <td>NaN</td>\n",
              "      <td>NaN</td>\n",
              "    </tr>\n",
              "    <tr>\n",
              "      <th>8</th>\n",
              "      <td>2014-01-14</td>\n",
              "      <td>1821.359985</td>\n",
              "      <td>1839.260010</td>\n",
              "      <td>1821.359985</td>\n",
              "      <td>1838.880005</td>\n",
              "      <td>1838.880005</td>\n",
              "      <td>3.353270e+09</td>\n",
              "      <td>NaN</td>\n",
              "      <td>NaN</td>\n",
              "      <td>NaN</td>\n",
              "      <td>NaN</td>\n",
              "      <td>NaN</td>\n",
              "      <td>NaN</td>\n",
              "      <td>NaN</td>\n",
              "      <td>NaN</td>\n",
              "      <td>NaN</td>\n",
              "      <td>NaN</td>\n",
              "      <td>NaN</td>\n",
              "      <td>NaN</td>\n",
              "      <td>NaN</td>\n",
              "      <td>NaN</td>\n",
              "      <td>NaN</td>\n",
              "      <td>NaN</td>\n",
              "      <td>NaN</td>\n",
              "      <td>NaN</td>\n",
              "    </tr>\n",
              "    <tr>\n",
              "      <th>9</th>\n",
              "      <td>2014-01-15</td>\n",
              "      <td>1840.520020</td>\n",
              "      <td>1850.839966</td>\n",
              "      <td>1840.520020</td>\n",
              "      <td>1848.380005</td>\n",
              "      <td>1848.380005</td>\n",
              "      <td>3.777800e+09</td>\n",
              "      <td>NaN</td>\n",
              "      <td>NaN</td>\n",
              "      <td>NaN</td>\n",
              "      <td>NaN</td>\n",
              "      <td>NaN</td>\n",
              "      <td>NaN</td>\n",
              "      <td>NaN</td>\n",
              "      <td>NaN</td>\n",
              "      <td>NaN</td>\n",
              "      <td>NaN</td>\n",
              "      <td>NaN</td>\n",
              "      <td>NaN</td>\n",
              "      <td>NaN</td>\n",
              "      <td>NaN</td>\n",
              "      <td>NaN</td>\n",
              "      <td>NaN</td>\n",
              "      <td>NaN</td>\n",
              "      <td>NaN</td>\n",
              "    </tr>\n",
              "  </tbody>\n",
              "</table>\n",
              "</div>"
            ],
            "text/plain": [
              "        Date     Open_SP5     High_SP5  ...  Close_BTC  Adj_Close_BTC  Volume_BTC\n",
              "0 2014-01-02  1845.859985  1845.859985  ...        NaN            NaN         NaN\n",
              "1 2014-01-03  1833.209961  1838.239990  ...        NaN            NaN         NaN\n",
              "2 2014-01-06  1832.310059  1837.160034  ...        NaN            NaN         NaN\n",
              "3 2014-01-07  1828.709961  1840.099976  ...        NaN            NaN         NaN\n",
              "4 2014-01-08  1837.900024  1840.020020  ...        NaN            NaN         NaN\n",
              "5 2014-01-09  1839.000000  1843.229980  ...        NaN            NaN         NaN\n",
              "6 2014-01-10  1840.060059  1843.150024  ...        NaN            NaN         NaN\n",
              "7 2014-01-13  1841.260010  1843.449951  ...        NaN            NaN         NaN\n",
              "8 2014-01-14  1821.359985  1839.260010  ...        NaN            NaN         NaN\n",
              "9 2014-01-15  1840.520020  1850.839966  ...        NaN            NaN         NaN\n",
              "\n",
              "[10 rows x 25 columns]"
            ]
          },
          "metadata": {},
          "execution_count": 88
        }
      ]
    },
    {
      "cell_type": "code",
      "metadata": {
        "id": "wVP1cv9kJDAp"
      },
      "source": [
        "#Testing Append Merge \n",
        "\n",
        "BTC2=BTC.copy()\n",
        "ETH2=ETH.copy()\n",
        "DOGE2=DOGE.copy()\n",
        "SP52=SP5.copy()\n",
        "\n",
        "BTC2['asset']='BTC'\n",
        "ETH2['asset']='ETH'\n",
        "DOGE2['asset']='DOGE'\n",
        "SP52['asset']='SP5'\n"
      ],
      "execution_count": null,
      "outputs": []
    },
    {
      "cell_type": "code",
      "metadata": {
        "colab": {
          "base_uri": "https://localhost:8080/"
        },
        "id": "ko5-NdLpvtOT",
        "outputId": "c13bea61-283e-45d5-fc9e-72f0cf42d6f1"
      },
      "source": [
        "#Making a data frame of the closing price for utilizing percent change of the dataframe. c1 is for change dataframe. \n",
        "\n",
        "Merged.columns\n",
        "\n",
        "c1_col=['Date','Adj_Close_SP5','Adj_Close_ETH','Adj_Close_DOGE','Adj_Close_BTC']\n",
        "\n",
        "c1=Merged[c1_col]\n",
        "\n",
        "\n",
        "c1['Date']=pd.to_datetime(c1.Date)\n",
        "\n",
        "\n",
        "\n"
      ],
      "execution_count": null,
      "outputs": [
        {
          "output_type": "stream",
          "name": "stderr",
          "text": [
            "/usr/local/lib/python3.7/dist-packages/ipykernel_launcher.py:10: SettingWithCopyWarning: \n",
            "A value is trying to be set on a copy of a slice from a DataFrame.\n",
            "Try using .loc[row_indexer,col_indexer] = value instead\n",
            "\n",
            "See the caveats in the documentation: https://pandas.pydata.org/pandas-docs/stable/user_guide/indexing.html#returning-a-view-versus-a-copy\n",
            "  # Remove the CWD from sys.path while we load stuff.\n"
          ]
        }
      ]
    },
    {
      "cell_type": "code",
      "metadata": {
        "id": "y94FSXSDjhwI"
      },
      "source": [
        "#printing c1 to see if it is converting to date. \n",
        "\n",
        "c1 = c1.sort_values('Date')"
      ],
      "execution_count": null,
      "outputs": []
    },
    {
      "cell_type": "code",
      "metadata": {
        "id": "w2I7zosMkk8G"
      },
      "source": [
        " #Settinng index to date \n",
        " \n",
        " c1 =c1.set_index(c1['Date'])"
      ],
      "execution_count": null,
      "outputs": []
    },
    {
      "cell_type": "code",
      "metadata": {
        "id": "ROoONOEly058"
      },
      "source": [
        "#dropping the date column \n",
        "c1 =c1.drop('Date',axis=1)\n"
      ],
      "execution_count": null,
      "outputs": []
    },
    {
      "cell_type": "code",
      "metadata": {
        "colab": {
          "base_uri": "https://localhost:8080/",
          "height": 302
        },
        "id": "Tf-64lAY2rS1",
        "outputId": "b2a5f95b-4c8c-48d6-9558-a00017a08065"
      },
      "source": [
        "c1.plot(title=\"Adjusted Price over Time\")"
      ],
      "execution_count": null,
      "outputs": [
        {
          "output_type": "execute_result",
          "data": {
            "text/plain": [
              "<matplotlib.axes._subplots.AxesSubplot at 0x7f493310ccd0>"
            ]
          },
          "metadata": {},
          "execution_count": 94
        },
        {
          "output_type": "display_data",
          "data": {
            "image/png": "[encoded data removed]",
            "text/plain": [
              "<Figure size 432x288 with 1 Axes>"
            ]
          },
          "metadata": {
            "needs_background": "light"
          }
        }
      ]
    },
    {
      "cell_type": "code",
      "metadata": {
        "id": "2HCjLmgE0at7"
      },
      "source": [
        "#made new percent change df to limit constant recalculation. \n",
        "\n",
        "pc1= c1.pct_change(fill_method='ffill')\n",
        "\n",
        "\n"
      ],
      "execution_count": null,
      "outputs": []
    },
    {
      "cell_type": "code",
      "metadata": {
        "id": "mRzfW38N3c8s"
      },
      "source": [
        "pc1=pc1*100"
      ],
      "execution_count": null,
      "outputs": []
    },
    {
      "cell_type": "code",
      "metadata": {
        "id": "v2NvYrVVcJjs"
      },
      "source": [
        "#Setting up a new data frame to evalyate more recent (past 2 years) price movements. \n",
        "#Commenting out this step will \n",
        "\n",
        "pc1 = pc1.loc['2019-10-31':'2021-10-31']"
      ],
      "execution_count": null,
      "outputs": []
    },
    {
      "cell_type": "code",
      "metadata": {
        "colab": {
          "base_uri": "https://localhost:8080/",
          "height": 324
        },
        "id": "JwUflLG-1yGd",
        "outputId": "54662a67-fa28-4974-d1f3-9e4e66bedddf"
      },
      "source": [
        "pc1.plot(title='Daily Percent Change')"
      ],
      "execution_count": null,
      "outputs": [
        {
          "output_type": "execute_result",
          "data": {
            "text/plain": [
              "<matplotlib.axes._subplots.AxesSubplot at 0x7f49330e9fd0>"
            ]
          },
          "metadata": {},
          "execution_count": 98
        },
        {
          "output_type": "display_data",
          "data": {
            "image/png": "[encoded data removed]",
            "text/plain": [
              "<Figure size 432x288 with 1 Axes>"
            ]
          },
          "metadata": {
            "needs_background": "light"
          }
        }
      ]
    },
    {
      "cell_type": "code",
      "metadata": {
        "colab": {
          "base_uri": "https://localhost:8080/",
          "height": 173
        },
        "id": "Km78w3un16x6",
        "outputId": "8cac5113-1831-4764-8fcc-7e1624b345be"
      },
      "source": [
        "#calculating correlation of the percent change columns.\n",
        "\n",
        "\n",
        "corr = pc1.corr()\n",
        "corr.style.background_gradient(cmap='coolwarm')"
      ],
      "execution_count": null,
      "outputs": [
        {
          "output_type": "execute_result",
          "data": {
            "text/html": [
              "<style  type=\"text/css\" >\n",
              "#T_e138b476_56d0_11ec_8222_0242ac1c0002row0_col0,#T_e138b476_56d0_11ec_8222_0242ac1c0002row1_col1,#T_e138b476_56d0_11ec_8222_0242ac1c0002row2_col2,#T_e138b476_56d0_11ec_8222_0242ac1c0002row3_col3{\n",
              "            background-color:  #b40426;\n",
              "            color:  #f1f1f1;\n",
              "        }#T_e138b476_56d0_11ec_8222_0242ac1c0002row0_col1{\n",
              "            background-color:  #4055c8;\n",
              "            color:  #f1f1f1;\n",
              "        }#T_e138b476_56d0_11ec_8222_0242ac1c0002row0_col2,#T_e138b476_56d0_11ec_8222_0242ac1c0002row0_col3,#T_e138b476_56d0_11ec_8222_0242ac1c0002row2_col0,#T_e138b476_56d0_11ec_8222_0242ac1c0002row2_col1{\n",
              "            background-color:  #3b4cc0;\n",
              "            color:  #f1f1f1;\n",
              "        }#T_e138b476_56d0_11ec_8222_0242ac1c0002row1_col0{\n",
              "            background-color:  #92b4fe;\n",
              "            color:  #000000;\n",
              "        }#T_e138b476_56d0_11ec_8222_0242ac1c0002row1_col2{\n",
              "            background-color:  #8badfd;\n",
              "            color:  #000000;\n",
              "        }#T_e138b476_56d0_11ec_8222_0242ac1c0002row1_col3{\n",
              "            background-color:  #f7aa8c;\n",
              "            color:  #000000;\n",
              "        }#T_e138b476_56d0_11ec_8222_0242ac1c0002row2_col3{\n",
              "            background-color:  #3d50c3;\n",
              "            color:  #f1f1f1;\n",
              "        }#T_e138b476_56d0_11ec_8222_0242ac1c0002row3_col0{\n",
              "            background-color:  #94b6ff;\n",
              "            color:  #000000;\n",
              "        }#T_e138b476_56d0_11ec_8222_0242ac1c0002row3_col1{\n",
              "            background-color:  #f7a688;\n",
              "            color:  #000000;\n",
              "        }#T_e138b476_56d0_11ec_8222_0242ac1c0002row3_col2{\n",
              "            background-color:  #97b8ff;\n",
              "            color:  #000000;\n",
              "        }</style><table id=\"T_e138b476_56d0_11ec_8222_0242ac1c0002\" class=\"dataframe\"><thead>    <tr>        <th class=\"blank level0\" ></th>        <th class=\"col_heading level0 col0\" >Adj_Close_SP5</th>        <th class=\"col_heading level0 col1\" >Adj_Close_ETH</th>        <th class=\"col_heading level0 col2\" >Adj_Close_DOGE</th>        <th class=\"col_heading level0 col3\" >Adj_Close_BTC</th>    </tr></thead><tbody>\n",
              "                <tr>\n",
              "                        <th id=\"T_e138b476_56d0_11ec_8222_0242ac1c0002level0_row0\" class=\"row_heading level0 row0\" >Adj_Close_SP5</th>\n",
              "                        <td id=\"T_e138b476_56d0_11ec_8222_0242ac1c0002row0_col0\" class=\"data row0 col0\" >1.000000</td>\n",
              "                        <td id=\"T_e138b476_56d0_11ec_8222_0242ac1c0002row0_col1\" class=\"data row0 col1\" >0.298257</td>\n",
              "                        <td id=\"T_e138b476_56d0_11ec_8222_0242ac1c0002row0_col2\" class=\"data row0 col2\" >0.048475</td>\n",
              "                        <td id=\"T_e138b476_56d0_11ec_8222_0242ac1c0002row0_col3\" class=\"data row0 col3\" >0.306851</td>\n",
              "            </tr>\n",
              "            <tr>\n",
              "                        <th id=\"T_e138b476_56d0_11ec_8222_0242ac1c0002level0_row1\" class=\"row_heading level0 row1\" >Adj_Close_ETH</th>\n",
              "                        <td id=\"T_e138b476_56d0_11ec_8222_0242ac1c0002row1_col0\" class=\"data row1 col0\" >0.298257</td>\n",
              "                        <td id=\"T_e138b476_56d0_11ec_8222_0242ac1c0002row1_col1\" class=\"data row1 col1\" >1.000000</td>\n",
              "                        <td id=\"T_e138b476_56d0_11ec_8222_0242ac1c0002row1_col2\" class=\"data row1 col2\" >0.282551</td>\n",
              "                        <td id=\"T_e138b476_56d0_11ec_8222_0242ac1c0002row1_col3\" class=\"data row1 col3\" >0.796178</td>\n",
              "            </tr>\n",
              "            <tr>\n",
              "                        <th id=\"T_e138b476_56d0_11ec_8222_0242ac1c0002level0_row2\" class=\"row_heading level0 row2\" >Adj_Close_DOGE</th>\n",
              "                        <td id=\"T_e138b476_56d0_11ec_8222_0242ac1c0002row2_col0\" class=\"data row2 col0\" >0.048475</td>\n",
              "                        <td id=\"T_e138b476_56d0_11ec_8222_0242ac1c0002row2_col1\" class=\"data row2 col1\" >0.282551</td>\n",
              "                        <td id=\"T_e138b476_56d0_11ec_8222_0242ac1c0002row2_col2\" class=\"data row2 col2\" >1.000000</td>\n",
              "                        <td id=\"T_e138b476_56d0_11ec_8222_0242ac1c0002row2_col3\" class=\"data row2 col3\" >0.312603</td>\n",
              "            </tr>\n",
              "            <tr>\n",
              "                        <th id=\"T_e138b476_56d0_11ec_8222_0242ac1c0002level0_row3\" class=\"row_heading level0 row3\" >Adj_Close_BTC</th>\n",
              "                        <td id=\"T_e138b476_56d0_11ec_8222_0242ac1c0002row3_col0\" class=\"data row3 col0\" >0.306851</td>\n",
              "                        <td id=\"T_e138b476_56d0_11ec_8222_0242ac1c0002row3_col1\" class=\"data row3 col1\" >0.796178</td>\n",
              "                        <td id=\"T_e138b476_56d0_11ec_8222_0242ac1c0002row3_col2\" class=\"data row3 col2\" >0.312603</td>\n",
              "                        <td id=\"T_e138b476_56d0_11ec_8222_0242ac1c0002row3_col3\" class=\"data row3 col3\" >1.000000</td>\n",
              "            </tr>\n",
              "    </tbody></table>"
            ],
            "text/plain": [
              "<pandas.io.formats.style.Styler at 0x7f4932f9f8d0>"
            ]
          },
          "metadata": {},
          "execution_count": 99
        }
      ]
    },
    {
      "cell_type": "code",
      "metadata": {
        "colab": {
          "base_uri": "https://localhost:8080/",
          "height": 407
        },
        "id": "8HBOcyBx3S3j",
        "outputId": "0a7ef43a-c74e-4243-a07a-cdfab3fce92d"
      },
      "source": [
        "#Creating multiple histograms. Can see from the plots below that eth and BTC \n",
        "#have significantly more volatility. \n",
        "import matplotlib.pyplot as plt\n",
        "import numpy as np\n",
        "\n",
        "plt.figure(figsize=(8,6))\n",
        "plt.hist(pc1['Adj_Close_SP5'], bins=30, alpha=.5, label='Adj_Close_SP5');\n",
        "plt.hist(pc1['Adj_Close_BTC'], bins=30, alpha=.5, label='Adj_Close_BTC');\n",
        "plt.hist(pc1['Adj_Close_ETH'], bins=30, alpha=.5, label='Adj_Close_ETH');\n",
        "plt.legend()\n",
        "plt.title('Histogram of Daily Percent Change: Oct 2019 - Oct 2021')\n",
        "\n",
        "#plt.hist(pc1['Adj Close_DOGE'], bins=30, alpha=.5, label='Adj Close_DOGE');\n",
        "#took out doge because distorted plot. \n",
        "#asking max if a power transformation would be appropriate here. "
      ],
      "execution_count": null,
      "outputs": [
        {
          "output_type": "execute_result",
          "data": {
            "text/plain": [
              "Text(0.5, 1.0, 'Histogram of Daily Percent Change: Oct 2019 - Oct 2021')"
            ]
          },
          "metadata": {},
          "execution_count": 100
        },
        {
          "output_type": "display_data",
          "data": {
            "image/png": "[encoded data removed]",
            "text/plain": [
              "<Figure size 576x432 with 1 Axes>"
            ]
          },
          "metadata": {
            "needs_background": "light"
          }
        }
      ]
    },
    {
      "cell_type": "code",
      "metadata": {
        "colab": {
          "base_uri": "https://localhost:8080/",
          "height": 297
        },
        "id": "tu98_74q5wD4",
        "outputId": "2c722a78-883a-45d7-8097-446fa1ab361a"
      },
      "source": [
        "#daily variance is much higher for ETH, BTC DOGE. Approx 6-10 percent. \n",
        "pc1.describe()"
      ],
      "execution_count": null,
      "outputs": [
        {
          "output_type": "execute_result",
          "data": {
            "text/html": [
              "<div>\n",
              "<style scoped>\n",
              "    .dataframe tbody tr th:only-of-type {\n",
              "        vertical-align: middle;\n",
              "    }\n",
              "\n",
              "    .dataframe tbody tr th {\n",
              "        vertical-align: top;\n",
              "    }\n",
              "\n",
              "    .dataframe thead th {\n",
              "        text-align: right;\n",
              "    }\n",
              "</style>\n",
              "<table border=\"1\" class=\"dataframe\">\n",
              "  <thead>\n",
              "    <tr style=\"text-align: right;\">\n",
              "      <th></th>\n",
              "      <th>Adj_Close_SP5</th>\n",
              "      <th>Adj_Close_ETH</th>\n",
              "      <th>Adj_Close_DOGE</th>\n",
              "      <th>Adj_Close_BTC</th>\n",
              "    </tr>\n",
              "  </thead>\n",
              "  <tbody>\n",
              "    <tr>\n",
              "      <th>count</th>\n",
              "      <td>732.000000</td>\n",
              "      <td>732.000000</td>\n",
              "      <td>732.000000</td>\n",
              "      <td>732.000000</td>\n",
              "    </tr>\n",
              "    <tr>\n",
              "      <th>mean</th>\n",
              "      <td>0.065599</td>\n",
              "      <td>0.572328</td>\n",
              "      <td>1.212792</td>\n",
              "      <td>0.339902</td>\n",
              "    </tr>\n",
              "    <tr>\n",
              "      <th>std</th>\n",
              "      <td>1.347426</td>\n",
              "      <td>5.238155</td>\n",
              "      <td>13.848363</td>\n",
              "      <td>3.948297</td>\n",
              "    </tr>\n",
              "    <tr>\n",
              "      <th>min</th>\n",
              "      <td>-11.984055</td>\n",
              "      <td>-42.347221</td>\n",
              "      <td>-40.256986</td>\n",
              "      <td>-37.169539</td>\n",
              "    </tr>\n",
              "    <tr>\n",
              "      <th>25%</th>\n",
              "      <td>-0.113157</td>\n",
              "      <td>-1.872188</td>\n",
              "      <td>-2.242865</td>\n",
              "      <td>-1.444663</td>\n",
              "    </tr>\n",
              "    <tr>\n",
              "      <th>50%</th>\n",
              "      <td>0.000000</td>\n",
              "      <td>0.470788</td>\n",
              "      <td>0.000000</td>\n",
              "      <td>0.203151</td>\n",
              "    </tr>\n",
              "    <tr>\n",
              "      <th>75%</th>\n",
              "      <td>0.418236</td>\n",
              "      <td>3.183519</td>\n",
              "      <td>2.031059</td>\n",
              "      <td>2.044688</td>\n",
              "    </tr>\n",
              "    <tr>\n",
              "      <th>max</th>\n",
              "      <td>9.382774</td>\n",
              "      <td>25.947533</td>\n",
              "      <td>275.643160</td>\n",
              "      <td>18.746474</td>\n",
              "    </tr>\n",
              "  </tbody>\n",
              "</table>\n",
              "</div>"
            ],
            "text/plain": [
              "       Adj_Close_SP5  Adj_Close_ETH  Adj_Close_DOGE  Adj_Close_BTC\n",
              "count     732.000000     732.000000      732.000000     732.000000\n",
              "mean        0.065599       0.572328        1.212792       0.339902\n",
              "std         1.347426       5.238155       13.848363       3.948297\n",
              "min       -11.984055     -42.347221      -40.256986     -37.169539\n",
              "25%        -0.113157      -1.872188       -2.242865      -1.444663\n",
              "50%         0.000000       0.470788        0.000000       0.203151\n",
              "75%         0.418236       3.183519        2.031059       2.044688\n",
              "max         9.382774      25.947533      275.643160      18.746474"
            ]
          },
          "metadata": {},
          "execution_count": 101
        }
      ]
    },
    {
      "cell_type": "code",
      "metadata": {
        "colab": {
          "base_uri": "https://localhost:8080/"
        },
        "id": "i_jEpD-8BW9o",
        "outputId": "e3929940-50f8-4ad1-99a9-9ae7ccfd36ed"
      },
      "source": [
        "pc1.shape"
      ],
      "execution_count": null,
      "outputs": [
        {
          "output_type": "execute_result",
          "data": {
            "text/plain": [
              "(732, 4)"
            ]
          },
          "metadata": {},
          "execution_count": 102
        }
      ]
    },
    {
      "cell_type": "code",
      "metadata": {
        "id": "JZdhA2ip1V4H"
      },
      "source": [
        "import seaborn as sns\n",
        "\n",
        "pc_hm = pc1"
      ],
      "execution_count": null,
      "outputs": []
    },
    {
      "cell_type": "code",
      "metadata": {
        "id": "-vA97nYJ20WR"
      },
      "source": [
        ""
      ],
      "execution_count": null,
      "outputs": []
    },
    {
      "cell_type": "code",
      "metadata": {
        "colab": {
          "base_uri": "https://localhost:8080/",
          "height": 355
        },
        "id": "Qj_bl62B1_SU",
        "outputId": "fea6a69c-a5f7-44c0-9e9a-ce57b79064a5"
      },
      "source": [
        "\n",
        "\n",
        "sns.heatmap(pc_hm.tail(15), annot=True)"
      ],
      "execution_count": null,
      "outputs": [
        {
          "output_type": "execute_result",
          "data": {
            "text/plain": [
              "<matplotlib.axes._subplots.AxesSubplot at 0x7f4932fb0d90>"
            ]
          },
          "metadata": {},
          "execution_count": 104
        },
        {
          "output_type": "display_data",
          "data": {
            "image/png": "[encoded data removed]",
            "text/plain": [
              "<Figure size 432x288 with 2 Axes>"
            ]
          },
          "metadata": {
            "needs_background": "light"
          }
        }
      ]
    },
    {
      "cell_type": "code",
      "metadata": {
        "id": "mlWgADN0bghI",
        "colab": {
          "base_uri": "https://localhost:8080/",
          "height": 450
        },
        "outputId": "99060861-1efe-44c6-a3bd-508348c585e8"
      },
      "source": [
        "pc_hm"
      ],
      "execution_count": null,
      "outputs": [
        {
          "output_type": "execute_result",
          "data": {
            "text/html": [
              "<div>\n",
              "<style scoped>\n",
              "    .dataframe tbody tr th:only-of-type {\n",
              "        vertical-align: middle;\n",
              "    }\n",
              "\n",
              "    .dataframe tbody tr th {\n",
              "        vertical-align: top;\n",
              "    }\n",
              "\n",
              "    .dataframe thead th {\n",
              "        text-align: right;\n",
              "    }\n",
              "</style>\n",
              "<table border=\"1\" class=\"dataframe\">\n",
              "  <thead>\n",
              "    <tr style=\"text-align: right;\">\n",
              "      <th></th>\n",
              "      <th>Adj_Close_SP5</th>\n",
              "      <th>Adj_Close_ETH</th>\n",
              "      <th>Adj_Close_DOGE</th>\n",
              "      <th>Adj_Close_BTC</th>\n",
              "    </tr>\n",
              "    <tr>\n",
              "      <th>Date</th>\n",
              "      <th></th>\n",
              "      <th></th>\n",
              "      <th></th>\n",
              "      <th></th>\n",
              "    </tr>\n",
              "  </thead>\n",
              "  <tbody>\n",
              "    <tr>\n",
              "      <th>2019-10-31</th>\n",
              "      <td>-0.302286</td>\n",
              "      <td>-0.392681</td>\n",
              "      <td>-0.038227</td>\n",
              "      <td>-0.066715</td>\n",
              "    </tr>\n",
              "    <tr>\n",
              "      <th>2019-11-01</th>\n",
              "      <td>0.966231</td>\n",
              "      <td>0.001617</td>\n",
              "      <td>0.573618</td>\n",
              "      <td>0.668721</td>\n",
              "    </tr>\n",
              "    <tr>\n",
              "      <th>2019-11-02</th>\n",
              "      <td>0.000000</td>\n",
              "      <td>-0.024012</td>\n",
              "      <td>-0.114069</td>\n",
              "      <td>0.686887</td>\n",
              "    </tr>\n",
              "    <tr>\n",
              "      <th>2019-11-03</th>\n",
              "      <td>0.000000</td>\n",
              "      <td>-0.815928</td>\n",
              "      <td>0.380665</td>\n",
              "      <td>-0.958348</td>\n",
              "    </tr>\n",
              "    <tr>\n",
              "      <th>2019-11-04</th>\n",
              "      <td>0.370409</td>\n",
              "      <td>2.154406</td>\n",
              "      <td>-0.872201</td>\n",
              "      <td>1.919340</td>\n",
              "    </tr>\n",
              "    <tr>\n",
              "      <th>...</th>\n",
              "      <td>...</td>\n",
              "      <td>...</td>\n",
              "      <td>...</td>\n",
              "      <td>...</td>\n",
              "    </tr>\n",
              "    <tr>\n",
              "      <th>2021-10-27</th>\n",
              "      <td>-0.505157</td>\n",
              "      <td>-4.861771</td>\n",
              "      <td>-7.055041</td>\n",
              "      <td>-3.116779</td>\n",
              "    </tr>\n",
              "    <tr>\n",
              "      <th>2021-10-28</th>\n",
              "      <td>0.982928</td>\n",
              "      <td>9.084940</td>\n",
              "      <td>26.402871</td>\n",
              "      <td>3.658794</td>\n",
              "    </tr>\n",
              "    <tr>\n",
              "      <th>2021-10-29</th>\n",
              "      <td>0.194933</td>\n",
              "      <td>2.972201</td>\n",
              "      <td>-4.191749</td>\n",
              "      <td>2.648914</td>\n",
              "    </tr>\n",
              "    <tr>\n",
              "      <th>2021-10-30</th>\n",
              "      <td>0.000000</td>\n",
              "      <td>-2.018150</td>\n",
              "      <td>-6.777072</td>\n",
              "      <td>-0.544985</td>\n",
              "    </tr>\n",
              "    <tr>\n",
              "      <th>2021-10-31</th>\n",
              "      <td>0.000000</td>\n",
              "      <td>-0.868683</td>\n",
              "      <td>4.434215</td>\n",
              "      <td>-0.920804</td>\n",
              "    </tr>\n",
              "  </tbody>\n",
              "</table>\n",
              "<p>732 rows × 4 columns</p>\n",
              "</div>"
            ],
            "text/plain": [
              "            Adj_Close_SP5  Adj_Close_ETH  Adj_Close_DOGE  Adj_Close_BTC\n",
              "Date                                                                   \n",
              "2019-10-31      -0.302286      -0.392681       -0.038227      -0.066715\n",
              "2019-11-01       0.966231       0.001617        0.573618       0.668721\n",
              "2019-11-02       0.000000      -0.024012       -0.114069       0.686887\n",
              "2019-11-03       0.000000      -0.815928        0.380665      -0.958348\n",
              "2019-11-04       0.370409       2.154406       -0.872201       1.919340\n",
              "...                   ...            ...             ...            ...\n",
              "2021-10-27      -0.505157      -4.861771       -7.055041      -3.116779\n",
              "2021-10-28       0.982928       9.084940       26.402871       3.658794\n",
              "2021-10-29       0.194933       2.972201       -4.191749       2.648914\n",
              "2021-10-30       0.000000      -2.018150       -6.777072      -0.544985\n",
              "2021-10-31       0.000000      -0.868683        4.434215      -0.920804\n",
              "\n",
              "[732 rows x 4 columns]"
            ]
          },
          "metadata": {},
          "execution_count": 105
        }
      ]
    },
    {
      "cell_type": "markdown",
      "metadata": {
        "id": "72YhIKtTBzS7"
      },
      "source": [
        "Section below is in progress to subset the overall data set when the SP500 has a significant negative movement. "
      ]
    },
    {
      "cell_type": "code",
      "metadata": {
        "id": "XBnA_Zje8OWZ"
      },
      "source": [
        "#Subsetting the SP5 data for when there is a significant drop. This helps evaluation if eth, btc are really \n",
        "#counter cyclical. 3 standard deviations away from mean would be considered a very large drop. \n",
        "\n",
        "SP5_sdev=-3*pc1['Adj_Close_SP5'].std()\n",
        "\n",
        "pc1[pc1.Adj_Close_SP5 < SP5_sdev]\n",
        "\n",
        "pc2=pc1\n",
        "\n",
        "pc2['num']=range(0,pc2.shape[0])\n",
        "\n"
      ],
      "execution_count": null,
      "outputs": []
    },
    {
      "cell_type": "code",
      "metadata": {
        "id": "M5vqe64ZByc_"
      },
      "source": [
        "neg_days= pc2.num[pc2.Adj_Close_SP5<SP5_sdev]\n",
        "\n"
      ],
      "execution_count": null,
      "outputs": []
    },
    {
      "cell_type": "code",
      "metadata": {
        "colab": {
          "base_uri": "https://localhost:8080/"
        },
        "id": "oibxba-WQrXj",
        "outputId": "04d8d1d6-549c-4dfb-a4c1-dae96c261fe1"
      },
      "source": [
        "neg_days"
      ],
      "execution_count": null,
      "outputs": [
        {
          "output_type": "execute_result",
          "data": {
            "text/plain": [
              "Date\n",
              "2020-02-27    119\n",
              "2020-03-09    130\n",
              "2020-03-11    132\n",
              "2020-03-12    133\n",
              "2020-03-16    137\n",
              "2020-03-18    139\n",
              "2020-03-20    141\n",
              "2020-04-01    153\n",
              "2020-06-11    224\n",
              "Name: num, dtype: int64"
            ]
          },
          "metadata": {},
          "execution_count": 108
        }
      ]
    },
    {
      "cell_type": "code",
      "metadata": {
        "id": "XmULEhGbF1ZB"
      },
      "source": [
        "def twendays(x):\n",
        "  l1=list(range(x,x+20))\n",
        "  return(l1)\n",
        "\n",
        "neg_days_value =neg_days.apply(twendays)\n",
        "\n",
        "import itertools\n",
        "\n",
        "neg_days_index=list(itertools.chain.from_iterable(neg_days_value))"
      ],
      "execution_count": null,
      "outputs": []
    },
    {
      "cell_type": "code",
      "metadata": {
        "id": "uMNdMtyITAtU"
      },
      "source": [
        ""
      ],
      "execution_count": null,
      "outputs": []
    },
    {
      "cell_type": "code",
      "metadata": {
        "colab": {
          "base_uri": "https://localhost:8080/"
        },
        "id": "Qur7Gk5IQyzp",
        "outputId": "40637456-51c1-410a-9637-3c418e5e6504"
      },
      "source": [
        "neg_days_value[0]\n"
      ],
      "execution_count": null,
      "outputs": [
        {
          "output_type": "execute_result",
          "data": {
            "text/plain": [
              "[119,\n",
              " 120,\n",
              " 121,\n",
              " 122,\n",
              " 123,\n",
              " 124,\n",
              " 125,\n",
              " 126,\n",
              " 127,\n",
              " 128,\n",
              " 129,\n",
              " 130,\n",
              " 131,\n",
              " 132,\n",
              " 133,\n",
              " 134,\n",
              " 135,\n",
              " 136,\n",
              " 137,\n",
              " 138]"
            ]
          },
          "metadata": {},
          "execution_count": 110
        }
      ]
    },
    {
      "cell_type": "code",
      "metadata": {
        "id": "DGso-r5rKkff"
      },
      "source": [
        "#Subsetting for when the sp 500 is 3 standard deviations negative. \n",
        "\n",
        "pc_s =pc2.iloc[neg_days_index]\n",
        "pc_s =pc_s.drop('num',axis=1,)"
      ],
      "execution_count": null,
      "outputs": []
    },
    {
      "cell_type": "code",
      "metadata": {
        "id": "adNd7HIxUaiS"
      },
      "source": [
        "pc_s = pc_s[pc_s.index.duplicated(keep='first')]"
      ],
      "execution_count": null,
      "outputs": []
    },
    {
      "cell_type": "code",
      "metadata": {
        "id": "5IYbiwpHWsG6"
      },
      "source": [
        ""
      ],
      "execution_count": null,
      "outputs": []
    },
    {
      "cell_type": "code",
      "metadata": {
        "id": "CiDAYwk6WAIT"
      },
      "source": [
        "#Calculating the correlation an alternative way, as a subset of the data for the 20 days after an SP500 dowturn. \n",
        "\n",
        "twen_corrs=[]\n",
        "\n",
        "for x in range(0,neg_days_value.size):\n",
        "  z= pc2.iloc[neg_days_value[x]].corr()\n",
        "  twen_corrs.append(z.iloc[3,0])\n",
        "\n",
        "sum(twen_corrs)/len(twen_corrs)\n"
      ],
      "execution_count": null,
      "outputs": []
    },
    {
      "cell_type": "code",
      "metadata": {
        "id": "fojh5zs5Ydmu"
      },
      "source": [
        "#Getting an average of the correlations across time. \n",
        "#Based on row patterns. \n",
        "ETH_t_crr =0.5395336899458966\n",
        "BTC_corr= 0.492069949945664"
      ],
      "execution_count": null,
      "outputs": []
    },
    {
      "cell_type": "code",
      "metadata": {
        "colab": {
          "base_uri": "https://localhost:8080/",
          "height": 173
        },
        "id": "kGq-YSpILpM0",
        "outputId": "53bedc56-92fa-4770-c12d-72182a2706c4"
      },
      "source": [
        "#Dropping number column for correlation. Correlation is much greater when \n",
        "\n",
        "pcs_corr =pc_s.corr()\n",
        "pcs_corr.style.background_gradient(cmap='coolwarm')"
      ],
      "execution_count": null,
      "outputs": [
        {
          "output_type": "execute_result",
          "data": {
            "text/html": [
              "<style  type=\"text/css\" >\n",
              "#T_4d0dbc8c_56cc_11ec_8222_0242ac1c0002row0_col0,#T_4d0dbc8c_56cc_11ec_8222_0242ac1c0002row1_col1,#T_4d0dbc8c_56cc_11ec_8222_0242ac1c0002row2_col2,#T_4d0dbc8c_56cc_11ec_8222_0242ac1c0002row3_col3{\n",
              "            background-color:  #b40426;\n",
              "            color:  #f1f1f1;\n",
              "        }#T_4d0dbc8c_56cc_11ec_8222_0242ac1c0002row0_col1,#T_4d0dbc8c_56cc_11ec_8222_0242ac1c0002row0_col2,#T_4d0dbc8c_56cc_11ec_8222_0242ac1c0002row0_col3,#T_4d0dbc8c_56cc_11ec_8222_0242ac1c0002row2_col0{\n",
              "            background-color:  #3b4cc0;\n",
              "            color:  #f1f1f1;\n",
              "        }#T_4d0dbc8c_56cc_11ec_8222_0242ac1c0002row1_col0{\n",
              "            background-color:  #5b7ae5;\n",
              "            color:  #000000;\n",
              "        }#T_4d0dbc8c_56cc_11ec_8222_0242ac1c0002row1_col2{\n",
              "            background-color:  #dc5d4a;\n",
              "            color:  #000000;\n",
              "        }#T_4d0dbc8c_56cc_11ec_8222_0242ac1c0002row1_col3,#T_4d0dbc8c_56cc_11ec_8222_0242ac1c0002row2_col3{\n",
              "            background-color:  #d65244;\n",
              "            color:  #000000;\n",
              "        }#T_4d0dbc8c_56cc_11ec_8222_0242ac1c0002row2_col1{\n",
              "            background-color:  #e0654f;\n",
              "            color:  #000000;\n",
              "        }#T_4d0dbc8c_56cc_11ec_8222_0242ac1c0002row3_col0{\n",
              "            background-color:  #455cce;\n",
              "            color:  #f1f1f1;\n",
              "        }#T_4d0dbc8c_56cc_11ec_8222_0242ac1c0002row3_col1{\n",
              "            background-color:  #d85646;\n",
              "            color:  #000000;\n",
              "        }#T_4d0dbc8c_56cc_11ec_8222_0242ac1c0002row3_col2{\n",
              "            background-color:  #d55042;\n",
              "            color:  #000000;\n",
              "        }</style><table id=\"T_4d0dbc8c_56cc_11ec_8222_0242ac1c0002\" class=\"dataframe\"><thead>    <tr>        <th class=\"blank level0\" ></th>        <th class=\"col_heading level0 col0\" >Adj_Close_SP5</th>        <th class=\"col_heading level0 col1\" >Adj_Close_ETH</th>        <th class=\"col_heading level0 col2\" >Adj_Close_DOGE</th>        <th class=\"col_heading level0 col3\" >Adj_Close_BTC</th>    </tr></thead><tbody>\n",
              "                <tr>\n",
              "                        <th id=\"T_4d0dbc8c_56cc_11ec_8222_0242ac1c0002level0_row0\" class=\"row_heading level0 row0\" >Adj_Close_SP5</th>\n",
              "                        <td id=\"T_4d0dbc8c_56cc_11ec_8222_0242ac1c0002row0_col0\" class=\"data row0 col0\" >1.000000</td>\n",
              "                        <td id=\"T_4d0dbc8c_56cc_11ec_8222_0242ac1c0002row0_col1\" class=\"data row0 col1\" >0.545771</td>\n",
              "                        <td id=\"T_4d0dbc8c_56cc_11ec_8222_0242ac1c0002row0_col2\" class=\"data row0 col2\" >0.490880</td>\n",
              "                        <td id=\"T_4d0dbc8c_56cc_11ec_8222_0242ac1c0002row0_col3\" class=\"data row0 col3\" >0.510380</td>\n",
              "            </tr>\n",
              "            <tr>\n",
              "                        <th id=\"T_4d0dbc8c_56cc_11ec_8222_0242ac1c0002level0_row1\" class=\"row_heading level0 row1\" >Adj_Close_ETH</th>\n",
              "                        <td id=\"T_4d0dbc8c_56cc_11ec_8222_0242ac1c0002row1_col0\" class=\"data row1 col0\" >0.545771</td>\n",
              "                        <td id=\"T_4d0dbc8c_56cc_11ec_8222_0242ac1c0002row1_col1\" class=\"data row1 col1\" >1.000000</td>\n",
              "                        <td id=\"T_4d0dbc8c_56cc_11ec_8222_0242ac1c0002row1_col2\" class=\"data row1 col2\" >0.938959</td>\n",
              "                        <td id=\"T_4d0dbc8c_56cc_11ec_8222_0242ac1c0002row1_col3\" class=\"data row1 col3\" >0.951827</td>\n",
              "            </tr>\n",
              "            <tr>\n",
              "                        <th id=\"T_4d0dbc8c_56cc_11ec_8222_0242ac1c0002level0_row2\" class=\"row_heading level0 row2\" >Adj_Close_DOGE</th>\n",
              "                        <td id=\"T_4d0dbc8c_56cc_11ec_8222_0242ac1c0002row2_col0\" class=\"data row2 col0\" >0.490880</td>\n",
              "                        <td id=\"T_4d0dbc8c_56cc_11ec_8222_0242ac1c0002row2_col1\" class=\"data row2 col1\" >0.938959</td>\n",
              "                        <td id=\"T_4d0dbc8c_56cc_11ec_8222_0242ac1c0002row2_col2\" class=\"data row2 col2\" >1.000000</td>\n",
              "                        <td id=\"T_4d0dbc8c_56cc_11ec_8222_0242ac1c0002row2_col3\" class=\"data row2 col3\" >0.951436</td>\n",
              "            </tr>\n",
              "            <tr>\n",
              "                        <th id=\"T_4d0dbc8c_56cc_11ec_8222_0242ac1c0002level0_row3\" class=\"row_heading level0 row3\" >Adj_Close_BTC</th>\n",
              "                        <td id=\"T_4d0dbc8c_56cc_11ec_8222_0242ac1c0002row3_col0\" class=\"data row3 col0\" >0.510380</td>\n",
              "                        <td id=\"T_4d0dbc8c_56cc_11ec_8222_0242ac1c0002row3_col1\" class=\"data row3 col1\" >0.951827</td>\n",
              "                        <td id=\"T_4d0dbc8c_56cc_11ec_8222_0242ac1c0002row3_col2\" class=\"data row3 col2\" >0.951436</td>\n",
              "                        <td id=\"T_4d0dbc8c_56cc_11ec_8222_0242ac1c0002row3_col3\" class=\"data row3 col3\" >1.000000</td>\n",
              "            </tr>\n",
              "    </tbody></table>"
            ],
            "text/plain": [
              "<pandas.io.formats.style.Styler at 0x7f4937e41890>"
            ]
          },
          "metadata": {},
          "execution_count": 32
        }
      ]
    },
    {
      "cell_type": "code",
      "metadata": {
        "colab": {
          "base_uri": "https://localhost:8080/",
          "height": 407
        },
        "id": "4DP0jIO7MkG3",
        "outputId": "d50687ed-adf8-463a-d894-5d8e93b352b3"
      },
      "source": [
        "plt.figure(figsize=(8,6))\n",
        "plt.hist(pc_s['Adj_Close_SP5'], bins=30, alpha=.5, label='Adj_Close_SP5');\n",
        "plt.hist(pc_s['Adj_Close_BTC'], bins=30, alpha=.5, label='Adj_Close_BTC');\n",
        "plt.hist(pc_s['Adj_Close_ETH'], bins=30, alpha=.5, label='Adj_Close_ETH');\n",
        "plt.legend()\n",
        "plt.title('Significant SP500 Drop and Percent Change: : Oct 2019 - Oct 2021')\n",
        "\n",
        "#looks like more negative downside present in the tails of eth and btc distributions. "
      ],
      "execution_count": null,
      "outputs": [
        {
          "output_type": "execute_result",
          "data": {
            "text/plain": [
              "Text(0.5, 1.0, 'Significant SP500 Drop and Percent Change: : Oct 2019 - Oct 2021')"
            ]
          },
          "metadata": {},
          "execution_count": 33
        },
        {
          "output_type": "display_data",
          "data": {
            "image/png": "[encoded data removed]",
            "text/plain": [
              "<Figure size 576x432 with 1 Axes>"
            ]
          },
          "metadata": {
            "needs_background": "light"
          }
        }
      ]
    },
    {
      "cell_type": "code",
      "metadata": {
        "colab": {
          "base_uri": "https://localhost:8080/",
          "height": 297
        },
        "id": "O0v49JVfZdyh",
        "outputId": "46106707-b62b-4d46-fc5a-2052d711e787"
      },
      "source": [
        "pc_s.describe()"
      ],
      "execution_count": null,
      "outputs": [
        {
          "output_type": "execute_result",
          "data": {
            "text/html": [
              "<div>\n",
              "<style scoped>\n",
              "    .dataframe tbody tr th:only-of-type {\n",
              "        vertical-align: middle;\n",
              "    }\n",
              "\n",
              "    .dataframe tbody tr th {\n",
              "        vertical-align: top;\n",
              "    }\n",
              "\n",
              "    .dataframe thead th {\n",
              "        text-align: right;\n",
              "    }\n",
              "</style>\n",
              "<table border=\"1\" class=\"dataframe\">\n",
              "  <thead>\n",
              "    <tr style=\"text-align: right;\">\n",
              "      <th></th>\n",
              "      <th>Adj_Close_SP5</th>\n",
              "      <th>Adj_Close_ETH</th>\n",
              "      <th>Adj_Close_DOGE</th>\n",
              "      <th>Adj_Close_BTC</th>\n",
              "    </tr>\n",
              "  </thead>\n",
              "  <tbody>\n",
              "    <tr>\n",
              "      <th>count</th>\n",
              "      <td>400.000000</td>\n",
              "      <td>400.000000</td>\n",
              "      <td>400.000000</td>\n",
              "      <td>400.000000</td>\n",
              "    </tr>\n",
              "    <tr>\n",
              "      <th>mean</th>\n",
              "      <td>-0.180285</td>\n",
              "      <td>-0.383303</td>\n",
              "      <td>-0.241836</td>\n",
              "      <td>-0.138417</td>\n",
              "    </tr>\n",
              "    <tr>\n",
              "      <th>std</th>\n",
              "      <td>3.866471</td>\n",
              "      <td>8.519571</td>\n",
              "      <td>5.679789</td>\n",
              "      <td>7.084033</td>\n",
              "    </tr>\n",
              "    <tr>\n",
              "      <th>min</th>\n",
              "      <td>-11.984055</td>\n",
              "      <td>-42.347221</td>\n",
              "      <td>-29.624548</td>\n",
              "      <td>-37.169539</td>\n",
              "    </tr>\n",
              "    <tr>\n",
              "      <th>25%</th>\n",
              "      <td>-1.705385</td>\n",
              "      <td>-2.823472</td>\n",
              "      <td>-1.604869</td>\n",
              "      <td>-1.776528</td>\n",
              "    </tr>\n",
              "    <tr>\n",
              "      <th>50%</th>\n",
              "      <td>0.000000</td>\n",
              "      <td>0.052600</td>\n",
              "      <td>0.000000</td>\n",
              "      <td>0.010751</td>\n",
              "    </tr>\n",
              "    <tr>\n",
              "      <th>75%</th>\n",
              "      <td>1.153501</td>\n",
              "      <td>2.629432</td>\n",
              "      <td>1.234577</td>\n",
              "      <td>2.381609</td>\n",
              "    </tr>\n",
              "    <tr>\n",
              "      <th>max</th>\n",
              "      <td>9.382774</td>\n",
              "      <td>18.940401</td>\n",
              "      <td>13.218387</td>\n",
              "      <td>18.187756</td>\n",
              "    </tr>\n",
              "  </tbody>\n",
              "</table>\n",
              "</div>"
            ],
            "text/plain": [
              "       Adj_Close_SP5  Adj_Close_ETH  Adj_Close_DOGE  Adj_Close_BTC\n",
              "count     400.000000     400.000000      400.000000     400.000000\n",
              "mean       -0.180285      -0.383303       -0.241836      -0.138417\n",
              "std         3.866471       8.519571        5.679789       7.084033\n",
              "min       -11.984055     -42.347221      -29.624548     -37.169539\n",
              "25%        -1.705385      -2.823472       -1.604869      -1.776528\n",
              "50%         0.000000       0.052600        0.000000       0.010751\n",
              "75%         1.153501       2.629432        1.234577       2.381609\n",
              "max         9.382774      18.940401       13.218387      18.187756"
            ]
          },
          "metadata": {},
          "execution_count": 34
        }
      ]
    },
    {
      "cell_type": "code",
      "metadata": {
        "id": "kmTAGXuB1DkU",
        "colab": {
          "base_uri": "https://localhost:8080/",
          "height": 450
        },
        "outputId": "07195a10-0fec-40ff-92e1-edd45f73e044"
      },
      "source": [
        "pc_s"
      ],
      "execution_count": null,
      "outputs": [
        {
          "output_type": "execute_result",
          "data": {
            "text/html": [
              "<div>\n",
              "<style scoped>\n",
              "    .dataframe tbody tr th:only-of-type {\n",
              "        vertical-align: middle;\n",
              "    }\n",
              "\n",
              "    .dataframe tbody tr th {\n",
              "        vertical-align: top;\n",
              "    }\n",
              "\n",
              "    .dataframe thead th {\n",
              "        text-align: right;\n",
              "    }\n",
              "</style>\n",
              "<table border=\"1\" class=\"dataframe\">\n",
              "  <thead>\n",
              "    <tr style=\"text-align: right;\">\n",
              "      <th></th>\n",
              "      <th>Adj_Close_SP5</th>\n",
              "      <th>Adj_Close_ETH</th>\n",
              "      <th>Adj_Close_DOGE</th>\n",
              "      <th>Adj_Close_BTC</th>\n",
              "    </tr>\n",
              "    <tr>\n",
              "      <th>Date</th>\n",
              "      <th></th>\n",
              "      <th></th>\n",
              "      <th></th>\n",
              "      <th></th>\n",
              "    </tr>\n",
              "  </thead>\n",
              "  <tbody>\n",
              "    <tr>\n",
              "      <th>2020-02-24</th>\n",
              "      <td>-3.351363</td>\n",
              "      <td>-3.118754</td>\n",
              "      <td>-3.358209</td>\n",
              "      <td>-2.764274</td>\n",
              "    </tr>\n",
              "    <tr>\n",
              "      <th>2020-02-25</th>\n",
              "      <td>-3.028000</td>\n",
              "      <td>-6.560240</td>\n",
              "      <td>-4.401542</td>\n",
              "      <td>-3.196520</td>\n",
              "    </tr>\n",
              "    <tr>\n",
              "      <th>2020-02-26</th>\n",
              "      <td>-0.377854</td>\n",
              "      <td>-8.932913</td>\n",
              "      <td>-5.533113</td>\n",
              "      <td>-5.579095</td>\n",
              "    </tr>\n",
              "    <tr>\n",
              "      <th>2020-02-27</th>\n",
              "      <td>-4.416324</td>\n",
              "      <td>0.475505</td>\n",
              "      <td>-0.641305</td>\n",
              "      <td>-0.408460</td>\n",
              "    </tr>\n",
              "    <tr>\n",
              "      <th>2020-02-28</th>\n",
              "      <td>-0.823834</td>\n",
              "      <td>0.003136</td>\n",
              "      <td>-1.506026</td>\n",
              "      <td>-1.275418</td>\n",
              "    </tr>\n",
              "    <tr>\n",
              "      <th>...</th>\n",
              "      <td>...</td>\n",
              "      <td>...</td>\n",
              "      <td>...</td>\n",
              "      <td>...</td>\n",
              "    </tr>\n",
              "    <tr>\n",
              "      <th>2020-11-12</th>\n",
              "      <td>-0.997853</td>\n",
              "      <td>-0.422339</td>\n",
              "      <td>0.361144</td>\n",
              "      <td>3.662133</td>\n",
              "    </tr>\n",
              "    <tr>\n",
              "      <th>2020-11-13</th>\n",
              "      <td>1.361034</td>\n",
              "      <td>2.954664</td>\n",
              "      <td>1.511338</td>\n",
              "      <td>0.254755</td>\n",
              "    </tr>\n",
              "    <tr>\n",
              "      <th>2020-11-14</th>\n",
              "      <td>0.000000</td>\n",
              "      <td>-3.050103</td>\n",
              "      <td>-1.701529</td>\n",
              "      <td>-1.530046</td>\n",
              "    </tr>\n",
              "    <tr>\n",
              "      <th>2020-11-15</th>\n",
              "      <td>0.000000</td>\n",
              "      <td>-2.736230</td>\n",
              "      <td>0.072125</td>\n",
              "      <td>-0.700459</td>\n",
              "    </tr>\n",
              "    <tr>\n",
              "      <th>2020-11-16</th>\n",
              "      <td>1.164805</td>\n",
              "      <td>2.766389</td>\n",
              "      <td>4.000005</td>\n",
              "      <td>4.766502</td>\n",
              "    </tr>\n",
              "  </tbody>\n",
              "</table>\n",
              "<p>400 rows × 4 columns</p>\n",
              "</div>"
            ],
            "text/plain": [
              "            Adj_Close_SP5  Adj_Close_ETH  Adj_Close_DOGE  Adj_Close_BTC\n",
              "Date                                                                   \n",
              "2020-02-24      -3.351363      -3.118754       -3.358209      -2.764274\n",
              "2020-02-25      -3.028000      -6.560240       -4.401542      -3.196520\n",
              "2020-02-26      -0.377854      -8.932913       -5.533113      -5.579095\n",
              "2020-02-27      -4.416324       0.475505       -0.641305      -0.408460\n",
              "2020-02-28      -0.823834       0.003136       -1.506026      -1.275418\n",
              "...                   ...            ...             ...            ...\n",
              "2020-11-12      -0.997853      -0.422339        0.361144       3.662133\n",
              "2020-11-13       1.361034       2.954664        1.511338       0.254755\n",
              "2020-11-14       0.000000      -3.050103       -1.701529      -1.530046\n",
              "2020-11-15       0.000000      -2.736230        0.072125      -0.700459\n",
              "2020-11-16       1.164805       2.766389        4.000005       4.766502\n",
              "\n",
              "[400 rows x 4 columns]"
            ]
          },
          "metadata": {},
          "execution_count": 35
        }
      ]
    },
    {
      "cell_type": "markdown",
      "metadata": {
        "id": "lKV1NyV2X9OS"
      },
      "source": [
        "General Time series predictions\n",
        "\n",
        "Rolling Averages over x days\n",
        "\n",
        "Using days as a hyper parameter and finding how long it takes the markets to react to a large change\n",
        "\n",
        "Taking recency into account as well, How does correlation look within the last year vs last 5 year\n",
        "\n",
        "Outside parameters"
      ]
    },
    {
      "cell_type": "code",
      "metadata": {
        "id": "mM1K5IWhmIi-"
      },
      "source": [
        ""
      ],
      "execution_count": null,
      "outputs": []
    }
  ]
}