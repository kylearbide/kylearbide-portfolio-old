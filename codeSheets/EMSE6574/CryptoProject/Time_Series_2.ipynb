{
  "nbformat": 4,
  "nbformat_minor": 0,
  "metadata": {
    "colab": {
      "name": "Time Series 2.ipynb",
      "provenance": []
    },
    "kernelspec": {
      "name": "python3",
      "display_name": "Python 3"
    },
    "language_info": {
      "name": "python"
    }
  },
  "cells": [
    {
      "cell_type": "code",
      "metadata": {
        "colab": {
          "base_uri": "https://localhost:8080/"
        },
        "id": "BNu6pPksDmNP",
        "outputId": "17b3b35f-dbc6-4599-8b7a-7dba3016b823"
      },
      "source": [
        "!pip install yfinance\n",
        "import pandas_datareader as web\n",
        "from pandas_datareader import data as pdr\n",
        "import yfinance as yfin\n",
        "import pandas as pd\n",
        "yfin.pdr_override()"
      ],
      "execution_count": null,
      "outputs": [
        {
          "output_type": "stream",
          "name": "stdout",
          "text": [
            "Collecting yfinance\n",
            "  Downloading yfinance-0.1.66-py2.py3-none-any.whl (25 kB)\n",
            "Collecting lxml>=4.5.1\n",
            "  Downloading lxml-4.6.4-cp37-cp37m-manylinux_2_17_x86_64.manylinux2014_x86_64.manylinux_2_24_x86_64.whl (6.3 MB)\n",
            "\u001b[K     |████████████████████████████████| 6.3 MB 7.4 MB/s \n",
            "\u001b[?25hRequirement already satisfied: multitasking>=0.0.7 in /usr/local/lib/python3.7/dist-packages (from yfinance) (0.0.9)\n",
            "Requirement already satisfied: requests>=2.20 in /usr/local/lib/python3.7/dist-packages (from yfinance) (2.23.0)\n",
            "Requirement already satisfied: pandas>=0.24 in /usr/local/lib/python3.7/dist-packages (from yfinance) (1.1.5)\n",
            "Requirement already satisfied: numpy>=1.15 in /usr/local/lib/python3.7/dist-packages (from yfinance) (1.19.5)\n",
            "Requirement already satisfied: pytz>=2017.2 in /usr/local/lib/python3.7/dist-packages (from pandas>=0.24->yfinance) (2018.9)\n",
            "Requirement already satisfied: python-dateutil>=2.7.3 in /usr/local/lib/python3.7/dist-packages (from pandas>=0.24->yfinance) (2.8.2)\n",
            "Requirement already satisfied: six>=1.5 in /usr/local/lib/python3.7/dist-packages (from python-dateutil>=2.7.3->pandas>=0.24->yfinance) (1.15.0)\n",
            "Requirement already satisfied: chardet<4,>=3.0.2 in /usr/local/lib/python3.7/dist-packages (from requests>=2.20->yfinance) (3.0.4)\n",
            "Requirement already satisfied: certifi>=2017.4.17 in /usr/local/lib/python3.7/dist-packages (from requests>=2.20->yfinance) (2021.10.8)\n",
            "Requirement already satisfied: urllib3!=1.25.0,!=1.25.1,<1.26,>=1.21.1 in /usr/local/lib/python3.7/dist-packages (from requests>=2.20->yfinance) (1.24.3)\n",
            "Requirement already satisfied: idna<3,>=2.5 in /usr/local/lib/python3.7/dist-packages (from requests>=2.20->yfinance) (2.10)\n",
            "Installing collected packages: lxml, yfinance\n",
            "  Attempting uninstall: lxml\n",
            "    Found existing installation: lxml 4.2.6\n",
            "    Uninstalling lxml-4.2.6:\n",
            "      Successfully uninstalled lxml-4.2.6\n",
            "Successfully installed lxml-4.6.4 yfinance-0.1.66\n"
          ]
        }
      ]
    },
    {
      "cell_type": "code",
      "metadata": {
        "colab": {
          "base_uri": "https://localhost:8080/"
        },
        "id": "4QJLWm3tDyV_",
        "outputId": "d8acec15-7427-4d99-abc2-b14499228139"
      },
      "source": [
        "BTC = pdr.get_data_yahoo(\"BTC-USD\", start=\"2014-01-01\", end=\"2021-10-31\")\n",
        "ETH = pdr.get_data_yahoo(\"ETH-USD\", start=\"2014-01-01\", end=\"2021-10-31\")\n",
        "DOGE = pdr.get_data_yahoo(\"DOGE-USD\", start=\"2014-01-01\", end=\"2021-10-31\")\n",
        "SP5 = pdr.get_data_yahoo(\"^GSPC\", start=\"2014-01-01\", end=\"2021-10-31\")\n"
      ],
      "execution_count": null,
      "outputs": [
        {
          "output_type": "stream",
          "name": "stdout",
          "text": [
            "[*********************100%***********************]  1 of 1 completed\n",
            "[*********************100%***********************]  1 of 1 completed\n",
            "[*********************100%***********************]  1 of 1 completed\n",
            "[*********************100%***********************]  1 of 1 completed\n"
          ]
        }
      ]
    },
    {
      "cell_type": "code",
      "metadata": {
        "id": "aa8G1LPpDz6R"
      },
      "source": [
        "BTC.reset_index(level=0, inplace=True)\n",
        "ETH.reset_index(level=0, inplace=True)\n",
        "DOGE.reset_index(level=0, inplace=True)\n",
        "SP5.reset_index(level=0, inplace=True)"
      ],
      "execution_count": null,
      "outputs": []
    },
    {
      "cell_type": "code",
      "metadata": {
        "colab": {
          "base_uri": "https://localhost:8080/"
        },
        "id": "6ScdFeYKD4co",
        "outputId": "c260bec2-fc73-4c2c-f719-c3ed6fa19367"
      },
      "source": [
        "print(BTC.head(1))\n",
        "print(ETH.head(1))\n",
        "print(DOGE.head(1))\n",
        "print(SP5.head(1))"
      ],
      "execution_count": null,
      "outputs": [
        {
          "output_type": "stream",
          "name": "stdout",
          "text": [
            "        Date  Adj_Close_BTC\n",
            "0 2014-09-17     457.334015\n",
            "        Date  Adj_Close_ETH\n",
            "0 2015-08-07        2.77212\n",
            "        Date  Adj_Close_DOGE\n",
            "0 2014-09-17        0.000268\n",
            "            Adj_Close_SP5\n",
            "Date                     \n",
            "2014-01-02     1831.97998\n"
          ]
        }
      ]
    },
    {
      "cell_type": "code",
      "metadata": {
        "colab": {
          "base_uri": "https://localhost:8080/"
        },
        "id": "wk9E9YUiD_oi",
        "outputId": "b358d054-9f9c-476f-f6be-046922961ef5"
      },
      "source": [
        "print(BTC.tail(1))\n",
        "print(ETH.tail(1))\n",
        "print(DOGE.tail(1))\n",
        "print(SP5.tail(1))"
      ],
      "execution_count": null,
      "outputs": [
        {
          "output_type": "stream",
          "name": "stdout",
          "text": [
            "           Date          Open  ...     Adj Close       Volume\n",
            "2597 2021-10-31  61850.488281  ...  61318.957031  32241199927\n",
            "\n",
            "[1 rows x 7 columns]\n",
            "           Date         Open  ...    Adj Close       Volume\n",
            "2273 2021-10-31  4322.744141  ...  4288.074219  17498160238\n",
            "\n",
            "[1 rows x 7 columns]\n",
            "           Date      Open      High       Low     Close  Adj Close      Volume\n",
            "2597 2021-10-31  0.269239  0.284707  0.252614  0.280244   0.280244  4224104205\n",
            "           Date         Open         High  ...        Close    Adj Close      Volume\n",
            "1971 2021-10-29  4572.870117  4608.080078  ...  4605.379883  4605.379883  3632260000\n",
            "\n",
            "[1 rows x 7 columns]\n"
          ]
        }
      ]
    },
    {
      "cell_type": "code",
      "metadata": {
        "colab": {
          "base_uri": "https://localhost:8080/"
        },
        "id": "oghfd_DEGCZA",
        "outputId": "5caac197-753b-4f8a-ada6-fde09d7de0d7"
      },
      "source": [
        "BTC.describe"
      ],
      "execution_count": null,
      "outputs": [
        {
          "output_type": "execute_result",
          "data": {
            "text/plain": [
              "<bound method NDFrame.describe of            Date          Open  ...     Adj Close       Volume\n",
              "0    2014-09-17    465.864014  ...    457.334015     21056800\n",
              "1    2014-09-18    456.859985  ...    424.440002     34483200\n",
              "2    2014-09-19    424.102997  ...    394.795990     37919700\n",
              "3    2014-09-20    394.673004  ...    408.903992     36863600\n",
              "4    2014-09-21    408.084991  ...    398.821014     26580100\n",
              "...         ...           ...  ...           ...          ...\n",
              "2593 2021-10-27  60352.000000  ...  58482.386719  43657076893\n",
              "2594 2021-10-28  58470.730469  ...  60622.136719  45257083247\n",
              "2595 2021-10-29  60624.871094  ...  62227.964844  36856881767\n",
              "2596 2021-10-30  62239.363281  ...  61888.832031  32157938616\n",
              "2597 2021-10-31  61850.488281  ...  61318.957031  32241199927\n",
              "\n",
              "[2598 rows x 7 columns]>"
            ]
          },
          "metadata": {},
          "execution_count": 20
        }
      ]
    },
    {
      "cell_type": "code",
      "metadata": {
        "colab": {
          "base_uri": "https://localhost:8080/"
        },
        "id": "pFtvk3odGGzE",
        "outputId": "a825599f-fcba-40a0-a9ec-0ddbe8e2db89"
      },
      "source": [
        "BTC.columns"
      ],
      "execution_count": null,
      "outputs": [
        {
          "output_type": "execute_result",
          "data": {
            "text/plain": [
              "Index(['Date', 'Open', 'High', 'Low', 'Close', 'Adj Close', 'Volume'], dtype='object')"
            ]
          },
          "metadata": {},
          "execution_count": 21
        }
      ]
    },
    {
      "cell_type": "code",
      "metadata": {
        "id": "7Q8-_a-zLbbD"
      },
      "source": [
        "#remove all columns but date and and 'adj close' \n",
        "BTC2 = BTC.drop(['Open', 'High', 'Low', 'Close', 'Volume'], axis =1)\n",
        "ETH2 = ETH.drop(['Open', 'High', 'Low', 'Close', 'Volume'], axis =1)\n",
        "DOGE2 = DOGE.drop(['Open', 'High', 'Low', 'Close', 'Volume'], axis =1)\n",
        "SP52 = SP5.drop(['Open', 'High', 'Low', 'Close', 'Volume'], axis =1)"
      ],
      "execution_count": null,
      "outputs": []
    },
    {
      "cell_type": "code",
      "metadata": {
        "colab": {
          "base_uri": "https://localhost:8080/"
        },
        "id": "uVPTxUscMDlo",
        "outputId": "21f24d4c-b853-48b4-a6c9-2ddeb9f6dc1e"
      },
      "source": [
        "BTC2.info()"
      ],
      "execution_count": null,
      "outputs": [
        {
          "output_type": "stream",
          "name": "stdout",
          "text": [
            "<class 'pandas.core.frame.DataFrame'>\n",
            "RangeIndex: 2598 entries, 0 to 2597\n",
            "Data columns (total 2 columns):\n",
            " #   Column     Non-Null Count  Dtype         \n",
            "---  ------     --------------  -----         \n",
            " 0   Date       2598 non-null   datetime64[ns]\n",
            " 1   Adj Close  2598 non-null   float64       \n",
            "dtypes: datetime64[ns](1), float64(1)\n",
            "memory usage: 40.7 KB\n"
          ]
        }
      ]
    },
    {
      "cell_type": "code",
      "metadata": {
        "colab": {
          "base_uri": "https://localhost:8080/",
          "height": 359
        },
        "id": "iYtGkzlbSrvt",
        "outputId": "48e28c9b-a64e-43a9-919a-56d7729381df"
      },
      "source": [
        "ETH2.head(10)"
      ],
      "execution_count": null,
      "outputs": [
        {
          "output_type": "execute_result",
          "data": {
            "text/html": [
              "<div>\n",
              "<style scoped>\n",
              "    .dataframe tbody tr th:only-of-type {\n",
              "        vertical-align: middle;\n",
              "    }\n",
              "\n",
              "    .dataframe tbody tr th {\n",
              "        vertical-align: top;\n",
              "    }\n",
              "\n",
              "    .dataframe thead th {\n",
              "        text-align: right;\n",
              "    }\n",
              "</style>\n",
              "<table border=\"1\" class=\"dataframe\">\n",
              "  <thead>\n",
              "    <tr style=\"text-align: right;\">\n",
              "      <th></th>\n",
              "      <th>Date</th>\n",
              "      <th>Adj Close</th>\n",
              "    </tr>\n",
              "  </thead>\n",
              "  <tbody>\n",
              "    <tr>\n",
              "      <th>0</th>\n",
              "      <td>2015-08-07</td>\n",
              "      <td>2.772120</td>\n",
              "    </tr>\n",
              "    <tr>\n",
              "      <th>1</th>\n",
              "      <td>2015-08-08</td>\n",
              "      <td>0.753325</td>\n",
              "    </tr>\n",
              "    <tr>\n",
              "      <th>2</th>\n",
              "      <td>2015-08-09</td>\n",
              "      <td>0.701897</td>\n",
              "    </tr>\n",
              "    <tr>\n",
              "      <th>3</th>\n",
              "      <td>2015-08-10</td>\n",
              "      <td>0.708448</td>\n",
              "    </tr>\n",
              "    <tr>\n",
              "      <th>4</th>\n",
              "      <td>2015-08-11</td>\n",
              "      <td>1.067860</td>\n",
              "    </tr>\n",
              "    <tr>\n",
              "      <th>5</th>\n",
              "      <td>2015-08-12</td>\n",
              "      <td>1.217440</td>\n",
              "    </tr>\n",
              "    <tr>\n",
              "      <th>6</th>\n",
              "      <td>2015-08-13</td>\n",
              "      <td>1.827670</td>\n",
              "    </tr>\n",
              "    <tr>\n",
              "      <th>7</th>\n",
              "      <td>2015-08-14</td>\n",
              "      <td>1.827870</td>\n",
              "    </tr>\n",
              "    <tr>\n",
              "      <th>8</th>\n",
              "      <td>2015-08-15</td>\n",
              "      <td>1.688900</td>\n",
              "    </tr>\n",
              "    <tr>\n",
              "      <th>9</th>\n",
              "      <td>2015-08-16</td>\n",
              "      <td>1.566030</td>\n",
              "    </tr>\n",
              "  </tbody>\n",
              "</table>\n",
              "</div>"
            ],
            "text/plain": [
              "        Date  Adj Close\n",
              "0 2015-08-07   2.772120\n",
              "1 2015-08-08   0.753325\n",
              "2 2015-08-09   0.701897\n",
              "3 2015-08-10   0.708448\n",
              "4 2015-08-11   1.067860\n",
              "5 2015-08-12   1.217440\n",
              "6 2015-08-13   1.827670\n",
              "7 2015-08-14   1.827870\n",
              "8 2015-08-15   1.688900\n",
              "9 2015-08-16   1.566030"
            ]
          },
          "metadata": {},
          "execution_count": 38
        }
      ]
    },
    {
      "cell_type": "code",
      "metadata": {
        "id": "gzttl4QGTAs5"
      },
      "source": [
        "BTC = BTC2.rename(columns={\"Adj Close\":\"Adj_Close_BTC\"})\n",
        "ETH = ETH2.rename(columns={\"Adj Close\":\"Adj_Close_ETH\"})\n",
        "DOGE = DOGE2.rename(columns={\"Adj Close\":\"Adj_Close_DOGE\"})\n",
        "SP5 = SP52.rename(columns={\"Adj Close\":\"Adj_Close_SP5\"})\n"
      ],
      "execution_count": null,
      "outputs": []
    },
    {
      "cell_type": "code",
      "metadata": {
        "id": "zPVkheWbSV88"
      },
      "source": [
        "Merged = SP5.merge(ETH, how = 'outer', on = \"Date\")\n",
        "Merged = Merged.merge(DOGE, how = 'outer', on = \"Date\")\n",
        "Merged = Merged.merge(BTC, how = 'outer', on = \"Date\")\n"
      ],
      "execution_count": null,
      "outputs": []
    },
    {
      "cell_type": "code",
      "metadata": {
        "colab": {
          "base_uri": "https://localhost:8080/",
          "height": 419
        },
        "id": "wmWGi-QMXZ6y",
        "outputId": "281ee417-a67d-418e-e33f-c550d7b8b1b7"
      },
      "source": [
        "Merged"
      ],
      "execution_count": null,
      "outputs": [
        {
          "output_type": "execute_result",
          "data": {
            "text/html": [
              "<div>\n",
              "<style scoped>\n",
              "    .dataframe tbody tr th:only-of-type {\n",
              "        vertical-align: middle;\n",
              "    }\n",
              "\n",
              "    .dataframe tbody tr th {\n",
              "        vertical-align: top;\n",
              "    }\n",
              "\n",
              "    .dataframe thead th {\n",
              "        text-align: right;\n",
              "    }\n",
              "</style>\n",
              "<table border=\"1\" class=\"dataframe\">\n",
              "  <thead>\n",
              "    <tr style=\"text-align: right;\">\n",
              "      <th></th>\n",
              "      <th>Date</th>\n",
              "      <th>Adj_Close_SP5</th>\n",
              "      <th>Adj_Close_ETH</th>\n",
              "      <th>Adj_Close_DOGE</th>\n",
              "      <th>Adj_Close_BTC</th>\n",
              "    </tr>\n",
              "  </thead>\n",
              "  <tbody>\n",
              "    <tr>\n",
              "      <th>0</th>\n",
              "      <td>2014-01-02</td>\n",
              "      <td>1831.979980</td>\n",
              "      <td>NaN</td>\n",
              "      <td>NaN</td>\n",
              "      <td>NaN</td>\n",
              "    </tr>\n",
              "    <tr>\n",
              "      <th>1</th>\n",
              "      <td>2014-01-03</td>\n",
              "      <td>1831.369995</td>\n",
              "      <td>NaN</td>\n",
              "      <td>NaN</td>\n",
              "      <td>NaN</td>\n",
              "    </tr>\n",
              "    <tr>\n",
              "      <th>2</th>\n",
              "      <td>2014-01-06</td>\n",
              "      <td>1826.770020</td>\n",
              "      <td>NaN</td>\n",
              "      <td>NaN</td>\n",
              "      <td>NaN</td>\n",
              "    </tr>\n",
              "    <tr>\n",
              "      <th>3</th>\n",
              "      <td>2014-01-07</td>\n",
              "      <td>1837.880005</td>\n",
              "      <td>NaN</td>\n",
              "      <td>NaN</td>\n",
              "      <td>NaN</td>\n",
              "    </tr>\n",
              "    <tr>\n",
              "      <th>4</th>\n",
              "      <td>2014-01-08</td>\n",
              "      <td>1837.489990</td>\n",
              "      <td>NaN</td>\n",
              "      <td>NaN</td>\n",
              "      <td>NaN</td>\n",
              "    </tr>\n",
              "    <tr>\n",
              "      <th>...</th>\n",
              "      <td>...</td>\n",
              "      <td>...</td>\n",
              "      <td>...</td>\n",
              "      <td>...</td>\n",
              "      <td>...</td>\n",
              "    </tr>\n",
              "    <tr>\n",
              "      <th>2775</th>\n",
              "      <td>2015-07-19</td>\n",
              "      <td>NaN</td>\n",
              "      <td>NaN</td>\n",
              "      <td>0.000169</td>\n",
              "      <td>273.614014</td>\n",
              "    </tr>\n",
              "    <tr>\n",
              "      <th>2776</th>\n",
              "      <td>2015-07-25</td>\n",
              "      <td>NaN</td>\n",
              "      <td>NaN</td>\n",
              "      <td>0.000188</td>\n",
              "      <td>288.696991</td>\n",
              "    </tr>\n",
              "    <tr>\n",
              "      <th>2777</th>\n",
              "      <td>2015-07-26</td>\n",
              "      <td>NaN</td>\n",
              "      <td>NaN</td>\n",
              "      <td>0.000187</td>\n",
              "      <td>292.686005</td>\n",
              "    </tr>\n",
              "    <tr>\n",
              "      <th>2778</th>\n",
              "      <td>2015-08-01</td>\n",
              "      <td>NaN</td>\n",
              "      <td>NaN</td>\n",
              "      <td>0.000175</td>\n",
              "      <td>281.601013</td>\n",
              "    </tr>\n",
              "    <tr>\n",
              "      <th>2779</th>\n",
              "      <td>2015-08-02</td>\n",
              "      <td>NaN</td>\n",
              "      <td>NaN</td>\n",
              "      <td>0.000172</td>\n",
              "      <td>282.614014</td>\n",
              "    </tr>\n",
              "  </tbody>\n",
              "</table>\n",
              "<p>2780 rows × 5 columns</p>\n",
              "</div>"
            ],
            "text/plain": [
              "           Date  Adj_Close_SP5  Adj_Close_ETH  Adj_Close_DOGE  Adj_Close_BTC\n",
              "0    2014-01-02    1831.979980            NaN             NaN            NaN\n",
              "1    2014-01-03    1831.369995            NaN             NaN            NaN\n",
              "2    2014-01-06    1826.770020            NaN             NaN            NaN\n",
              "3    2014-01-07    1837.880005            NaN             NaN            NaN\n",
              "4    2014-01-08    1837.489990            NaN             NaN            NaN\n",
              "...         ...            ...            ...             ...            ...\n",
              "2775 2015-07-19            NaN            NaN        0.000169     273.614014\n",
              "2776 2015-07-25            NaN            NaN        0.000188     288.696991\n",
              "2777 2015-07-26            NaN            NaN        0.000187     292.686005\n",
              "2778 2015-08-01            NaN            NaN        0.000175     281.601013\n",
              "2779 2015-08-02            NaN            NaN        0.000172     282.614014\n",
              "\n",
              "[2780 rows x 5 columns]"
            ]
          },
          "metadata": {},
          "execution_count": 66
        }
      ]
    },
    {
      "cell_type": "code",
      "metadata": {
        "id": "Lp7_-HcKX0xA"
      },
      "source": [
        "Merged['Date']=pd.to_datetime(Merged.Date)"
      ],
      "execution_count": null,
      "outputs": []
    },
    {
      "cell_type": "code",
      "metadata": {
        "id": "Y4XULuvdY5T-"
      },
      "source": [
        "Merged = Merged.sort_values('Date')"
      ],
      "execution_count": null,
      "outputs": []
    },
    {
      "cell_type": "code",
      "metadata": {
        "id": "TXP-ovhrY_ev"
      },
      "source": [
        "Merged = Merged.set_index(Merged['Date'])"
      ],
      "execution_count": null,
      "outputs": []
    },
    {
      "cell_type": "code",
      "metadata": {
        "id": "gB-7nwciZEMj"
      },
      "source": [
        "Merged =Merged.drop('Date',axis=1)"
      ],
      "execution_count": null,
      "outputs": []
    },
    {
      "cell_type": "code",
      "metadata": {
        "colab": {
          "base_uri": "https://localhost:8080/",
          "height": 450
        },
        "id": "UA1gWJzZZJMF",
        "outputId": "24fa70d3-4266-458b-979e-29d0664f2286"
      },
      "source": [
        "Merged"
      ],
      "execution_count": null,
      "outputs": [
        {
          "output_type": "execute_result",
          "data": {
            "text/html": [
              "<div>\n",
              "<style scoped>\n",
              "    .dataframe tbody tr th:only-of-type {\n",
              "        vertical-align: middle;\n",
              "    }\n",
              "\n",
              "    .dataframe tbody tr th {\n",
              "        vertical-align: top;\n",
              "    }\n",
              "\n",
              "    .dataframe thead th {\n",
              "        text-align: right;\n",
              "    }\n",
              "</style>\n",
              "<table border=\"1\" class=\"dataframe\">\n",
              "  <thead>\n",
              "    <tr style=\"text-align: right;\">\n",
              "      <th></th>\n",
              "      <th>Adj_Close_SP5</th>\n",
              "      <th>Adj_Close_ETH</th>\n",
              "      <th>Adj_Close_DOGE</th>\n",
              "      <th>Adj_Close_BTC</th>\n",
              "    </tr>\n",
              "    <tr>\n",
              "      <th>Date</th>\n",
              "      <th></th>\n",
              "      <th></th>\n",
              "      <th></th>\n",
              "      <th></th>\n",
              "    </tr>\n",
              "  </thead>\n",
              "  <tbody>\n",
              "    <tr>\n",
              "      <th>2014-01-02</th>\n",
              "      <td>1831.979980</td>\n",
              "      <td>NaN</td>\n",
              "      <td>NaN</td>\n",
              "      <td>NaN</td>\n",
              "    </tr>\n",
              "    <tr>\n",
              "      <th>2014-01-03</th>\n",
              "      <td>1831.369995</td>\n",
              "      <td>NaN</td>\n",
              "      <td>NaN</td>\n",
              "      <td>NaN</td>\n",
              "    </tr>\n",
              "    <tr>\n",
              "      <th>2014-01-06</th>\n",
              "      <td>1826.770020</td>\n",
              "      <td>NaN</td>\n",
              "      <td>NaN</td>\n",
              "      <td>NaN</td>\n",
              "    </tr>\n",
              "    <tr>\n",
              "      <th>2014-01-07</th>\n",
              "      <td>1837.880005</td>\n",
              "      <td>NaN</td>\n",
              "      <td>NaN</td>\n",
              "      <td>NaN</td>\n",
              "    </tr>\n",
              "    <tr>\n",
              "      <th>2014-01-08</th>\n",
              "      <td>1837.489990</td>\n",
              "      <td>NaN</td>\n",
              "      <td>NaN</td>\n",
              "      <td>NaN</td>\n",
              "    </tr>\n",
              "    <tr>\n",
              "      <th>...</th>\n",
              "      <td>...</td>\n",
              "      <td>...</td>\n",
              "      <td>...</td>\n",
              "      <td>...</td>\n",
              "    </tr>\n",
              "    <tr>\n",
              "      <th>2021-10-27</th>\n",
              "      <td>4551.680176</td>\n",
              "      <td>3930.257324</td>\n",
              "      <td>0.237690</td>\n",
              "      <td>58482.386719</td>\n",
              "    </tr>\n",
              "    <tr>\n",
              "      <th>2021-10-28</th>\n",
              "      <td>4596.419922</td>\n",
              "      <td>4287.318848</td>\n",
              "      <td>0.300447</td>\n",
              "      <td>60622.136719</td>\n",
              "    </tr>\n",
              "    <tr>\n",
              "      <th>2021-10-29</th>\n",
              "      <td>4605.379883</td>\n",
              "      <td>4414.746582</td>\n",
              "      <td>0.287853</td>\n",
              "      <td>62227.964844</td>\n",
              "    </tr>\n",
              "    <tr>\n",
              "      <th>2021-10-30</th>\n",
              "      <td>NaN</td>\n",
              "      <td>4325.650391</td>\n",
              "      <td>0.268345</td>\n",
              "      <td>61888.832031</td>\n",
              "    </tr>\n",
              "    <tr>\n",
              "      <th>2021-10-31</th>\n",
              "      <td>NaN</td>\n",
              "      <td>4288.074219</td>\n",
              "      <td>0.280244</td>\n",
              "      <td>61318.957031</td>\n",
              "    </tr>\n",
              "  </tbody>\n",
              "</table>\n",
              "<p>2780 rows × 4 columns</p>\n",
              "</div>"
            ],
            "text/plain": [
              "            Adj_Close_SP5  Adj_Close_ETH  Adj_Close_DOGE  Adj_Close_BTC\n",
              "Date                                                                   \n",
              "2014-01-02    1831.979980            NaN             NaN            NaN\n",
              "2014-01-03    1831.369995            NaN             NaN            NaN\n",
              "2014-01-06    1826.770020            NaN             NaN            NaN\n",
              "2014-01-07    1837.880005            NaN             NaN            NaN\n",
              "2014-01-08    1837.489990            NaN             NaN            NaN\n",
              "...                   ...            ...             ...            ...\n",
              "2021-10-27    4551.680176    3930.257324        0.237690   58482.386719\n",
              "2021-10-28    4596.419922    4287.318848        0.300447   60622.136719\n",
              "2021-10-29    4605.379883    4414.746582        0.287853   62227.964844\n",
              "2021-10-30            NaN    4325.650391        0.268345   61888.832031\n",
              "2021-10-31            NaN    4288.074219        0.280244   61318.957031\n",
              "\n",
              "[2780 rows x 4 columns]"
            ]
          },
          "metadata": {},
          "execution_count": 71
        }
      ]
    },
    {
      "cell_type": "code",
      "metadata": {
        "id": "3ROJ3IBwZcmU"
      },
      "source": [
        "import matplotlib.pyplot as plt\n",
        "import numpy as np"
      ],
      "execution_count": null,
      "outputs": []
    },
    {
      "cell_type": "code",
      "metadata": {
        "colab": {
          "base_uri": "https://localhost:8080/",
          "height": 302
        },
        "id": "UyVciXJDaAdE",
        "outputId": "d3062db9-3ae9-44cc-fd3d-91d9a7277740"
      },
      "source": [
        "SP5.plot(title=\"S&P 500 Adjusted Price Over Time\")"
      ],
      "execution_count": null,
      "outputs": [
        {
          "output_type": "execute_result",
          "data": {
            "text/plain": [
              "<matplotlib.axes._subplots.AxesSubplot at 0x7f5570d94fd0>"
            ]
          },
          "metadata": {},
          "execution_count": 93
        },
        {
          "output_type": "display_data",
          "data": {
            "image/png": "[encoded data removed]",
            "text/plain": [
              "<Figure size 432x288 with 1 Axes>"
            ]
          },
          "metadata": {
            "needs_background": "light"
          }
        }
      ]
    },
    {
      "cell_type": "code",
      "metadata": {
        "id": "P8Ua_DqkdiQd"
      },
      "source": [
        "BTC['Date']=pd.to_datetime(BTC.Date)\n",
        "BTC = BTC.sort_values('Date')\n",
        "BTC =BTC.set_index(BTC['Date'])\n",
        "BTC =BTC.drop('Date',axis=1)"
      ],
      "execution_count": null,
      "outputs": []
    },
    {
      "cell_type": "code",
      "metadata": {
        "colab": {
          "base_uri": "https://localhost:8080/",
          "height": 302
        },
        "id": "9OiVU_5reFH9",
        "outputId": "dcf6b708-69f3-44f2-ab00-0a21928c273e"
      },
      "source": [
        "BTC.plot(title=\"BTC Adjusted Price Over Time\", color='red')"
      ],
      "execution_count": null,
      "outputs": [
        {
          "output_type": "execute_result",
          "data": {
            "text/plain": [
              "<matplotlib.axes._subplots.AxesSubplot at 0x7f5570aa38d0>"
            ]
          },
          "metadata": {},
          "execution_count": 101
        },
        {
          "output_type": "display_data",
          "data": {
            "image/png": "[encoded data removed]",
            "text/plain": [
              "<Figure size 432x288 with 1 Axes>"
            ]
          },
          "metadata": {
            "needs_background": "light"
          }
        }
      ]
    },
    {
      "cell_type": "code",
      "metadata": {
        "id": "4gArngZqeiFV"
      },
      "source": [
        "ETH['Date']=pd.to_datetime(ETH.Date)\n",
        "ETH = ETH.sort_values('Date')\n",
        "ETH =ETH.set_index(ETH['Date'])\n",
        "ETH =ETH.drop('Date',axis=1)"
      ],
      "execution_count": null,
      "outputs": []
    },
    {
      "cell_type": "code",
      "metadata": {
        "id": "1wp8k2_4esnC"
      },
      "source": [
        "DOGE['Date']=pd.to_datetime(DOGE.Date)\n",
        "DOGE = DOGE.sort_values('Date')\n",
        "DOGE =DOGE.set_index(DOGE['Date'])\n",
        "DOGE =DOGE.drop('Date',axis=1)"
      ],
      "execution_count": null,
      "outputs": []
    },
    {
      "cell_type": "code",
      "metadata": {
        "colab": {
          "base_uri": "https://localhost:8080/",
          "height": 302
        },
        "id": "cZIp5EgIe5Qb",
        "outputId": "6e62de26-912a-4d5a-ea00-95888c3bbdcd"
      },
      "source": [
        "ETH.plot(title=\"Ethereum Adjusted Price Over Time\", color='orange')"
      ],
      "execution_count": null,
      "outputs": [
        {
          "output_type": "execute_result",
          "data": {
            "text/plain": [
              "<matplotlib.axes._subplots.AxesSubplot at 0x7f5570a1c1d0>"
            ]
          },
          "metadata": {},
          "execution_count": 102
        },
        {
          "output_type": "display_data",
          "data": {
            "image/png": "[encoded data removed]",
            "text/plain": [
              "<Figure size 432x288 with 1 Axes>"
            ]
          },
          "metadata": {
            "needs_background": "light"
          }
        }
      ]
    },
    {
      "cell_type": "code",
      "metadata": {
        "colab": {
          "base_uri": "https://localhost:8080/",
          "height": 302
        },
        "id": "66HYmtvmfJ8K",
        "outputId": "96c3d47f-e7f7-47de-e633-97e7136e9267"
      },
      "source": [
        "DOGE.plot(title=\"Dogecoin Adjusted Price Over Time\", color='green')"
      ],
      "execution_count": null,
      "outputs": [
        {
          "output_type": "execute_result",
          "data": {
            "text/plain": [
              "<matplotlib.axes._subplots.AxesSubplot at 0x7f5570997d10>"
            ]
          },
          "metadata": {},
          "execution_count": 103
        },
        {
          "output_type": "display_data",
          "data": {
            "image/png": "[encoded data removed]",
            "text/plain": [
              "<Figure size 432x288 with 1 Axes>"
            ]
          },
          "metadata": {
            "needs_background": "light"
          }
        }
      ]
    }
  ]
}