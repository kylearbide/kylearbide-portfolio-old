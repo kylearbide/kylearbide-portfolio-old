{
  "nbformat": 4,
  "nbformat_minor": 0,
  "metadata": {
    "colab": {
      "name": "Rolling Average Analysis and Regression",
      "provenance": []
    },
    "kernelspec": {
      "name": "python3",
      "display_name": "Python 3"
    },
    "language_info": {
      "name": "python"
    }
  },
  "cells": [
    {
      "cell_type": "code",
      "metadata": {
        "colab": {
          "base_uri": "https://localhost:8080/"
        },
        "id": "6310ji7u3_Du",
        "outputId": "9b5e2007-c07d-4d23-c856-5e13acd308c0"
      },
      "source": [
        "!pip install yfinance\n",
        "import pandas_datareader as web\n",
        "from pandas_datareader import data as pdr\n",
        "import yfinance as yfin\n",
        "yfin.pdr_override()"
      ],
      "execution_count": null,
      "outputs": [
        {
          "output_type": "stream",
          "name": "stdout",
          "text": [
            "Collecting yfinance\n",
            "  Downloading yfinance-0.1.67-py2.py3-none-any.whl (25 kB)\n",
            "Requirement already satisfied: numpy>=1.15 in /usr/local/lib/python3.7/dist-packages (from yfinance) (1.19.5)\n",
            "Requirement already satisfied: pandas>=0.24 in /usr/local/lib/python3.7/dist-packages (from yfinance) (1.1.5)\n",
            "Requirement already satisfied: requests>=2.20 in /usr/local/lib/python3.7/dist-packages (from yfinance) (2.23.0)\n",
            "Collecting lxml>=4.5.1\n",
            "  Downloading lxml-4.6.4-cp37-cp37m-manylinux_2_17_x86_64.manylinux2014_x86_64.manylinux_2_24_x86_64.whl (6.3 MB)\n",
            "\u001b[K     |████████████████████████████████| 6.3 MB 6.3 MB/s \n",
            "\u001b[?25hRequirement already satisfied: multitasking>=0.0.7 in /usr/local/lib/python3.7/dist-packages (from yfinance) (0.0.10)\n",
            "Requirement already satisfied: pytz>=2017.2 in /usr/local/lib/python3.7/dist-packages (from pandas>=0.24->yfinance) (2018.9)\n",
            "Requirement already satisfied: python-dateutil>=2.7.3 in /usr/local/lib/python3.7/dist-packages (from pandas>=0.24->yfinance) (2.8.2)\n",
            "Requirement already satisfied: six>=1.5 in /usr/local/lib/python3.7/dist-packages (from python-dateutil>=2.7.3->pandas>=0.24->yfinance) (1.15.0)\n",
            "Requirement already satisfied: urllib3!=1.25.0,!=1.25.1,<1.26,>=1.21.1 in /usr/local/lib/python3.7/dist-packages (from requests>=2.20->yfinance) (1.24.3)\n",
            "Requirement already satisfied: certifi>=2017.4.17 in /usr/local/lib/python3.7/dist-packages (from requests>=2.20->yfinance) (2021.10.8)\n",
            "Requirement already satisfied: chardet<4,>=3.0.2 in /usr/local/lib/python3.7/dist-packages (from requests>=2.20->yfinance) (3.0.4)\n",
            "Requirement already satisfied: idna<3,>=2.5 in /usr/local/lib/python3.7/dist-packages (from requests>=2.20->yfinance) (2.10)\n",
            "Installing collected packages: lxml, yfinance\n",
            "  Attempting uninstall: lxml\n",
            "    Found existing installation: lxml 4.2.6\n",
            "    Uninstalling lxml-4.2.6:\n",
            "      Successfully uninstalled lxml-4.2.6\n",
            "Successfully installed lxml-4.6.4 yfinance-0.1.67\n"
          ]
        }
      ]
    },
    {
      "cell_type": "code",
      "metadata": {
        "id": "wYS6VZu8MwN4"
      },
      "source": [
        "import pandas as pd\n",
        "import numpy as np\n",
        "import datetime as dt"
      ],
      "execution_count": null,
      "outputs": []
    },
    {
      "cell_type": "code",
      "metadata": {
        "colab": {
          "base_uri": "https://localhost:8080/"
        },
        "id": "2g7HJ3um4MFB",
        "outputId": "6a57e36c-e9f3-4aec-cc17-6ce710122559"
      },
      "source": [
        "BTC = pdr.get_data_yahoo(\"BTC-USD\", start=\"2014-01-01\", end=\"2021-10-31\")\n",
        "ETH = pdr.get_data_yahoo(\"ETH-USD\", start=\"2014-01-01\", end=\"2021-10-31\")\n",
        "DOGE = pdr.get_data_yahoo(\"DOGE-USD\", start=\"2014-01-01\", end=\"2021-10-31\")\n",
        "SP5 = pdr.get_data_yahoo(\"^GSPC\", start=\"2014-01-01\", end=\"2021-10-31\")\n",
        "BTC.reset_index(level=0, inplace=True)\n",
        "ETH.reset_index(level=0, inplace=True)\n",
        "DOGE.reset_index(level=0, inplace=True)\n",
        "SP5.reset_index(level=0, inplace=True)"
      ],
      "execution_count": null,
      "outputs": [
        {
          "output_type": "stream",
          "name": "stdout",
          "text": [
            "[*********************100%***********************]  1 of 1 completed\n",
            "[*********************100%***********************]  1 of 1 completed\n",
            "[*********************100%***********************]  1 of 1 completed\n",
            "[*********************100%***********************]  1 of 1 completed\n"
          ]
        }
      ]
    },
    {
      "cell_type": "code",
      "metadata": {
        "id": "voUfCsE74nxL"
      },
      "source": [
        "Merged = SP5.merge(ETH, how = 'outer', on = \"Date\")\n",
        "Merged = Merged.merge(DOGE, how = 'outer', on = \"Date\")\n",
        "Merged = Merged.merge(BTC, how = 'outer', on = \"Date\")"
      ],
      "execution_count": null,
      "outputs": []
    },
    {
      "cell_type": "code",
      "metadata": {
        "id": "7FXtW1Zj5yxc"
      },
      "source": [
        "Merged.columns = [\"Date\",\"Open_SP5\",\t'High_SP5'\t,'Low_SP5',\t'Close_SP5',\t'Adj_Close_SP5','Volume_SP5',\"Open_ETH\",\t'High_ETH'\t,'Low_ETH',\t'Close_ETH',\t'Adj_Close_ETH','Volume_ETH',\"Open_DOGE\",\t'High_DOGE'\t,'Low_DOGE',\t'Close_DOGE',\t'Adj_Close_DOGE','Volume_BTC',\"Open_BTC\",\t'High_BTC'\t,'Low_BTC',\t'Close_BTC',\t'Adj_Close_BTC','Volume_BTC']"
      ],
      "execution_count": null,
      "outputs": []
    },
    {
      "cell_type": "code",
      "metadata": {
        "id": "I1xPm0qx58Ao"
      },
      "source": [
        "BTC2=BTC.copy()\n",
        "ETH2=ETH.copy()\n",
        "DOGE2=DOGE.copy()\n",
        "SP52=SP5.copy()\n",
        "\n",
        "BTC2['asset']='BTC'\n",
        "ETH2['asset']='ETH'\n",
        "DOGE2['asset']='DOGE'\n",
        "SP52['asset']='SP5'"
      ],
      "execution_count": null,
      "outputs": []
    },
    {
      "cell_type": "code",
      "metadata": {
        "id": "3GBF_mx17YSb"
      },
      "source": [
        "Merged2 = SP52.append(ETH2, ignore_index=True)\n",
        "Merged2 = Merged2.append(DOGE2, ignore_index=True)\n",
        "Merged2=Merged2.append(BTC2, ignore_index=True)"
      ],
      "execution_count": null,
      "outputs": []
    },
    {
      "cell_type": "code",
      "metadata": {
        "id": "7vh1gi5C7ZTO"
      },
      "source": [
        "Merged2['delta']=(Merged2['Close']-Merged2['Open'])/Merged2['Open']\n",
        "piv_m2= Merged2.pivot(index='Date', columns='asset',values='delta')"
      ],
      "execution_count": null,
      "outputs": []
    },
    {
      "cell_type": "code",
      "metadata": {
        "id": "ptHyjyis7joz"
      },
      "source": [
        "c1_col=['Adj_Close_SP5','Adj_Close_ETH','Adj_Close_DOGE','Adj_Close_BTC']\n",
        "\n",
        "c1=Merged[c1_col]"
      ],
      "execution_count": null,
      "outputs": []
    },
    {
      "cell_type": "code",
      "metadata": {
        "id": "SfxzyuhjLZCG"
      },
      "source": [
        "#SP5[\"pctChange\"] = (SP5[\"Adj Close\"].pct_change())*100"
      ],
      "execution_count": null,
      "outputs": []
    },
    {
      "cell_type": "code",
      "metadata": {
        "id": "pvd4JuCkNGBv"
      },
      "source": [
        "#SP5[\"Weekday\"] = SP5[\"Date\"].dt.day_name()"
      ],
      "execution_count": null,
      "outputs": []
    },
    {
      "cell_type": "code",
      "metadata": {
        "id": "s3UHMoG8q1Om"
      },
      "source": [
        "#SP5Weekly = SP5.loc[SP5[\"Weekday\"]==\"Monday\"]\n"
      ],
      "execution_count": null,
      "outputs": []
    },
    {
      "cell_type": "code",
      "metadata": {
        "id": "DQPcwsyDsFHX"
      },
      "source": [
        "def WeeklyOutputs(data):\n",
        "  data[\"Weekday\"] = data[\"Date\"].dt.day_name()\n",
        "  weekly = data.loc[data[\"Weekday\"]==\"Monday\"]\n",
        "  weekly[\"change\"] = (weekly[\"Adj Close\"].pct_change())*100\n",
        "  weekly.drop([\"High\",\"Low\",\"Close\",\"Volume\",\"Weekday\"], axis=1, inplace = True)\n",
        "  return(weekly)"
      ],
      "execution_count": null,
      "outputs": []
    },
    {
      "cell_type": "code",
      "metadata": {
        "colab": {
          "base_uri": "https://localhost:8080/"
        },
        "id": "Dto4-IUkxjRX",
        "outputId": "5d6b0a6e-71f1-4f9e-acb7-16d1128d4b9b"
      },
      "source": [
        "SP5Weekly = WeeklyOutputs(SP5)\n",
        "BTCWeekly = WeeklyOutputs(BTC)\n",
        "DOGEWeekly = WeeklyOutputs(DOGE)\n",
        "ETHWeekly = WeeklyOutputs(ETH)"
      ],
      "execution_count": null,
      "outputs": [
        {
          "output_type": "stream",
          "name": "stderr",
          "text": [
            "/usr/local/lib/python3.7/dist-packages/ipykernel_launcher.py:4: SettingWithCopyWarning: \n",
            "A value is trying to be set on a copy of a slice from a DataFrame.\n",
            "Try using .loc[row_indexer,col_indexer] = value instead\n",
            "\n",
            "See the caveats in the documentation: https://pandas.pydata.org/pandas-docs/stable/user_guide/indexing.html#returning-a-view-versus-a-copy\n",
            "  after removing the cwd from sys.path.\n",
            "/usr/local/lib/python3.7/dist-packages/pandas/core/frame.py:4174: SettingWithCopyWarning: \n",
            "A value is trying to be set on a copy of a slice from a DataFrame\n",
            "\n",
            "See the caveats in the documentation: https://pandas.pydata.org/pandas-docs/stable/user_guide/indexing.html#returning-a-view-versus-a-copy\n",
            "  errors=errors,\n"
          ]
        }
      ]
    },
    {
      "cell_type": "code",
      "metadata": {
        "id": "-L5hpHabyK2E"
      },
      "source": [
        "stdSP5_W = SP5Weekly['change'].std()\n",
        "stdBTC_W = BTCWeekly['change'].std()\n",
        "stdDOGE_W = DOGEWeekly['change'].std()\n",
        "stdETH_W = ETHWeekly['change'].std()"
      ],
      "execution_count": null,
      "outputs": []
    },
    {
      "cell_type": "code",
      "metadata": {
        "id": "Gf34hnsk0Sbi"
      },
      "source": [
        "def findBIGDROPS(data,stdDev):\n",
        "  boundary = -2*stdDev\n",
        "  drops = data.loc[data[\"change\"] < boundary]\n",
        "  dates = drops[\"Date\"].tolist()\n",
        "  return(drops,dates)"
      ],
      "execution_count": null,
      "outputs": []
    },
    {
      "cell_type": "code",
      "metadata": {
        "id": "qr3p-nVhu_AW"
      },
      "source": [
        "SP5drops,SP5Dates = findBIGDROPS(SP5Weekly,stdSP5_W)"
      ],
      "execution_count": null,
      "outputs": []
    },
    {
      "cell_type": "code",
      "metadata": {
        "id": "GJ27IiRxvJRI"
      },
      "source": [
        "def nextTwoWeeks(dates):\n",
        "  newdates = []\n",
        "  for x in dates:\n",
        "    newdates.append(x)\n",
        "    newdates.append(x+dt.timedelta(days=7))\n",
        "    newdates.append(x+dt.timedelta(days=14))\n",
        "  newBTC = BTCWeekly[BTCWeekly[\"Date\"].isin(newdates)]\n",
        "  newDOGE = DOGEWeekly[DOGEWeekly[\"Date\"].isin(newdates)]\n",
        "  newETH = ETHWeekly[ETHWeekly[\"Date\"].isin(newdates)]\n",
        "  newSP5 = SP5Weekly[SP5Weekly[\"Date\"].isin(newdates)]\n",
        "  final = newBTC.merge(newDOGE, on = \"Date\", how = \"outer\")\n",
        "  final = final.merge(newETH, on = \"Date\", how = \"outer\")\n",
        "  final = final.merge(newSP5, on = \"Date\", how = \"outer\")\n",
        "  final.columns = [\"Date\",\"Open_BTC\",'Adj_Close_BTC',\"Change_BTC\",\"Open_DOGE\",'Adj_Close_DOGE', \"Change_DOGE\",\"Open_ETH\",'Adj_Close_ETH',\"Change_ETH\",\"Open_SP5\",\t\"Adj_Close_SP5\", \"Change_SP5\"]\n",
        "  return(final)\n"
      ],
      "execution_count": null,
      "outputs": []
    },
    {
      "cell_type": "code",
      "metadata": {
        "id": "LnPdwI4iD3Ii"
      },
      "source": [
        "dfDrops = nextTwoWeeks(SP5Dates)"
      ],
      "execution_count": null,
      "outputs": []
    },
    {
      "cell_type": "code",
      "metadata": {
        "colab": {
          "base_uri": "https://localhost:8080/",
          "height": 175
        },
        "id": "zE7cqdSWHr25",
        "outputId": "50f019e7-51db-4018-a5c5-6f2e36477909"
      },
      "source": [
        "changeDfDrops = dfDrops[[\"Change_BTC\",\"Change_DOGE\", \"Change_ETH\", \"Change_SP5\"]]\n",
        "changeDfDrops.corr()"
      ],
      "execution_count": null,
      "outputs": [
        {
          "output_type": "execute_result",
          "data": {
            "text/html": [
              "<div>\n",
              "<style scoped>\n",
              "    .dataframe tbody tr th:only-of-type {\n",
              "        vertical-align: middle;\n",
              "    }\n",
              "\n",
              "    .dataframe tbody tr th {\n",
              "        vertical-align: top;\n",
              "    }\n",
              "\n",
              "    .dataframe thead th {\n",
              "        text-align: right;\n",
              "    }\n",
              "</style>\n",
              "<table border=\"1\" class=\"dataframe\">\n",
              "  <thead>\n",
              "    <tr style=\"text-align: right;\">\n",
              "      <th></th>\n",
              "      <th>Change_BTC</th>\n",
              "      <th>Change_DOGE</th>\n",
              "      <th>Change_ETH</th>\n",
              "      <th>Change_SP5</th>\n",
              "    </tr>\n",
              "  </thead>\n",
              "  <tbody>\n",
              "    <tr>\n",
              "      <th>Change_BTC</th>\n",
              "      <td>1.000000</td>\n",
              "      <td>0.857339</td>\n",
              "      <td>0.844629</td>\n",
              "      <td>0.292596</td>\n",
              "    </tr>\n",
              "    <tr>\n",
              "      <th>Change_DOGE</th>\n",
              "      <td>0.857339</td>\n",
              "      <td>1.000000</td>\n",
              "      <td>0.694461</td>\n",
              "      <td>0.279397</td>\n",
              "    </tr>\n",
              "    <tr>\n",
              "      <th>Change_ETH</th>\n",
              "      <td>0.844629</td>\n",
              "      <td>0.694461</td>\n",
              "      <td>1.000000</td>\n",
              "      <td>0.223441</td>\n",
              "    </tr>\n",
              "    <tr>\n",
              "      <th>Change_SP5</th>\n",
              "      <td>0.292596</td>\n",
              "      <td>0.279397</td>\n",
              "      <td>0.223441</td>\n",
              "      <td>1.000000</td>\n",
              "    </tr>\n",
              "  </tbody>\n",
              "</table>\n",
              "</div>"
            ],
            "text/plain": [
              "             Change_BTC  Change_DOGE  Change_ETH  Change_SP5\n",
              "Change_BTC     1.000000     0.857339    0.844629    0.292596\n",
              "Change_DOGE    0.857339     1.000000    0.694461    0.279397\n",
              "Change_ETH     0.844629     0.694461    1.000000    0.223441\n",
              "Change_SP5     0.292596     0.279397    0.223441    1.000000"
            ]
          },
          "metadata": {},
          "execution_count": 20
        }
      ]
    },
    {
      "cell_type": "code",
      "metadata": {
        "colab": {
          "base_uri": "https://localhost:8080/",
          "height": 175
        },
        "id": "vYWOAkFwNXDG",
        "outputId": "d9e55ea6-23dd-472d-d94d-e637b0ed2dde"
      },
      "source": [
        "dfDrops2020 = dfDrops.loc[dfDrops[\"Date\"]> \"2020-01-01\"]\n",
        "changeDfDrops2020 = dfDrops2020[[\"Change_BTC\",\"Change_DOGE\", \"Change_ETH\", \"Change_SP5\"]]\n",
        "changeDfDrops2020.corr()"
      ],
      "execution_count": null,
      "outputs": [
        {
          "output_type": "execute_result",
          "data": {
            "text/html": [
              "<div>\n",
              "<style scoped>\n",
              "    .dataframe tbody tr th:only-of-type {\n",
              "        vertical-align: middle;\n",
              "    }\n",
              "\n",
              "    .dataframe tbody tr th {\n",
              "        vertical-align: top;\n",
              "    }\n",
              "\n",
              "    .dataframe thead th {\n",
              "        text-align: right;\n",
              "    }\n",
              "</style>\n",
              "<table border=\"1\" class=\"dataframe\">\n",
              "  <thead>\n",
              "    <tr style=\"text-align: right;\">\n",
              "      <th></th>\n",
              "      <th>Change_BTC</th>\n",
              "      <th>Change_DOGE</th>\n",
              "      <th>Change_ETH</th>\n",
              "      <th>Change_SP5</th>\n",
              "    </tr>\n",
              "  </thead>\n",
              "  <tbody>\n",
              "    <tr>\n",
              "      <th>Change_BTC</th>\n",
              "      <td>1.000000</td>\n",
              "      <td>0.982913</td>\n",
              "      <td>0.959004</td>\n",
              "      <td>0.363770</td>\n",
              "    </tr>\n",
              "    <tr>\n",
              "      <th>Change_DOGE</th>\n",
              "      <td>0.982913</td>\n",
              "      <td>1.000000</td>\n",
              "      <td>0.967444</td>\n",
              "      <td>0.448847</td>\n",
              "    </tr>\n",
              "    <tr>\n",
              "      <th>Change_ETH</th>\n",
              "      <td>0.959004</td>\n",
              "      <td>0.967444</td>\n",
              "      <td>1.000000</td>\n",
              "      <td>0.419643</td>\n",
              "    </tr>\n",
              "    <tr>\n",
              "      <th>Change_SP5</th>\n",
              "      <td>0.363770</td>\n",
              "      <td>0.448847</td>\n",
              "      <td>0.419643</td>\n",
              "      <td>1.000000</td>\n",
              "    </tr>\n",
              "  </tbody>\n",
              "</table>\n",
              "</div>"
            ],
            "text/plain": [
              "             Change_BTC  Change_DOGE  Change_ETH  Change_SP5\n",
              "Change_BTC     1.000000     0.982913    0.959004    0.363770\n",
              "Change_DOGE    0.982913     1.000000    0.967444    0.448847\n",
              "Change_ETH     0.959004     0.967444    1.000000    0.419643\n",
              "Change_SP5     0.363770     0.448847    0.419643    1.000000"
            ]
          },
          "metadata": {},
          "execution_count": 21
        }
      ]
    },
    {
      "cell_type": "code",
      "metadata": {
        "colab": {
          "base_uri": "https://localhost:8080/",
          "height": 300
        },
        "id": "aVYL2Y9FGb9n",
        "outputId": "e0296f86-8a1d-4de1-b16c-15d4d4608a88"
      },
      "source": [
        " dfDrops2020"
      ],
      "execution_count": null,
      "outputs": [
        {
          "output_type": "execute_result",
          "data": {
            "text/html": [
              "<div>\n",
              "<style scoped>\n",
              "    .dataframe tbody tr th:only-of-type {\n",
              "        vertical-align: middle;\n",
              "    }\n",
              "\n",
              "    .dataframe tbody tr th {\n",
              "        vertical-align: top;\n",
              "    }\n",
              "\n",
              "    .dataframe thead th {\n",
              "        text-align: right;\n",
              "    }\n",
              "</style>\n",
              "<table border=\"1\" class=\"dataframe\">\n",
              "  <thead>\n",
              "    <tr style=\"text-align: right;\">\n",
              "      <th></th>\n",
              "      <th>Date</th>\n",
              "      <th>Open_BTC</th>\n",
              "      <th>Adj_Close_BTC</th>\n",
              "      <th>Change_BTC</th>\n",
              "      <th>Open_DOGE</th>\n",
              "      <th>Adj_Close_DOGE</th>\n",
              "      <th>Change_DOGE</th>\n",
              "      <th>Open_ETH</th>\n",
              "      <th>Adj_Close_ETH</th>\n",
              "      <th>Change_ETH</th>\n",
              "      <th>Open_SP5</th>\n",
              "      <th>Adj_Close_SP5</th>\n",
              "      <th>Change_SP5</th>\n",
              "    </tr>\n",
              "  </thead>\n",
              "  <tbody>\n",
              "    <tr>\n",
              "      <th>14</th>\n",
              "      <td>2020-03-09</td>\n",
              "      <td>8111.146484</td>\n",
              "      <td>7923.644531</td>\n",
              "      <td>-10.665847</td>\n",
              "      <td>0.002189</td>\n",
              "      <td>0.002214</td>\n",
              "      <td>-5.747121</td>\n",
              "      <td>201.318497</td>\n",
              "      <td>201.986328</td>\n",
              "      <td>-12.396876</td>\n",
              "      <td>2863.889893</td>\n",
              "      <td>2746.560059</td>\n",
              "      <td>-11.121176</td>\n",
              "    </tr>\n",
              "    <tr>\n",
              "      <th>15</th>\n",
              "      <td>2020-03-16</td>\n",
              "      <td>5385.229492</td>\n",
              "      <td>5014.479980</td>\n",
              "      <td>-36.714981</td>\n",
              "      <td>0.001684</td>\n",
              "      <td>0.001587</td>\n",
              "      <td>-28.319787</td>\n",
              "      <td>124.996117</td>\n",
              "      <td>110.605873</td>\n",
              "      <td>-45.240911</td>\n",
              "      <td>2508.590088</td>\n",
              "      <td>2386.129883</td>\n",
              "      <td>-13.122967</td>\n",
              "    </tr>\n",
              "    <tr>\n",
              "      <th>16</th>\n",
              "      <td>2020-03-23</td>\n",
              "      <td>5831.374512</td>\n",
              "      <td>6416.314941</td>\n",
              "      <td>27.955740</td>\n",
              "      <td>0.001727</td>\n",
              "      <td>0.001805</td>\n",
              "      <td>13.736612</td>\n",
              "      <td>123.365982</td>\n",
              "      <td>134.911606</td>\n",
              "      <td>21.975083</td>\n",
              "      <td>2290.709961</td>\n",
              "      <td>2237.399902</td>\n",
              "      <td>-6.233105</td>\n",
              "    </tr>\n",
              "    <tr>\n",
              "      <th>17</th>\n",
              "      <td>2020-03-30</td>\n",
              "      <td>5925.538574</td>\n",
              "      <td>6429.841797</td>\n",
              "      <td>0.210820</td>\n",
              "      <td>0.001723</td>\n",
              "      <td>0.001831</td>\n",
              "      <td>1.440441</td>\n",
              "      <td>125.577896</td>\n",
              "      <td>132.904541</td>\n",
              "      <td>-1.487689</td>\n",
              "      <td>2558.979980</td>\n",
              "      <td>2626.649902</td>\n",
              "      <td>17.397426</td>\n",
              "    </tr>\n",
              "    <tr>\n",
              "      <th>18</th>\n",
              "      <td>2020-04-06</td>\n",
              "      <td>6788.049805</td>\n",
              "      <td>7271.781250</td>\n",
              "      <td>13.094248</td>\n",
              "      <td>0.001866</td>\n",
              "      <td>0.001980</td>\n",
              "      <td>8.137628</td>\n",
              "      <td>143.608215</td>\n",
              "      <td>169.135880</td>\n",
              "      <td>27.261174</td>\n",
              "      <td>2578.280029</td>\n",
              "      <td>2663.679932</td>\n",
              "      <td>1.409782</td>\n",
              "    </tr>\n",
              "    <tr>\n",
              "      <th>19</th>\n",
              "      <td>2020-06-15</td>\n",
              "      <td>9386.035156</td>\n",
              "      <td>9450.702148</td>\n",
              "      <td>-3.282889</td>\n",
              "      <td>0.002510</td>\n",
              "      <td>0.002479</td>\n",
              "      <td>-4.063463</td>\n",
              "      <td>234.058304</td>\n",
              "      <td>229.928909</td>\n",
              "      <td>-6.650563</td>\n",
              "      <td>2993.760010</td>\n",
              "      <td>3066.590088</td>\n",
              "      <td>-5.129326</td>\n",
              "    </tr>\n",
              "    <tr>\n",
              "      <th>20</th>\n",
              "      <td>2020-06-22</td>\n",
              "      <td>9300.915039</td>\n",
              "      <td>9648.717773</td>\n",
              "      <td>2.095248</td>\n",
              "      <td>0.002447</td>\n",
              "      <td>0.002474</td>\n",
              "      <td>-0.201696</td>\n",
              "      <td>229.003372</td>\n",
              "      <td>242.533188</td>\n",
              "      <td>5.481815</td>\n",
              "      <td>3094.419922</td>\n",
              "      <td>3117.860107</td>\n",
              "      <td>1.671890</td>\n",
              "    </tr>\n",
              "    <tr>\n",
              "      <th>21</th>\n",
              "      <td>2020-06-29</td>\n",
              "      <td>9140.029297</td>\n",
              "      <td>9190.854492</td>\n",
              "      <td>-4.745328</td>\n",
              "      <td>0.002326</td>\n",
              "      <td>0.002313</td>\n",
              "      <td>-6.507682</td>\n",
              "      <td>225.361435</td>\n",
              "      <td>228.194870</td>\n",
              "      <td>-5.911899</td>\n",
              "      <td>3018.590088</td>\n",
              "      <td>3053.239990</td>\n",
              "      <td>-2.072579</td>\n",
              "    </tr>\n",
              "  </tbody>\n",
              "</table>\n",
              "</div>"
            ],
            "text/plain": [
              "         Date     Open_BTC  ...  Adj_Close_SP5  Change_SP5\n",
              "14 2020-03-09  8111.146484  ...    2746.560059  -11.121176\n",
              "15 2020-03-16  5385.229492  ...    2386.129883  -13.122967\n",
              "16 2020-03-23  5831.374512  ...    2237.399902   -6.233105\n",
              "17 2020-03-30  5925.538574  ...    2626.649902   17.397426\n",
              "18 2020-04-06  6788.049805  ...    2663.679932    1.409782\n",
              "19 2020-06-15  9386.035156  ...    3066.590088   -5.129326\n",
              "20 2020-06-22  9300.915039  ...    3117.860107    1.671890\n",
              "21 2020-06-29  9140.029297  ...    3053.239990   -2.072579\n",
              "\n",
              "[8 rows x 13 columns]"
            ]
          },
          "metadata": {},
          "execution_count": 22
        }
      ]
    },
    {
      "cell_type": "code",
      "metadata": {
        "id": "3Wbhqw6w8uwf"
      },
      "source": [
        "SP5WeeklyReg = SP5Weekly[[\"Date\",\"change\"]]\n",
        "SP5WeeklyReg.columns = [\"Date\", \"change_SP5\"]\n",
        "\n",
        "BTCWeeklyReg = BTCWeekly[[\"Date\",\"change\"]]\n",
        "BTCWeeklyReg.columns = [\"Date\", \"change_BTC\"]\n",
        "\n",
        "DOGEWeeklyReg = DOGEWeekly[[\"Date\",\"change\"]]\n",
        "DOGEWeeklyReg.columns =  [\"Date\", \"change_DOGE\"]\n",
        "\n",
        "ETHWeeklyReg = ETHWeekly[[\"Date\",\"change\"]]\n",
        "ETHWeeklyReg.columns = [\"Date\", \"change_ETH\"]"
      ],
      "execution_count": null,
      "outputs": []
    },
    {
      "cell_type": "code",
      "metadata": {
        "id": "08LIrpkWD1oy"
      },
      "source": [
        "RegMerged = SP5WeeklyReg.merge(BTCWeeklyReg, how = \"inner\", on=\"Date\")\n",
        "RegMerged = RegMerged.merge(DOGEWeeklyReg, how = \"inner\", on=\"Date\")\n",
        "RegMerged = RegMerged.merge(ETHWeeklyReg, how = \"inner\", on = \"Date\")"
      ],
      "execution_count": null,
      "outputs": []
    },
    {
      "cell_type": "code",
      "metadata": {
        "id": "E2qUncGZFIBt"
      },
      "source": [
        "RegMerged.dropna(inplace = True)"
      ],
      "execution_count": null,
      "outputs": []
    },
    {
      "cell_type": "code",
      "metadata": {
        "colab": {
          "base_uri": "https://localhost:8080/",
          "height": 175
        },
        "id": "Rp3bXRRIFcRe",
        "outputId": "1d08eb7b-a929-462d-e66d-3e3346ca15dc"
      },
      "source": [
        "RegMerged.corr()"
      ],
      "execution_count": null,
      "outputs": [
        {
          "output_type": "execute_result",
          "data": {
            "text/html": [
              "<div>\n",
              "<style scoped>\n",
              "    .dataframe tbody tr th:only-of-type {\n",
              "        vertical-align: middle;\n",
              "    }\n",
              "\n",
              "    .dataframe tbody tr th {\n",
              "        vertical-align: top;\n",
              "    }\n",
              "\n",
              "    .dataframe thead th {\n",
              "        text-align: right;\n",
              "    }\n",
              "</style>\n",
              "<table border=\"1\" class=\"dataframe\">\n",
              "  <thead>\n",
              "    <tr style=\"text-align: right;\">\n",
              "      <th></th>\n",
              "      <th>change_SP5</th>\n",
              "      <th>change_BTC</th>\n",
              "      <th>change_DOGE</th>\n",
              "      <th>change_ETH</th>\n",
              "    </tr>\n",
              "  </thead>\n",
              "  <tbody>\n",
              "    <tr>\n",
              "      <th>change_SP5</th>\n",
              "      <td>1.000000</td>\n",
              "      <td>0.145483</td>\n",
              "      <td>0.042279</td>\n",
              "      <td>0.092338</td>\n",
              "    </tr>\n",
              "    <tr>\n",
              "      <th>change_BTC</th>\n",
              "      <td>0.145483</td>\n",
              "      <td>1.000000</td>\n",
              "      <td>0.277259</td>\n",
              "      <td>0.509783</td>\n",
              "    </tr>\n",
              "    <tr>\n",
              "      <th>change_DOGE</th>\n",
              "      <td>0.042279</td>\n",
              "      <td>0.277259</td>\n",
              "      <td>1.000000</td>\n",
              "      <td>0.306248</td>\n",
              "    </tr>\n",
              "    <tr>\n",
              "      <th>change_ETH</th>\n",
              "      <td>0.092338</td>\n",
              "      <td>0.509783</td>\n",
              "      <td>0.306248</td>\n",
              "      <td>1.000000</td>\n",
              "    </tr>\n",
              "  </tbody>\n",
              "</table>\n",
              "</div>"
            ],
            "text/plain": [
              "             change_SP5  change_BTC  change_DOGE  change_ETH\n",
              "change_SP5     1.000000    0.145483     0.042279    0.092338\n",
              "change_BTC     0.145483    1.000000     0.277259    0.509783\n",
              "change_DOGE    0.042279    0.277259     1.000000    0.306248\n",
              "change_ETH     0.092338    0.509783     0.306248    1.000000"
            ]
          },
          "metadata": {},
          "execution_count": 26
        }
      ]
    },
    {
      "cell_type": "code",
      "metadata": {
        "id": "wat5vfTxE9X4"
      },
      "source": [
        "# First Regression Model, SP5 based on Cryptos\n",
        "X = RegMerged[[\"change_DOGE\",\"change_ETH\",\"change_BTC\"]]\n",
        "Y = RegMerged[[\"change_SP5\"]]\n",
        "\n",
        "from sklearn.model_selection import train_test_split\n",
        "X_train, X_test, Y_train, Y_test = train_test_split(X,Y, test_size = 0.2)"
      ],
      "execution_count": null,
      "outputs": []
    },
    {
      "cell_type": "code",
      "metadata": {
        "colab": {
          "base_uri": "https://localhost:8080/"
        },
        "id": "8DmEk6m6F56M",
        "outputId": "0fe47d60-2960-47ed-955d-11051a927d6d"
      },
      "source": [
        "from sklearn import linear_model\n",
        "reg = linear_model.LinearRegression()\n",
        "reg.fit(pd.DataFrame(X_train),pd.DataFrame(Y_train))"
      ],
      "execution_count": null,
      "outputs": [
        {
          "output_type": "execute_result",
          "data": {
            "text/plain": [
              "LinearRegression()"
            ]
          },
          "metadata": {},
          "execution_count": 34
        }
      ]
    },
    {
      "cell_type": "code",
      "metadata": {
        "colab": {
          "base_uri": "https://localhost:8080/"
        },
        "id": "su2LxSf8F8_z",
        "outputId": "334de930-00f5-4a2c-baf4-0f8a81f2d4d4"
      },
      "source": [
        "print(reg.coef_)\n",
        "print(reg.intercept_)"
      ],
      "execution_count": null,
      "outputs": [
        {
          "output_type": "stream",
          "name": "stdout",
          "text": [
            "[[-0.0008819   0.00648681  0.02056507]]\n",
            "[0.12944062]\n"
          ]
        }
      ]
    },
    {
      "cell_type": "code",
      "metadata": {
        "id": "eoz-VveKGKPa"
      },
      "source": [
        "pred = reg.predict(X_test)\n",
        "err = pd.Series(Y_test[\"change_SP5\"]) - [p[0]for p in pred]"
      ],
      "execution_count": null,
      "outputs": []
    },
    {
      "cell_type": "code",
      "metadata": {
        "colab": {
          "base_uri": "https://localhost:8080/",
          "height": 282
        },
        "id": "zp-pjoHSGatk",
        "outputId": "6e5af051-9bd0-438c-f413-77b5d8624b4a"
      },
      "source": [
        "err.hist()"
      ],
      "execution_count": null,
      "outputs": [
        {
          "output_type": "execute_result",
          "data": {
            "text/plain": [
              "<matplotlib.axes._subplots.AxesSubplot at 0x7f9edf140350>"
            ]
          },
          "metadata": {},
          "execution_count": 37
        },
        {
          "output_type": "display_data",
          "data": {
            "image/png": "[encoded data removed]",
            "text/plain": [
              "<Figure size 432x288 with 1 Axes>"
            ]
          },
          "metadata": {
            "needs_background": "light"
          }
        }
      ]
    },
    {
      "cell_type": "code",
      "metadata": {
        "colab": {
          "base_uri": "https://localhost:8080/"
        },
        "id": "aOgXc6iDGeGo",
        "outputId": "5f2f8a9a-6296-4144-e9a7-3187808ca91a"
      },
      "source": [
        "reg.score(X_test,Y_test)"
      ],
      "execution_count": null,
      "outputs": [
        {
          "output_type": "execute_result",
          "data": {
            "text/plain": [
              "0.017977304859418508"
            ]
          },
          "metadata": {},
          "execution_count": 38
        }
      ]
    },
    {
      "cell_type": "code",
      "metadata": {
        "colab": {
          "base_uri": "https://localhost:8080/"
        },
        "id": "L5PLSwLXVvBH",
        "outputId": "276ecf04-db05-4413-9ac7-af5fe3d2c761"
      },
      "source": [
        "len(X_train[\"change_BTC\"])"
      ],
      "execution_count": null,
      "outputs": [
        {
          "output_type": "execute_result",
          "data": {
            "text/plain": [
              "233"
            ]
          },
          "metadata": {},
          "execution_count": 42
        }
      ]
    },
    {
      "cell_type": "code",
      "metadata": {
        "id": "ixaqFFgCG0YQ"
      },
      "source": [
        "# model is a poor predictor, lets predicting a crypto based on the others"
      ],
      "execution_count": null,
      "outputs": []
    },
    {
      "cell_type": "code",
      "metadata": {
        "id": "0gLq-j7QG-Na"
      },
      "source": [
        "X = RegMerged[[\"change_DOGE\",\"change_ETH\",\"change_SP5\"]]\n",
        "Y = RegMerged[[\"change_BTC\"]]\n",
        "\n",
        "X_train, X_test, Y_train, Y_test = train_test_split(X,Y, test_size = 0.2)"
      ],
      "execution_count": null,
      "outputs": []
    },
    {
      "cell_type": "code",
      "metadata": {
        "colab": {
          "base_uri": "https://localhost:8080/"
        },
        "id": "GoBDWUsVHTa1",
        "outputId": "42049f63-6af3-4fc8-f00c-e03cf6679e10"
      },
      "source": [
        "reg = linear_model.LinearRegression()\n",
        "reg.fit(pd.DataFrame(X_train),pd.DataFrame(Y_train))\n",
        "print(reg.coef_)\n",
        "print(reg.intercept_)"
      ],
      "execution_count": null,
      "outputs": [
        {
          "output_type": "stream",
          "name": "stdout",
          "text": [
            "[[0.02615726 0.29068342 0.3858231 ]]\n",
            "[0.7649734]\n"
          ]
        }
      ]
    },
    {
      "cell_type": "code",
      "metadata": {
        "colab": {
          "base_uri": "https://localhost:8080/",
          "height": 282
        },
        "id": "D-esBFFXHcgg",
        "outputId": "d28e0af0-3b3c-4cbc-f4aa-dafad7e8a8a4"
      },
      "source": [
        "pred = reg.predict(X_test)\n",
        "err = pd.Series(Y_test[\"change_BTC\"]) - [p[0]for p in pred]\n",
        "err.hist()"
      ],
      "execution_count": null,
      "outputs": [
        {
          "output_type": "execute_result",
          "data": {
            "text/plain": [
              "<matplotlib.axes._subplots.AxesSubplot at 0x7f9ec764f910>"
            ]
          },
          "metadata": {},
          "execution_count": 45
        },
        {
          "output_type": "display_data",
          "data": {
            "image/png": "[encoded data removed]",
            "text/plain": [
              "<Figure size 432x288 with 1 Axes>"
            ]
          },
          "metadata": {
            "needs_background": "light"
          }
        }
      ]
    },
    {
      "cell_type": "code",
      "metadata": {
        "colab": {
          "base_uri": "https://localhost:8080/"
        },
        "id": "HANZnzCsHrVr",
        "outputId": "7679039b-efb4-4bd4-e304-4cc6555aa3d3"
      },
      "source": [
        "reg.score(X_test,Y_test)"
      ],
      "execution_count": null,
      "outputs": [
        {
          "output_type": "execute_result",
          "data": {
            "text/plain": [
              "0.19010090593854656"
            ]
          },
          "metadata": {},
          "execution_count": 46
        }
      ]
    },
    {
      "cell_type": "code",
      "metadata": {
        "id": "CNIp25hnH5MI"
      },
      "source": [
        "# Still scores really poorly, lets go again but with no SP5\n",
        "X = RegMerged[[\"change_DOGE\",\"change_ETH\"]]\n",
        "Y = RegMerged[[\"change_BTC\"]]\n",
        "\n",
        "X_train, X_test, Y_train, Y_test = train_test_split(X,Y, test_size = 0.2)"
      ],
      "execution_count": null,
      "outputs": []
    },
    {
      "cell_type": "code",
      "metadata": {
        "colab": {
          "base_uri": "https://localhost:8080/"
        },
        "id": "q7_aBSPjICL-",
        "outputId": "22af1d0a-1854-436a-e9b2-5e03b8d02b3c"
      },
      "source": [
        "reg = linear_model.LinearRegression()\n",
        "reg.fit(pd.DataFrame(X_train),pd.DataFrame(Y_train))\n",
        "print(reg.coef_)\n",
        "print(reg.intercept_)"
      ],
      "execution_count": null,
      "outputs": [
        {
          "output_type": "stream",
          "name": "stdout",
          "text": [
            "[[0.02694926 0.28004062]]\n",
            "[1.03180678]\n"
          ]
        }
      ]
    },
    {
      "cell_type": "code",
      "metadata": {
        "colab": {
          "base_uri": "https://localhost:8080/",
          "height": 284
        },
        "id": "xcz7f8BQIFHU",
        "outputId": "aa067317-27a0-4ee6-f779-ef9beffa4b68"
      },
      "source": [
        "pred = reg.predict(X_test)\n",
        "err = pd.Series(Y_test[\"change_BTC\"]) - [p[0]for p in pred]\n",
        "err.hist(bins = 12)"
      ],
      "execution_count": null,
      "outputs": [
        {
          "output_type": "execute_result",
          "data": {
            "text/plain": [
              "<matplotlib.axes._subplots.AxesSubplot at 0x7f28eb294890>"
            ]
          },
          "metadata": {},
          "execution_count": 41
        },
        {
          "output_type": "display_data",
          "data": {
            "image/png": "[encoded data removed]",
            "text/plain": [
              "<Figure size 432x288 with 1 Axes>"
            ]
          },
          "metadata": {
            "needs_background": "light"
          }
        }
      ]
    },
    {
      "cell_type": "code",
      "metadata": {
        "colab": {
          "base_uri": "https://localhost:8080/"
        },
        "id": "mvQ4Ss2yIKWW",
        "outputId": "01dd333d-a27a-4f10-e78c-24b69841cfd5"
      },
      "source": [
        "reg.score(X_test,Y_test)"
      ],
      "execution_count": null,
      "outputs": [
        {
          "output_type": "execute_result",
          "data": {
            "text/plain": [
              "0.3657034360720922"
            ]
          },
          "metadata": {},
          "execution_count": 42
        }
      ]
    },
    {
      "cell_type": "code",
      "metadata": {
        "colab": {
          "base_uri": "https://localhost:8080/"
        },
        "id": "OrlzPL2HIVGY",
        "outputId": "2f2d4303-64ac-4c3b-a937-5cd70b13c4b8"
      },
      "source": [
        "#We do better with only cryptos, lets try to bring some more in\n",
        "LTC = pdr.get_data_yahoo(\"LTC-USD\", start=\"2014-01-01\", end=\"2021-10-31\")\n",
        "XLM = pdr.get_data_yahoo(\"XLM-USD\", start=\"2014-01-01\", end=\"2021-10-31\")\n",
        "BNB = pdr.get_data_yahoo(\"BNB-USD\", start=\"2014-01-01\", end=\"2021-10-31\")\n",
        "LTC.reset_index(level=0, inplace=True)\n",
        "XLM.reset_index(level=0, inplace=True)\n",
        "BNB.reset_index(level=0, inplace=True)"
      ],
      "execution_count": null,
      "outputs": [
        {
          "output_type": "stream",
          "name": "stdout",
          "text": [
            "[*********************100%***********************]  1 of 1 completed\n",
            "[*********************100%***********************]  1 of 1 completed\n",
            "[*********************100%***********************]  1 of 1 completed\n"
          ]
        }
      ]
    },
    {
      "cell_type": "code",
      "metadata": {
        "colab": {
          "base_uri": "https://localhost:8080/"
        },
        "id": "ikdP24e_MMIu",
        "outputId": "4200c772-318c-4654-971f-2df0de8bbbb3"
      },
      "source": [
        "LTCWeekly = WeeklyOutputs(LTC)\n",
        "XLMWeekly = WeeklyOutputs(XLM)\n",
        "BNBWeekly = WeeklyOutputs(BNB)"
      ],
      "execution_count": null,
      "outputs": [
        {
          "output_type": "stream",
          "name": "stderr",
          "text": [
            "/usr/local/lib/python3.7/dist-packages/ipykernel_launcher.py:4: SettingWithCopyWarning: \n",
            "A value is trying to be set on a copy of a slice from a DataFrame.\n",
            "Try using .loc[row_indexer,col_indexer] = value instead\n",
            "\n",
            "See the caveats in the documentation: https://pandas.pydata.org/pandas-docs/stable/user_guide/indexing.html#returning-a-view-versus-a-copy\n",
            "  after removing the cwd from sys.path.\n",
            "/usr/local/lib/python3.7/dist-packages/pandas/core/frame.py:4174: SettingWithCopyWarning: \n",
            "A value is trying to be set on a copy of a slice from a DataFrame\n",
            "\n",
            "See the caveats in the documentation: https://pandas.pydata.org/pandas-docs/stable/user_guide/indexing.html#returning-a-view-versus-a-copy\n",
            "  errors=errors,\n"
          ]
        }
      ]
    },
    {
      "cell_type": "code",
      "metadata": {
        "id": "8NyZUFa8OCzB"
      },
      "source": [
        "LTCWeeklyReg = LTCWeekly[[\"Date\",\"change\"]]\n",
        "XLMWeeklyReg = XLMWeekly[[\"Date\",\"change\"]]\n",
        "BNBWeeklyReg = BNBWeekly[[\"Date\",\"change\"]]\n",
        "\n",
        "LTCWeeklyReg.columns = [\"Date\", \"change_LTC\"]\n",
        "XLMWeeklyReg.columns = [\"Date\", \"change_XLM\"]\n",
        "BNBWeeklyReg.columns = [\"Date\", \"change_BNB\"]"
      ],
      "execution_count": null,
      "outputs": []
    },
    {
      "cell_type": "code",
      "metadata": {
        "id": "wtVTUGCfOv1x"
      },
      "source": [
        "RegMerged = RegMerged.merge(LTCWeeklyReg, how = \"inner\", on = \"Date\")\n",
        "RegMerged = RegMerged.merge(XLMWeeklyReg, how = \"inner\", on = \"Date\")\n",
        "RegMerged = RegMerged.merge(BNBWeeklyReg, how = \"inner\", on = \"Date\")\n",
        "RegMerged.dropna(inplace = True)"
      ],
      "execution_count": null,
      "outputs": []
    },
    {
      "cell_type": "code",
      "metadata": {
        "colab": {
          "base_uri": "https://localhost:8080/",
          "height": 269
        },
        "id": "ZsP-TVXcPKST",
        "outputId": "edbeea9f-c8c3-44c9-ec08-c069cf3b0558"
      },
      "source": [
        "RegMerged.corr()"
      ],
      "execution_count": null,
      "outputs": [
        {
          "output_type": "execute_result",
          "data": {
            "text/html": [
              "<div>\n",
              "<style scoped>\n",
              "    .dataframe tbody tr th:only-of-type {\n",
              "        vertical-align: middle;\n",
              "    }\n",
              "\n",
              "    .dataframe tbody tr th {\n",
              "        vertical-align: top;\n",
              "    }\n",
              "\n",
              "    .dataframe thead th {\n",
              "        text-align: right;\n",
              "    }\n",
              "</style>\n",
              "<table border=\"1\" class=\"dataframe\">\n",
              "  <thead>\n",
              "    <tr style=\"text-align: right;\">\n",
              "      <th></th>\n",
              "      <th>change_SP5</th>\n",
              "      <th>change_BTC</th>\n",
              "      <th>change_DOGE</th>\n",
              "      <th>change_ETH</th>\n",
              "      <th>change_LTC</th>\n",
              "      <th>change_XLM</th>\n",
              "      <th>change_BNB</th>\n",
              "    </tr>\n",
              "  </thead>\n",
              "  <tbody>\n",
              "    <tr>\n",
              "      <th>change_SP5</th>\n",
              "      <td>1.000000</td>\n",
              "      <td>0.141288</td>\n",
              "      <td>0.051327</td>\n",
              "      <td>0.171294</td>\n",
              "      <td>0.179173</td>\n",
              "      <td>0.160928</td>\n",
              "      <td>0.018132</td>\n",
              "    </tr>\n",
              "    <tr>\n",
              "      <th>change_BTC</th>\n",
              "      <td>0.141288</td>\n",
              "      <td>1.000000</td>\n",
              "      <td>0.224524</td>\n",
              "      <td>0.734576</td>\n",
              "      <td>0.757891</td>\n",
              "      <td>0.583561</td>\n",
              "      <td>0.314963</td>\n",
              "    </tr>\n",
              "    <tr>\n",
              "      <th>change_DOGE</th>\n",
              "      <td>0.051327</td>\n",
              "      <td>0.224524</td>\n",
              "      <td>1.000000</td>\n",
              "      <td>0.311273</td>\n",
              "      <td>0.292005</td>\n",
              "      <td>0.257704</td>\n",
              "      <td>0.063617</td>\n",
              "    </tr>\n",
              "    <tr>\n",
              "      <th>change_ETH</th>\n",
              "      <td>0.171294</td>\n",
              "      <td>0.734576</td>\n",
              "      <td>0.311273</td>\n",
              "      <td>1.000000</td>\n",
              "      <td>0.739119</td>\n",
              "      <td>0.646297</td>\n",
              "      <td>0.256351</td>\n",
              "    </tr>\n",
              "    <tr>\n",
              "      <th>change_LTC</th>\n",
              "      <td>0.179173</td>\n",
              "      <td>0.757891</td>\n",
              "      <td>0.292005</td>\n",
              "      <td>0.739119</td>\n",
              "      <td>1.000000</td>\n",
              "      <td>0.630974</td>\n",
              "      <td>0.171976</td>\n",
              "    </tr>\n",
              "    <tr>\n",
              "      <th>change_XLM</th>\n",
              "      <td>0.160928</td>\n",
              "      <td>0.583561</td>\n",
              "      <td>0.257704</td>\n",
              "      <td>0.646297</td>\n",
              "      <td>0.630974</td>\n",
              "      <td>1.000000</td>\n",
              "      <td>0.091042</td>\n",
              "    </tr>\n",
              "    <tr>\n",
              "      <th>change_BNB</th>\n",
              "      <td>0.018132</td>\n",
              "      <td>0.314963</td>\n",
              "      <td>0.063617</td>\n",
              "      <td>0.256351</td>\n",
              "      <td>0.171976</td>\n",
              "      <td>0.091042</td>\n",
              "      <td>1.000000</td>\n",
              "    </tr>\n",
              "  </tbody>\n",
              "</table>\n",
              "</div>"
            ],
            "text/plain": [
              "             change_SP5  change_BTC  ...  change_XLM  change_BNB\n",
              "change_SP5     1.000000    0.141288  ...    0.160928    0.018132\n",
              "change_BTC     0.141288    1.000000  ...    0.583561    0.314963\n",
              "change_DOGE    0.051327    0.224524  ...    0.257704    0.063617\n",
              "change_ETH     0.171294    0.734576  ...    0.646297    0.256351\n",
              "change_LTC     0.179173    0.757891  ...    0.630974    0.171976\n",
              "change_XLM     0.160928    0.583561  ...    1.000000    0.091042\n",
              "change_BNB     0.018132    0.314963  ...    0.091042    1.000000\n",
              "\n",
              "[7 rows x 7 columns]"
            ]
          },
          "metadata": {},
          "execution_count": 51
        }
      ]
    },
    {
      "cell_type": "code",
      "metadata": {
        "id": "RaRjDURfPCOF"
      },
      "source": [
        "X = RegMerged[[\"change_DOGE\",\"change_ETH\",\"change_LTC\",\"change_XLM\", \"change_BNB\"]]\n",
        "Y = RegMerged[[\"change_BTC\"]]\n",
        "\n",
        "X_train, X_test, Y_train, Y_test = train_test_split(X,Y, test_size = 0.2)"
      ],
      "execution_count": null,
      "outputs": []
    },
    {
      "cell_type": "code",
      "metadata": {
        "colab": {
          "base_uri": "https://localhost:8080/"
        },
        "id": "y6wifII8PbZA",
        "outputId": "2ba658d6-2bde-44e3-c8be-5934368fda3b"
      },
      "source": [
        "reg = linear_model.LinearRegression()\n",
        "reg.fit(pd.DataFrame(X_train),pd.DataFrame(Y_train))\n",
        "print(reg.coef_)\n",
        "print(reg.intercept_)"
      ],
      "execution_count": null,
      "outputs": [
        {
          "output_type": "stream",
          "name": "stdout",
          "text": [
            "[[-0.0171627   0.2397924   0.36079771  0.0204908   0.02891748]]\n",
            "[1.11596106]\n"
          ]
        }
      ]
    },
    {
      "cell_type": "code",
      "metadata": {
        "colab": {
          "base_uri": "https://localhost:8080/",
          "height": 282
        },
        "id": "v9t8-pIePfYT",
        "outputId": "933d8dd9-0a0a-444c-de0b-a510d069616b"
      },
      "source": [
        "pred = reg.predict(X_test)\n",
        "err = pd.Series(Y_test[\"change_BTC\"]) - [p[0]for p in pred]\n",
        "err.hist(bins = 8)"
      ],
      "execution_count": null,
      "outputs": [
        {
          "output_type": "execute_result",
          "data": {
            "text/plain": [
              "<matplotlib.axes._subplots.AxesSubplot at 0x7f9ec665a950>"
            ]
          },
          "metadata": {},
          "execution_count": 107
        },
        {
          "output_type": "display_data",
          "data": {
            "image/png": "[encoded data removed]",
            "text/plain": [
              "<Figure size 432x288 with 1 Axes>"
            ]
          },
          "metadata": {
            "needs_background": "light"
          }
        }
      ]
    },
    {
      "cell_type": "code",
      "metadata": {
        "colab": {
          "base_uri": "https://localhost:8080/",
          "height": 421
        },
        "id": "U91e36r_jxpU",
        "outputId": "06568d2d-3d5c-4166-b2aa-a1f6289a1c7e"
      },
      "source": [
        "import matplotlib.pyplot as plt\n",
        "\n",
        "plt.figure(figsize = (8,6))\n",
        "plt.hist(err, label = \"Errors\", bins = 7)\n",
        "\n",
        "\n",
        "plt.xlabel(\"Diff BTC% change\")\n",
        "plt.ylabel(\"Frequency\")\n",
        "plt.title(\"Errors Hist\")"
      ],
      "execution_count": null,
      "outputs": [
        {
          "output_type": "execute_result",
          "data": {
            "text/plain": [
              "Text(0.5, 1.0, 'Errors Hist')"
            ]
          },
          "metadata": {},
          "execution_count": 112
        },
        {
          "output_type": "display_data",
          "data": {
            "image/png": "[encoded data removed]",
            "text/plain": [
              "<Figure size 576x432 with 1 Axes>"
            ]
          },
          "metadata": {
            "needs_background": "light"
          }
        }
      ]
    },
    {
      "cell_type": "code",
      "metadata": {
        "colab": {
          "base_uri": "https://localhost:8080/"
        },
        "id": "r8x9cglyPnBk",
        "outputId": "394aa51b-dc82-48ee-dea6-994e407725c9"
      },
      "source": [
        "reg.score(X_test,Y_test)"
      ],
      "execution_count": null,
      "outputs": [
        {
          "output_type": "execute_result",
          "data": {
            "text/plain": [
              "0.6841257236291196"
            ]
          },
          "metadata": {},
          "execution_count": 108
        }
      ]
    },
    {
      "cell_type": "markdown",
      "metadata": {
        "id": "nNMqs5nDP2bB"
      },
      "source": [
        "This Model works pretty well\n",
        "\n",
        "DV -> change_BTC\n",
        "\n",
        "IVs -> [\"change_DOGE\",\"change_ETH\",\"change_LTC\",\"change_XLM\", \"change_BNB\"]\n",
        "\n",
        "coef, int = [0.00749273 0.20777219 0.34508473 0.03353905 0.03029037]  [0.61363843]\n",
        "\n",
        "R2 = 0.7091436168580117"
      ]
    },
    {
      "cell_type": "code",
      "metadata": {
        "colab": {
          "base_uri": "https://localhost:8080/"
        },
        "id": "AvvPIFGXmpGz",
        "outputId": "60bf8dcc-f060-41d5-db98-4bdd367e7659"
      },
      "source": [
        "len(Y_train[\"change_BTC\"])"
      ],
      "execution_count": null,
      "outputs": [
        {
          "output_type": "execute_result",
          "data": {
            "text/plain": [
              "160"
            ]
          },
          "metadata": {},
          "execution_count": 114
        }
      ]
    },
    {
      "cell_type": "code",
      "metadata": {
        "colab": {
          "base_uri": "https://localhost:8080/",
          "height": 424
        },
        "id": "mpEwjbmzRQ6b",
        "outputId": "3ef6d7b6-2dc7-430a-c997-bf1d10dc592c"
      },
      "source": [
        "RegMerged"
      ],
      "execution_count": null,
      "outputs": [
        {
          "output_type": "execute_result",
          "data": {
            "text/html": [
              "<div>\n",
              "<style scoped>\n",
              "    .dataframe tbody tr th:only-of-type {\n",
              "        vertical-align: middle;\n",
              "    }\n",
              "\n",
              "    .dataframe tbody tr th {\n",
              "        vertical-align: top;\n",
              "    }\n",
              "\n",
              "    .dataframe thead th {\n",
              "        text-align: right;\n",
              "    }\n",
              "</style>\n",
              "<table border=\"1\" class=\"dataframe\">\n",
              "  <thead>\n",
              "    <tr style=\"text-align: right;\">\n",
              "      <th></th>\n",
              "      <th>Date</th>\n",
              "      <th>change_SP5</th>\n",
              "      <th>change_BTC</th>\n",
              "      <th>change_DOGE</th>\n",
              "      <th>change_ETH</th>\n",
              "      <th>change_LTC</th>\n",
              "      <th>change_XLM</th>\n",
              "      <th>change_BNB</th>\n",
              "    </tr>\n",
              "  </thead>\n",
              "  <tbody>\n",
              "    <tr>\n",
              "      <th>1</th>\n",
              "      <td>2017-08-07</td>\n",
              "      <td>0.429497</td>\n",
              "      <td>17.514445</td>\n",
              "      <td>13.445868</td>\n",
              "      <td>32.034468</td>\n",
              "      <td>6.444971</td>\n",
              "      <td>37.899975</td>\n",
              "      <td>42.779855</td>\n",
              "    </tr>\n",
              "    <tr>\n",
              "      <th>2</th>\n",
              "      <td>2017-08-14</td>\n",
              "      <td>-0.607431</td>\n",
              "      <td>28.002568</td>\n",
              "      <td>-9.594665</td>\n",
              "      <td>11.485620</td>\n",
              "      <td>0.019650</td>\n",
              "      <td>-20.603742</td>\n",
              "      <td>770.398017</td>\n",
              "    </tr>\n",
              "    <tr>\n",
              "      <th>3</th>\n",
              "      <td>2017-08-21</td>\n",
              "      <td>-1.519562</td>\n",
              "      <td>-7.476998</td>\n",
              "      <td>-2.837686</td>\n",
              "      <td>7.162357</td>\n",
              "      <td>4.653473</td>\n",
              "      <td>12.092840</td>\n",
              "      <td>108.488144</td>\n",
              "    </tr>\n",
              "    <tr>\n",
              "      <th>4</th>\n",
              "      <td>2017-08-28</td>\n",
              "      <td>0.653520</td>\n",
              "      <td>9.518863</td>\n",
              "      <td>6.600470</td>\n",
              "      <td>8.133314</td>\n",
              "      <td>30.080729</td>\n",
              "      <td>3.908264</td>\n",
              "      <td>-24.368124</td>\n",
              "    </tr>\n",
              "    <tr>\n",
              "      <th>5</th>\n",
              "      <td>2017-09-11</td>\n",
              "      <td>1.794837</td>\n",
              "      <td>-1.771354</td>\n",
              "      <td>-18.085107</td>\n",
              "      <td>-0.216477</td>\n",
              "      <td>1.279179</td>\n",
              "      <td>-3.585822</td>\n",
              "      <td>-2.263781</td>\n",
              "    </tr>\n",
              "    <tr>\n",
              "      <th>...</th>\n",
              "      <td>...</td>\n",
              "      <td>...</td>\n",
              "      <td>...</td>\n",
              "      <td>...</td>\n",
              "      <td>...</td>\n",
              "      <td>...</td>\n",
              "      <td>...</td>\n",
              "      <td>...</td>\n",
              "    </tr>\n",
              "    <tr>\n",
              "      <th>196</th>\n",
              "      <td>2021-09-27</td>\n",
              "      <td>1.959274</td>\n",
              "      <td>-1.419273</td>\n",
              "      <td>-3.288249</td>\n",
              "      <td>-0.839964</td>\n",
              "      <td>-7.103512</td>\n",
              "      <td>-5.372901</td>\n",
              "      <td>-7.120750</td>\n",
              "    </tr>\n",
              "    <tr>\n",
              "      <th>197</th>\n",
              "      <td>2021-10-04</td>\n",
              "      <td>-3.210587</td>\n",
              "      <td>16.282829</td>\n",
              "      <td>20.268450</td>\n",
              "      <td>15.198674</td>\n",
              "      <td>15.267032</td>\n",
              "      <td>16.484350</td>\n",
              "      <td>26.638910</td>\n",
              "    </tr>\n",
              "    <tr>\n",
              "      <th>198</th>\n",
              "      <td>2021-10-11</td>\n",
              "      <td>1.412174</td>\n",
              "      <td>17.046206</td>\n",
              "      <td>-3.881638</td>\n",
              "      <td>4.889365</td>\n",
              "      <td>7.094365</td>\n",
              "      <td>11.270928</td>\n",
              "      <td>-2.887311</td>\n",
              "    </tr>\n",
              "    <tr>\n",
              "      <th>199</th>\n",
              "      <td>2021-10-18</td>\n",
              "      <td>2.872382</td>\n",
              "      <td>7.899984</td>\n",
              "      <td>6.815465</td>\n",
              "      <td>5.737262</td>\n",
              "      <td>3.416835</td>\n",
              "      <td>10.239555</td>\n",
              "      <td>17.330691</td>\n",
              "    </tr>\n",
              "    <tr>\n",
              "      <th>200</th>\n",
              "      <td>2021-10-25</td>\n",
              "      <td>1.783589</td>\n",
              "      <td>1.634387</td>\n",
              "      <td>7.047043</td>\n",
              "      <td>12.513916</td>\n",
              "      <td>5.250584</td>\n",
              "      <td>1.834210</td>\n",
              "      <td>-0.096049</td>\n",
              "    </tr>\n",
              "  </tbody>\n",
              "</table>\n",
              "<p>200 rows × 8 columns</p>\n",
              "</div>"
            ],
            "text/plain": [
              "          Date  change_SP5  change_BTC  ...  change_LTC  change_XLM  change_BNB\n",
              "1   2017-08-07    0.429497   17.514445  ...    6.444971   37.899975   42.779855\n",
              "2   2017-08-14   -0.607431   28.002568  ...    0.019650  -20.603742  770.398017\n",
              "3   2017-08-21   -1.519562   -7.476998  ...    4.653473   12.092840  108.488144\n",
              "4   2017-08-28    0.653520    9.518863  ...   30.080729    3.908264  -24.368124\n",
              "5   2017-09-11    1.794837   -1.771354  ...    1.279179   -3.585822   -2.263781\n",
              "..         ...         ...         ...  ...         ...         ...         ...\n",
              "196 2021-09-27    1.959274   -1.419273  ...   -7.103512   -5.372901   -7.120750\n",
              "197 2021-10-04   -3.210587   16.282829  ...   15.267032   16.484350   26.638910\n",
              "198 2021-10-11    1.412174   17.046206  ...    7.094365   11.270928   -2.887311\n",
              "199 2021-10-18    2.872382    7.899984  ...    3.416835   10.239555   17.330691\n",
              "200 2021-10-25    1.783589    1.634387  ...    5.250584    1.834210   -0.096049\n",
              "\n",
              "[200 rows x 8 columns]"
            ]
          },
          "metadata": {},
          "execution_count": 52
        }
      ]
    },
    {
      "cell_type": "code",
      "metadata": {
        "colab": {
          "base_uri": "https://localhost:8080/"
        },
        "id": "mIXMF6fWRY-d",
        "outputId": "bbbcada8-b703-42c3-8920-223b135df67e"
      },
      "source": [
        "RegMerged.dtypes"
      ],
      "execution_count": null,
      "outputs": [
        {
          "output_type": "execute_result",
          "data": {
            "text/plain": [
              "Date           datetime64[ns]\n",
              "change_SP5            float64\n",
              "change_BTC            float64\n",
              "change_DOGE           float64\n",
              "change_ETH            float64\n",
              "change_LTC            float64\n",
              "change_XLM            float64\n",
              "change_BNB            float64\n",
              "dtype: object"
            ]
          },
          "metadata": {},
          "execution_count": 53
        }
      ]
    },
    {
      "cell_type": "code",
      "metadata": {
        "id": "BasX_ty9SkL-"
      },
      "source": [
        "from datetime import datetime"
      ],
      "execution_count": null,
      "outputs": []
    },
    {
      "cell_type": "code",
      "metadata": {
        "id": "c92eCw5uQSdp"
      },
      "source": [
        "# Are the coorelations relationships more relevant recently\n",
        "dateStandard = datetime.strptime(\"2020-01-01\", \"%Y-%d-%m\")\n",
        "RegMergedRecent = RegMerged.loc[RegMerged[\"Date\"] >= dateStandard]"
      ],
      "execution_count": null,
      "outputs": []
    },
    {
      "cell_type": "code",
      "metadata": {
        "colab": {
          "base_uri": "https://localhost:8080/",
          "height": 269
        },
        "id": "hCkmbCOtSws9",
        "outputId": "336207f2-98ef-4760-d48f-69eb58fc1e50"
      },
      "source": [
        "RegMergedRecent.corr()"
      ],
      "execution_count": null,
      "outputs": [
        {
          "output_type": "execute_result",
          "data": {
            "text/html": [
              "<div>\n",
              "<style scoped>\n",
              "    .dataframe tbody tr th:only-of-type {\n",
              "        vertical-align: middle;\n",
              "    }\n",
              "\n",
              "    .dataframe tbody tr th {\n",
              "        vertical-align: top;\n",
              "    }\n",
              "\n",
              "    .dataframe thead th {\n",
              "        text-align: right;\n",
              "    }\n",
              "</style>\n",
              "<table border=\"1\" class=\"dataframe\">\n",
              "  <thead>\n",
              "    <tr style=\"text-align: right;\">\n",
              "      <th></th>\n",
              "      <th>change_SP5</th>\n",
              "      <th>change_BTC</th>\n",
              "      <th>change_DOGE</th>\n",
              "      <th>change_ETH</th>\n",
              "      <th>change_LTC</th>\n",
              "      <th>change_XLM</th>\n",
              "      <th>change_BNB</th>\n",
              "    </tr>\n",
              "  </thead>\n",
              "  <tbody>\n",
              "    <tr>\n",
              "      <th>change_SP5</th>\n",
              "      <td>1.000000</td>\n",
              "      <td>0.259282</td>\n",
              "      <td>0.024575</td>\n",
              "      <td>0.262580</td>\n",
              "      <td>0.260628</td>\n",
              "      <td>0.229114</td>\n",
              "      <td>0.167659</td>\n",
              "    </tr>\n",
              "    <tr>\n",
              "      <th>change_BTC</th>\n",
              "      <td>0.259282</td>\n",
              "      <td>1.000000</td>\n",
              "      <td>0.134892</td>\n",
              "      <td>0.766408</td>\n",
              "      <td>0.813360</td>\n",
              "      <td>0.543109</td>\n",
              "      <td>0.581701</td>\n",
              "    </tr>\n",
              "    <tr>\n",
              "      <th>change_DOGE</th>\n",
              "      <td>0.024575</td>\n",
              "      <td>0.134892</td>\n",
              "      <td>1.000000</td>\n",
              "      <td>0.200616</td>\n",
              "      <td>0.228859</td>\n",
              "      <td>0.131416</td>\n",
              "      <td>0.130000</td>\n",
              "    </tr>\n",
              "    <tr>\n",
              "      <th>change_ETH</th>\n",
              "      <td>0.262580</td>\n",
              "      <td>0.766408</td>\n",
              "      <td>0.200616</td>\n",
              "      <td>1.000000</td>\n",
              "      <td>0.840793</td>\n",
              "      <td>0.589913</td>\n",
              "      <td>0.520285</td>\n",
              "    </tr>\n",
              "    <tr>\n",
              "      <th>change_LTC</th>\n",
              "      <td>0.260628</td>\n",
              "      <td>0.813360</td>\n",
              "      <td>0.228859</td>\n",
              "      <td>0.840793</td>\n",
              "      <td>1.000000</td>\n",
              "      <td>0.532705</td>\n",
              "      <td>0.539631</td>\n",
              "    </tr>\n",
              "    <tr>\n",
              "      <th>change_XLM</th>\n",
              "      <td>0.229114</td>\n",
              "      <td>0.543109</td>\n",
              "      <td>0.131416</td>\n",
              "      <td>0.589913</td>\n",
              "      <td>0.532705</td>\n",
              "      <td>1.000000</td>\n",
              "      <td>0.410158</td>\n",
              "    </tr>\n",
              "    <tr>\n",
              "      <th>change_BNB</th>\n",
              "      <td>0.167659</td>\n",
              "      <td>0.581701</td>\n",
              "      <td>0.130000</td>\n",
              "      <td>0.520285</td>\n",
              "      <td>0.539631</td>\n",
              "      <td>0.410158</td>\n",
              "      <td>1.000000</td>\n",
              "    </tr>\n",
              "  </tbody>\n",
              "</table>\n",
              "</div>"
            ],
            "text/plain": [
              "             change_SP5  change_BTC  ...  change_XLM  change_BNB\n",
              "change_SP5     1.000000    0.259282  ...    0.229114    0.167659\n",
              "change_BTC     0.259282    1.000000  ...    0.543109    0.581701\n",
              "change_DOGE    0.024575    0.134892  ...    0.131416    0.130000\n",
              "change_ETH     0.262580    0.766408  ...    0.589913    0.520285\n",
              "change_LTC     0.260628    0.813360  ...    0.532705    0.539631\n",
              "change_XLM     0.229114    0.543109  ...    1.000000    0.410158\n",
              "change_BNB     0.167659    0.581701  ...    0.410158    1.000000\n",
              "\n",
              "[7 rows x 7 columns]"
            ]
          },
          "metadata": {},
          "execution_count": 56
        }
      ]
    },
    {
      "cell_type": "code",
      "metadata": {
        "id": "XpsfvCP0S2nW"
      },
      "source": [
        "X = RegMergedRecent[[\"change_DOGE\",\"change_ETH\",\"change_LTC\",\"change_XLM\", \"change_BNB\"]]\n",
        "Y = RegMergedRecent[[\"change_BTC\"]]\n",
        "\n",
        "X_train, X_test, Y_train, Y_test = train_test_split(X,Y, test_size = 0.15)"
      ],
      "execution_count": null,
      "outputs": []
    },
    {
      "cell_type": "code",
      "metadata": {
        "colab": {
          "base_uri": "https://localhost:8080/"
        },
        "id": "TDOWUBmPS-cH",
        "outputId": "43a93e26-7aa1-48d5-aaf8-bf7bfe1ebc77"
      },
      "source": [
        "reg = linear_model.LinearRegression()\n",
        "reg.fit(pd.DataFrame(X_train),pd.DataFrame(Y_train))\n",
        "print(reg.coef_)\n",
        "print(reg.intercept_)"
      ],
      "execution_count": null,
      "outputs": [
        {
          "output_type": "stream",
          "name": "stdout",
          "text": [
            "[[-0.00841973  0.19812303  0.36146325  0.06225008  0.09391825]]\n",
            "[0.79099866]\n"
          ]
        }
      ]
    },
    {
      "cell_type": "code",
      "metadata": {
        "colab": {
          "base_uri": "https://localhost:8080/",
          "height": 284
        },
        "id": "qJdPDt1dTEXh",
        "outputId": "d54a0a8d-8a4e-414f-d506-5d3e69b7742e"
      },
      "source": [
        "pred = reg.predict(X_test)\n",
        "err = pd.Series(Y_test[\"change_BTC\"]) - [p[0]for p in pred]\n",
        "err.hist(bins = 8)"
      ],
      "execution_count": null,
      "outputs": [
        {
          "output_type": "execute_result",
          "data": {
            "text/plain": [
              "<matplotlib.axes._subplots.AxesSubplot at 0x7f28fe3ffad0>"
            ]
          },
          "metadata": {},
          "execution_count": 59
        },
        {
          "output_type": "display_data",
          "data": {
            "image/png": "[encoded data removed]",
            "text/plain": [
              "<Figure size 432x288 with 1 Axes>"
            ]
          },
          "metadata": {
            "needs_background": "light"
          }
        }
      ]
    },
    {
      "cell_type": "code",
      "metadata": {
        "colab": {
          "base_uri": "https://localhost:8080/"
        },
        "id": "haNh0OUnTL1z",
        "outputId": "c7d5994f-3f80-4be2-e150-2fc0d2141ef3"
      },
      "source": [
        "reg.score(X_test,Y_test)"
      ],
      "execution_count": null,
      "outputs": [
        {
          "output_type": "execute_result",
          "data": {
            "text/plain": [
              "0.708372106573206"
            ]
          },
          "metadata": {},
          "execution_count": 60
        }
      ]
    },
    {
      "cell_type": "markdown",
      "metadata": {
        "id": "ncR3BKm2Tz2G"
      },
      "source": [
        "Recency Model (after2020)\n",
        "\n",
        "DV -> change_BTC\n",
        "\n",
        "IVs -> [\"change_DOGE\",\"change_ETH\",\"change_LTC\",\"change_XLM\", \"change_BNB\"]\n",
        "\n",
        "coef, int -> [-0.01271835  0.13922775  0.4054446   0.08002305  0.06585447] \n",
        "[0.94818466]\n",
        "\n",
        "R2 -> 0.75"
      ]
    },
    {
      "cell_type": "code",
      "metadata": {
        "id": "XCA4x3QKTusb"
      },
      "source": [
        "dateStandard = datetime.strptime(\"2019-01-01\", \"%Y-%d-%m\")\n",
        "RegMergedRecent2 = RegMerged.loc[RegMerged[\"Date\"] >= dateStandard]"
      ],
      "execution_count": null,
      "outputs": []
    },
    {
      "cell_type": "code",
      "metadata": {
        "colab": {
          "base_uri": "https://localhost:8080/",
          "height": 269
        },
        "id": "UUC8_fCS_wHO",
        "outputId": "2b5d7bd2-c3b4-47cc-f6b5-5ba408bb2989"
      },
      "source": [
        "RegMergedRecent2.corr()"
      ],
      "execution_count": null,
      "outputs": [
        {
          "output_type": "execute_result",
          "data": {
            "text/html": [
              "<div>\n",
              "<style scoped>\n",
              "    .dataframe tbody tr th:only-of-type {\n",
              "        vertical-align: middle;\n",
              "    }\n",
              "\n",
              "    .dataframe tbody tr th {\n",
              "        vertical-align: top;\n",
              "    }\n",
              "\n",
              "    .dataframe thead th {\n",
              "        text-align: right;\n",
              "    }\n",
              "</style>\n",
              "<table border=\"1\" class=\"dataframe\">\n",
              "  <thead>\n",
              "    <tr style=\"text-align: right;\">\n",
              "      <th></th>\n",
              "      <th>change_SP5</th>\n",
              "      <th>change_BTC</th>\n",
              "      <th>change_DOGE</th>\n",
              "      <th>change_ETH</th>\n",
              "      <th>change_LTC</th>\n",
              "      <th>change_XLM</th>\n",
              "      <th>change_BNB</th>\n",
              "    </tr>\n",
              "  </thead>\n",
              "  <tbody>\n",
              "    <tr>\n",
              "      <th>change_SP5</th>\n",
              "      <td>1.000000</td>\n",
              "      <td>0.135857</td>\n",
              "      <td>0.015209</td>\n",
              "      <td>0.185460</td>\n",
              "      <td>0.194993</td>\n",
              "      <td>0.180767</td>\n",
              "      <td>0.136077</td>\n",
              "    </tr>\n",
              "    <tr>\n",
              "      <th>change_BTC</th>\n",
              "      <td>0.135857</td>\n",
              "      <td>1.000000</td>\n",
              "      <td>0.148798</td>\n",
              "      <td>0.759563</td>\n",
              "      <td>0.764548</td>\n",
              "      <td>0.506359</td>\n",
              "      <td>0.535908</td>\n",
              "    </tr>\n",
              "    <tr>\n",
              "      <th>change_DOGE</th>\n",
              "      <td>0.015209</td>\n",
              "      <td>0.148798</td>\n",
              "      <td>1.000000</td>\n",
              "      <td>0.220100</td>\n",
              "      <td>0.216390</td>\n",
              "      <td>0.156735</td>\n",
              "      <td>0.139150</td>\n",
              "    </tr>\n",
              "    <tr>\n",
              "      <th>change_ETH</th>\n",
              "      <td>0.185460</td>\n",
              "      <td>0.759563</td>\n",
              "      <td>0.220100</td>\n",
              "      <td>1.000000</td>\n",
              "      <td>0.812909</td>\n",
              "      <td>0.625000</td>\n",
              "      <td>0.526274</td>\n",
              "    </tr>\n",
              "    <tr>\n",
              "      <th>change_LTC</th>\n",
              "      <td>0.194993</td>\n",
              "      <td>0.764548</td>\n",
              "      <td>0.216390</td>\n",
              "      <td>0.812909</td>\n",
              "      <td>1.000000</td>\n",
              "      <td>0.536091</td>\n",
              "      <td>0.525301</td>\n",
              "    </tr>\n",
              "    <tr>\n",
              "      <th>change_XLM</th>\n",
              "      <td>0.180767</td>\n",
              "      <td>0.506359</td>\n",
              "      <td>0.156735</td>\n",
              "      <td>0.625000</td>\n",
              "      <td>0.536091</td>\n",
              "      <td>1.000000</td>\n",
              "      <td>0.428943</td>\n",
              "    </tr>\n",
              "    <tr>\n",
              "      <th>change_BNB</th>\n",
              "      <td>0.136077</td>\n",
              "      <td>0.535908</td>\n",
              "      <td>0.139150</td>\n",
              "      <td>0.526274</td>\n",
              "      <td>0.525301</td>\n",
              "      <td>0.428943</td>\n",
              "      <td>1.000000</td>\n",
              "    </tr>\n",
              "  </tbody>\n",
              "</table>\n",
              "</div>"
            ],
            "text/plain": [
              "             change_SP5  change_BTC  ...  change_XLM  change_BNB\n",
              "change_SP5     1.000000    0.135857  ...    0.180767    0.136077\n",
              "change_BTC     0.135857    1.000000  ...    0.506359    0.535908\n",
              "change_DOGE    0.015209    0.148798  ...    0.156735    0.139150\n",
              "change_ETH     0.185460    0.759563  ...    0.625000    0.526274\n",
              "change_LTC     0.194993    0.764548  ...    0.536091    0.525301\n",
              "change_XLM     0.180767    0.506359  ...    1.000000    0.428943\n",
              "change_BNB     0.136077    0.535908  ...    0.428943    1.000000\n",
              "\n",
              "[7 rows x 7 columns]"
            ]
          },
          "metadata": {},
          "execution_count": 119
        }
      ]
    },
    {
      "cell_type": "code",
      "metadata": {
        "id": "qw0ldlitAHf3"
      },
      "source": [
        "X = RegMergedRecent2[[\"change_ETH\",\"change_LTC\",\"change_XLM\", \"change_BNB\"]]\n",
        "Y = RegMergedRecent2[[\"change_BTC\"]]\n",
        "\n",
        "X_train, X_test, Y_train, Y_test = train_test_split(X,Y, test_size = 0.15)"
      ],
      "execution_count": null,
      "outputs": []
    },
    {
      "cell_type": "code",
      "metadata": {
        "colab": {
          "base_uri": "https://localhost:8080/"
        },
        "id": "hrSr7KDJAO8q",
        "outputId": "8ffaee48-b747-42df-9024-5543aa975e74"
      },
      "source": [
        "reg = linear_model.LinearRegression()\n",
        "reg.fit(pd.DataFrame(X_train),pd.DataFrame(Y_train))\n",
        "print(reg.coef_)\n",
        "print(reg.intercept_)"
      ],
      "execution_count": null,
      "outputs": [
        {
          "output_type": "stream",
          "name": "stdout",
          "text": [
            "[[ 0.31008213  0.33101247 -0.00344091  0.04735637]]\n",
            "[0.97664412]\n"
          ]
        }
      ]
    },
    {
      "cell_type": "code",
      "metadata": {
        "colab": {
          "base_uri": "https://localhost:8080/",
          "height": 282
        },
        "id": "rSZgOittARaf",
        "outputId": "9daa436c-9321-434a-9cc8-8cb44e3425ee"
      },
      "source": [
        "pred = reg.predict(X_test)\n",
        "err = pd.Series(Y_test[\"change_BTC\"]) - [p[0]for p in pred]\n",
        "err.hist(bins = 8)"
      ],
      "execution_count": null,
      "outputs": [
        {
          "output_type": "execute_result",
          "data": {
            "text/plain": [
              "<matplotlib.axes._subplots.AxesSubplot at 0x7f9ec6329ed0>"
            ]
          },
          "metadata": {},
          "execution_count": 122
        },
        {
          "output_type": "display_data",
          "data": {
            "image/png": "[encoded data removed]",
            "text/plain": [
              "<Figure size 432x288 with 1 Axes>"
            ]
          },
          "metadata": {
            "needs_background": "light"
          }
        }
      ]
    },
    {
      "cell_type": "code",
      "metadata": {
        "colab": {
          "base_uri": "https://localhost:8080/",
          "height": 421
        },
        "id": "7DRV5cfPn-pp",
        "outputId": "d9ea2161-b468-4dfd-d2c7-d67d90c9db62"
      },
      "source": [
        "import matplotlib.pyplot as plt\n",
        "\n",
        "plt.figure(figsize = (8,6))\n",
        "plt.hist(err, label = \"Errors\", bins = 7)\n",
        "\n",
        "\n",
        "plt.xlabel(\"Diff BTC% change\")\n",
        "plt.ylabel(\"Frequency\")\n",
        "plt.title(\"Errors Hist\")"
      ],
      "execution_count": null,
      "outputs": [
        {
          "output_type": "execute_result",
          "data": {
            "text/plain": [
              "Text(0.5, 1.0, 'Errors Hist')"
            ]
          },
          "metadata": {},
          "execution_count": 124
        },
        {
          "output_type": "display_data",
          "data": {
            "image/png": "[encoded data removed]",
            "text/plain": [
              "<Figure size 576x432 with 1 Axes>"
            ]
          },
          "metadata": {
            "needs_background": "light"
          }
        }
      ]
    },
    {
      "cell_type": "code",
      "metadata": {
        "colab": {
          "base_uri": "https://localhost:8080/"
        },
        "id": "QnpunxhVAUXa",
        "outputId": "0484bc41-1506-4344-a8d4-7b5d29184f9e"
      },
      "source": [
        "reg.score(X_test,Y_test)"
      ],
      "execution_count": null,
      "outputs": [
        {
          "output_type": "execute_result",
          "data": {
            "text/plain": [
              "0.8958044916274408"
            ]
          },
          "metadata": {},
          "execution_count": 123
        }
      ]
    },
    {
      "cell_type": "markdown",
      "metadata": {
        "id": "4Fk-bNRdAwS5"
      },
      "source": [
        "Recency Model (after 2019)\n",
        "\n",
        "DV -> change_BTC\n",
        "\n",
        "IVs -> [\"change_ETH\",\"change_LTC\",\"change_XLM\", \"change_BNB\"]\n",
        "\n",
        "coef, int -> [0.14590034 0.39675488 0.0586252  0.09015267]    [0.77216814]\n",
        "\n",
        "R2 -> 0.76"
      ]
    },
    {
      "cell_type": "code",
      "metadata": {
        "id": "_u5rB4-dow47"
      },
      "source": [
        "def BiWeeklyOutputs(data):\n",
        "  data[\"Weekday\"] = data[\"Date\"].dt.day_name()\n",
        "  weekly = data.loc[(data[\"Weekday\"]==\"Monday\")|(data[\"Weekday\"]==\"Thursday\")]\n",
        "  weekly[\"change\"] = (weekly[\"Adj Close\"].pct_change())*100\n",
        "  weekly.drop([\"High\",\"Low\",\"Close\",\"Volume\",\"Weekday\"], axis=1, inplace = True)\n",
        "  return(weekly)"
      ],
      "execution_count": null,
      "outputs": []
    },
    {
      "cell_type": "code",
      "metadata": {
        "colab": {
          "base_uri": "https://localhost:8080/"
        },
        "id": "glRc9jAXo_Mt",
        "outputId": "a60d1bc4-f2e8-4787-8325-53cc8a1b6623"
      },
      "source": [
        "LTCBiWeekly = BiWeeklyOutputs(LTC)\n",
        "XLMBiWeekly = BiWeeklyOutputs(XLM)\n",
        "BNBBiWeekly = BiWeeklyOutputs(BNB)\n",
        "SP5BiWeekly = BiWeeklyOutputs(SP5)\n",
        "BTCBiWeekly = BiWeeklyOutputs(BTC)\n",
        "DOGEBiWeekly = BiWeeklyOutputs(DOGE)\n",
        "ETHBiWeekly = BiWeeklyOutputs(ETH)"
      ],
      "execution_count": null,
      "outputs": [
        {
          "output_type": "stream",
          "name": "stderr",
          "text": [
            "/usr/local/lib/python3.7/dist-packages/ipykernel_launcher.py:4: SettingWithCopyWarning: \n",
            "A value is trying to be set on a copy of a slice from a DataFrame.\n",
            "Try using .loc[row_indexer,col_indexer] = value instead\n",
            "\n",
            "See the caveats in the documentation: https://pandas.pydata.org/pandas-docs/stable/user_guide/indexing.html#returning-a-view-versus-a-copy\n",
            "  after removing the cwd from sys.path.\n",
            "/usr/local/lib/python3.7/dist-packages/pandas/core/frame.py:4174: SettingWithCopyWarning: \n",
            "A value is trying to be set on a copy of a slice from a DataFrame\n",
            "\n",
            "See the caveats in the documentation: https://pandas.pydata.org/pandas-docs/stable/user_guide/indexing.html#returning-a-view-versus-a-copy\n",
            "  errors=errors,\n"
          ]
        }
      ]
    },
    {
      "cell_type": "code",
      "metadata": {
        "id": "WkFSAqjspJ2T"
      },
      "source": [
        "SP5BiWeeklyReg = SP5BiWeekly[[\"Date\",\"change\"]]\n",
        "SP5BiWeeklyReg.columns = [\"Date\", \"change_SP5\"]\n",
        "\n",
        "BTCBiWeeklyReg = BTCBiWeekly[[\"Date\",\"change\"]]\n",
        "BTCBiWeeklyReg.columns = [\"Date\", \"change_BTC\"]\n",
        "\n",
        "DOGEBiWeeklyReg = DOGEBiWeekly[[\"Date\",\"change\"]]\n",
        "DOGEBiWeeklyReg.columns =  [\"Date\", \"change_DOGE\"]\n",
        "\n",
        "ETHBiWeeklyReg = ETHBiWeekly[[\"Date\",\"change\"]]\n",
        "ETHBiWeeklyReg.columns = [\"Date\", \"change_ETH\"]\n",
        "\n",
        "LTCBiWeeklyReg = LTCBiWeekly[[\"Date\",\"change\"]]\n",
        "XLMBiWeeklyReg = XLMBiWeekly[[\"Date\",\"change\"]]\n",
        "BNBBiWeeklyReg = BNBBiWeekly[[\"Date\",\"change\"]]\n",
        "\n",
        "LTCBiWeeklyReg.columns = [\"Date\", \"change_LTC\"]\n",
        "XLMBiWeeklyReg.columns = [\"Date\", \"change_XLM\"]\n",
        "BNBBiWeeklyReg.columns = [\"Date\", \"change_BNB\"]\n",
        "\n"
      ],
      "execution_count": null,
      "outputs": []
    },
    {
      "cell_type": "code",
      "metadata": {
        "id": "tqypu8v9pyva"
      },
      "source": [
        "BiMerged = SP5BiWeeklyReg.merge(BTCBiWeeklyReg, how = \"inner\", on=\"Date\")\n",
        "BiMerged = BiMerged.merge(DOGEBiWeeklyReg, how = \"inner\", on=\"Date\")\n",
        "BiMerged = BiMerged.merge(ETHBiWeeklyReg, how = \"inner\", on = \"Date\")\n",
        "BiMerged = BiMerged.merge(LTCBiWeeklyReg, how = \"inner\", on = \"Date\")\n",
        "BiMerged = BiMerged.merge(XLMBiWeeklyReg, how = \"inner\", on = \"Date\")\n",
        "BiMerged = BiMerged.merge(BNBBiWeeklyReg, how = \"inner\", on = \"Date\")\n",
        "BiMerged.dropna(inplace = True)"
      ],
      "execution_count": null,
      "outputs": []
    },
    {
      "cell_type": "code",
      "metadata": {
        "id": "0Q8dmnLpqPFC"
      },
      "source": [
        "dateStandard = datetime.strptime(\"2019-01-01\", \"%Y-%d-%m\")\n",
        "BiMergedRecent = BiMerged.loc[BiMerged[\"Date\"] >= dateStandard]"
      ],
      "execution_count": null,
      "outputs": []
    },
    {
      "cell_type": "code",
      "metadata": {
        "colab": {
          "base_uri": "https://localhost:8080/",
          "height": 269
        },
        "id": "VAscLO3yqbv5",
        "outputId": "587129b7-da00-4bf7-980e-c32a050bb8b0"
      },
      "source": [
        "BiMergedRecent.corr()"
      ],
      "execution_count": null,
      "outputs": [
        {
          "output_type": "execute_result",
          "data": {
            "text/html": [
              "<div>\n",
              "<style scoped>\n",
              "    .dataframe tbody tr th:only-of-type {\n",
              "        vertical-align: middle;\n",
              "    }\n",
              "\n",
              "    .dataframe tbody tr th {\n",
              "        vertical-align: top;\n",
              "    }\n",
              "\n",
              "    .dataframe thead th {\n",
              "        text-align: right;\n",
              "    }\n",
              "</style>\n",
              "<table border=\"1\" class=\"dataframe\">\n",
              "  <thead>\n",
              "    <tr style=\"text-align: right;\">\n",
              "      <th></th>\n",
              "      <th>change_SP5</th>\n",
              "      <th>change_BTC</th>\n",
              "      <th>change_DOGE</th>\n",
              "      <th>change_ETH</th>\n",
              "      <th>change_LTC</th>\n",
              "      <th>change_XLM</th>\n",
              "      <th>change_BNB</th>\n",
              "    </tr>\n",
              "  </thead>\n",
              "  <tbody>\n",
              "    <tr>\n",
              "      <th>change_SP5</th>\n",
              "      <td>1.000000</td>\n",
              "      <td>0.230323</td>\n",
              "      <td>0.056331</td>\n",
              "      <td>0.242632</td>\n",
              "      <td>0.242557</td>\n",
              "      <td>0.245619</td>\n",
              "      <td>0.211706</td>\n",
              "    </tr>\n",
              "    <tr>\n",
              "      <th>change_BTC</th>\n",
              "      <td>0.230323</td>\n",
              "      <td>1.000000</td>\n",
              "      <td>0.300792</td>\n",
              "      <td>0.747497</td>\n",
              "      <td>0.771128</td>\n",
              "      <td>0.575796</td>\n",
              "      <td>0.604544</td>\n",
              "    </tr>\n",
              "    <tr>\n",
              "      <th>change_DOGE</th>\n",
              "      <td>0.056331</td>\n",
              "      <td>0.300792</td>\n",
              "      <td>1.000000</td>\n",
              "      <td>0.372864</td>\n",
              "      <td>0.371917</td>\n",
              "      <td>0.350714</td>\n",
              "      <td>0.250726</td>\n",
              "    </tr>\n",
              "    <tr>\n",
              "      <th>change_ETH</th>\n",
              "      <td>0.242632</td>\n",
              "      <td>0.747497</td>\n",
              "      <td>0.372864</td>\n",
              "      <td>1.000000</td>\n",
              "      <td>0.785244</td>\n",
              "      <td>0.685043</td>\n",
              "      <td>0.547643</td>\n",
              "    </tr>\n",
              "    <tr>\n",
              "      <th>change_LTC</th>\n",
              "      <td>0.242557</td>\n",
              "      <td>0.771128</td>\n",
              "      <td>0.371917</td>\n",
              "      <td>0.785244</td>\n",
              "      <td>1.000000</td>\n",
              "      <td>0.603121</td>\n",
              "      <td>0.607494</td>\n",
              "    </tr>\n",
              "    <tr>\n",
              "      <th>change_XLM</th>\n",
              "      <td>0.245619</td>\n",
              "      <td>0.575796</td>\n",
              "      <td>0.350714</td>\n",
              "      <td>0.685043</td>\n",
              "      <td>0.603121</td>\n",
              "      <td>1.000000</td>\n",
              "      <td>0.479828</td>\n",
              "    </tr>\n",
              "    <tr>\n",
              "      <th>change_BNB</th>\n",
              "      <td>0.211706</td>\n",
              "      <td>0.604544</td>\n",
              "      <td>0.250726</td>\n",
              "      <td>0.547643</td>\n",
              "      <td>0.607494</td>\n",
              "      <td>0.479828</td>\n",
              "      <td>1.000000</td>\n",
              "    </tr>\n",
              "  </tbody>\n",
              "</table>\n",
              "</div>"
            ],
            "text/plain": [
              "             change_SP5  change_BTC  ...  change_XLM  change_BNB\n",
              "change_SP5     1.000000    0.230323  ...    0.245619    0.211706\n",
              "change_BTC     0.230323    1.000000  ...    0.575796    0.604544\n",
              "change_DOGE    0.056331    0.300792  ...    0.350714    0.250726\n",
              "change_ETH     0.242632    0.747497  ...    0.685043    0.547643\n",
              "change_LTC     0.242557    0.771128  ...    0.603121    0.607494\n",
              "change_XLM     0.245619    0.575796  ...    1.000000    0.479828\n",
              "change_BNB     0.211706    0.604544  ...    0.479828    1.000000\n",
              "\n",
              "[7 rows x 7 columns]"
            ]
          },
          "metadata": {},
          "execution_count": 131
        }
      ]
    },
    {
      "cell_type": "code",
      "metadata": {
        "id": "3W9-BfCiqhiw"
      },
      "source": [
        "X = BiMergedRecent[[\"change_ETH\",\"change_LTC\", \"change_BNB\"]]\n",
        "Y = BiMergedRecent[[\"change_BTC\"]]\n",
        "\n",
        "X_train, X_test, Y_train, Y_test = train_test_split(X,Y, test_size = 0.2)"
      ],
      "execution_count": null,
      "outputs": []
    },
    {
      "cell_type": "code",
      "metadata": {
        "colab": {
          "base_uri": "https://localhost:8080/"
        },
        "id": "GzQNpqXeqtJF",
        "outputId": "a19cdc8b-aaa5-4995-8fc2-1e46a7301405"
      },
      "source": [
        "reg = linear_model.LinearRegression()\n",
        "reg.fit(pd.DataFrame(X_train),pd.DataFrame(Y_train))\n",
        "print(reg.coef_)\n",
        "print(reg.intercept_)"
      ],
      "execution_count": null,
      "outputs": [
        {
          "output_type": "stream",
          "name": "stdout",
          "text": [
            "[[0.28248398 0.2919488  0.11695001]]\n",
            "[0.19431249]\n"
          ]
        }
      ]
    },
    {
      "cell_type": "code",
      "metadata": {
        "colab": {
          "base_uri": "https://localhost:8080/",
          "height": 282
        },
        "id": "iZJwlJXIqzh7",
        "outputId": "dd049e48-f07f-4efe-cbf6-460d834aa1e3"
      },
      "source": [
        "pred = reg.predict(X_test)\n",
        "err = pd.Series(Y_test[\"change_BTC\"]) - [p[0]for p in pred]\n",
        "err.hist(bins = 8)"
      ],
      "execution_count": null,
      "outputs": [
        {
          "output_type": "execute_result",
          "data": {
            "text/plain": [
              "<matplotlib.axes._subplots.AxesSubplot at 0x7f9ec5d09e90>"
            ]
          },
          "metadata": {},
          "execution_count": 331
        },
        {
          "output_type": "display_data",
          "data": {
            "image/png": "[encoded data removed]",
            "text/plain": [
              "<Figure size 432x288 with 1 Axes>"
            ]
          },
          "metadata": {
            "needs_background": "light"
          }
        }
      ]
    },
    {
      "cell_type": "code",
      "metadata": {
        "colab": {
          "base_uri": "https://localhost:8080/",
          "height": 421
        },
        "id": "Ix_uMuoSs_Cc",
        "outputId": "b1ae7b83-99a1-40ca-f938-d75cade6dcc1"
      },
      "source": [
        "import matplotlib.pyplot as plt\n",
        "\n",
        "plt.figure(figsize = (8,6))\n",
        "plt.hist(err, label = \"Errors\", bins = 10)\n",
        "\n",
        "\n",
        "plt.xlabel(\"Diff BTC% change\")\n",
        "plt.ylabel(\"Frequency\")\n",
        "plt.title(\"Errors Hist\")"
      ],
      "execution_count": null,
      "outputs": [
        {
          "output_type": "execute_result",
          "data": {
            "text/plain": [
              "Text(0.5, 1.0, 'Errors Hist')"
            ]
          },
          "metadata": {},
          "execution_count": 332
        },
        {
          "output_type": "display_data",
          "data": {
            "image/png": "[encoded data removed]",
            "text/plain": [
              "<Figure size 576x432 with 1 Axes>"
            ]
          },
          "metadata": {
            "needs_background": "light"
          }
        }
      ]
    },
    {
      "cell_type": "code",
      "metadata": {
        "colab": {
          "base_uri": "https://localhost:8080/"
        },
        "id": "C_d45bYZq3IB",
        "outputId": "21c23016-7b00-4a30-c6ff-77e4b2f441d7"
      },
      "source": [
        "reg.score(X_test,Y_test)"
      ],
      "execution_count": null,
      "outputs": [
        {
          "output_type": "execute_result",
          "data": {
            "text/plain": [
              "0.7862167529446666"
            ]
          },
          "metadata": {},
          "execution_count": 330
        }
      ]
    },
    {
      "cell_type": "code",
      "metadata": {
        "colab": {
          "base_uri": "https://localhost:8080/"
        },
        "id": "mXk2PX2EsjEc",
        "outputId": "d306a594-e3db-4eda-b8a2-f2f08d286046"
      },
      "source": [
        "len(Y_train[\"change_BTC\"])"
      ],
      "execution_count": null,
      "outputs": [
        {
          "output_type": "execute_result",
          "data": {
            "text/plain": [
              "222"
            ]
          },
          "metadata": {},
          "execution_count": 281
        }
      ]
    }
  ]
}